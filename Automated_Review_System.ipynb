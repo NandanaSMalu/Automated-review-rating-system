{
  "cells": [
    {
      "cell_type": "markdown",
      "metadata": {
        "id": "view-in-github",
        "colab_type": "text"
      },
      "source": [
        "<a href=\"https://colab.research.google.com/github/NandanaSMalu/Automated-review-rating-system/blob/main/Automated_Review_System.ipynb\" target=\"_parent\"><img src=\"https://colab.research.google.com/assets/colab-badge.svg\" alt=\"Open In Colab\"/></a>"
      ]
    },
    {
      "cell_type": "code",
      "execution_count": 1,
      "metadata": {
        "id": "MooPsdSXYxnN"
      },
      "outputs": [],
      "source": [
        "import pandas as pd\n",
        "import numpy as np\n"
      ]
    },
    {
      "cell_type": "code",
      "execution_count": 2,
      "metadata": {
        "id": "OoWEyg_pOH5V"
      },
      "outputs": [],
      "source": [
        "import random\n",
        "\n",
        "# Set global random seed\n",
        "SEED = 42\n",
        "np.random.seed(SEED)\n",
        "random.seed(SEED)"
      ]
    },
    {
      "cell_type": "markdown",
      "metadata": {
        "id": "Gd2xibcmZSbd"
      },
      "source": [
        "## **LOAD DATASETS**"
      ]
    },
    {
      "cell_type": "code",
      "execution_count": 4,
      "metadata": {
        "colab": {
          "base_uri": "https://localhost:8080/",
          "height": 632
        },
        "id": "hm3Kz4OMZIdN",
        "outputId": "a48be56b-6456-462d-91ef-1f9aca85f802"
      },
      "outputs": [
        {
          "output_type": "execute_result",
          "data": {
            "text/plain": [
              "            Id   ProductId          UserId                      ProfileName  \\\n",
              "0            1  B001E4KFG0  A3SGXH7AUHU8GW                       delmartian   \n",
              "1            2  B00813GRG4  A1D87F6ZCVE5NK                           dll pa   \n",
              "2            3  B000LQOCH0   ABXLMWJIXXAIN  Natalia Corres \"Natalia Corres\"   \n",
              "3            4  B000UA0QIQ  A395BORC6FGVXV                             Karl   \n",
              "4            5  B006K2ZZ7K  A1UQRSCLF8GW1T    Michael D. Bigham \"M. Wassir\"   \n",
              "...        ...         ...             ...                              ...   \n",
              "568449  568450  B001EO7N10  A28KG5XORO54AY                 Lettie D. Carter   \n",
              "568450  568451  B003S1WTCU  A3I8AFVPEE8KI5                        R. Sawyer   \n",
              "568451  568452  B004I613EE  A121AA1GQV751Z                    pksd \"pk_007\"   \n",
              "568452  568453  B004I613EE   A3IBEVCTXKNOH          Kathy A. Welch \"katwel\"   \n",
              "568453  568454  B001LR2CU2  A3LGQPJCZVL9UC                         srfell17   \n",
              "\n",
              "        HelpfulnessNumerator  HelpfulnessDenominator  Score        Time  \\\n",
              "0                          1                       1      5  1303862400   \n",
              "1                          0                       0      1  1346976000   \n",
              "2                          1                       1      4  1219017600   \n",
              "3                          3                       3      2  1307923200   \n",
              "4                          0                       0      5  1350777600   \n",
              "...                      ...                     ...    ...         ...   \n",
              "568449                     0                       0      5  1299628800   \n",
              "568450                     0                       0      2  1331251200   \n",
              "568451                     2                       2      5  1329782400   \n",
              "568452                     1                       1      5  1331596800   \n",
              "568453                     0                       0      5  1338422400   \n",
              "\n",
              "                                   Summary  \\\n",
              "0                    Good Quality Dog Food   \n",
              "1                        Not as Advertised   \n",
              "2                    \"Delight\" says it all   \n",
              "3                           Cough Medicine   \n",
              "4                              Great taffy   \n",
              "...                                    ...   \n",
              "568449                 Will not do without   \n",
              "568450                        disappointed   \n",
              "568451            Perfect for our maltipoo   \n",
              "568452  Favorite Training and reward treat   \n",
              "568453                         Great Honey   \n",
              "\n",
              "                                                     Text  \n",
              "0       I have bought several of the Vitality canned d...  \n",
              "1       Product arrived labeled as Jumbo Salted Peanut...  \n",
              "2       This is a confection that has been around a fe...  \n",
              "3       If you are looking for the secret ingredient i...  \n",
              "4       Great taffy at a great price.  There was a wid...  \n",
              "...                                                   ...  \n",
              "568449  Great for sesame chicken..this is a good if no...  \n",
              "568450  I'm disappointed with the flavor. The chocolat...  \n",
              "568451  These stars are small, so you can give 10-15 o...  \n",
              "568452  These are the BEST treats for training and rew...  \n",
              "568453  I am very satisfied ,product is as advertised,...  \n",
              "\n",
              "[568454 rows x 10 columns]"
            ],
            "text/html": [
              "\n",
              "  <div id=\"df-ef57a836-7f07-4f86-ae23-4f50025f5306\" class=\"colab-df-container\">\n",
              "    <div>\n",
              "<style scoped>\n",
              "    .dataframe tbody tr th:only-of-type {\n",
              "        vertical-align: middle;\n",
              "    }\n",
              "\n",
              "    .dataframe tbody tr th {\n",
              "        vertical-align: top;\n",
              "    }\n",
              "\n",
              "    .dataframe thead th {\n",
              "        text-align: right;\n",
              "    }\n",
              "</style>\n",
              "<table border=\"1\" class=\"dataframe\">\n",
              "  <thead>\n",
              "    <tr style=\"text-align: right;\">\n",
              "      <th></th>\n",
              "      <th>Id</th>\n",
              "      <th>ProductId</th>\n",
              "      <th>UserId</th>\n",
              "      <th>ProfileName</th>\n",
              "      <th>HelpfulnessNumerator</th>\n",
              "      <th>HelpfulnessDenominator</th>\n",
              "      <th>Score</th>\n",
              "      <th>Time</th>\n",
              "      <th>Summary</th>\n",
              "      <th>Text</th>\n",
              "    </tr>\n",
              "  </thead>\n",
              "  <tbody>\n",
              "    <tr>\n",
              "      <th>0</th>\n",
              "      <td>1</td>\n",
              "      <td>B001E4KFG0</td>\n",
              "      <td>A3SGXH7AUHU8GW</td>\n",
              "      <td>delmartian</td>\n",
              "      <td>1</td>\n",
              "      <td>1</td>\n",
              "      <td>5</td>\n",
              "      <td>1303862400</td>\n",
              "      <td>Good Quality Dog Food</td>\n",
              "      <td>I have bought several of the Vitality canned d...</td>\n",
              "    </tr>\n",
              "    <tr>\n",
              "      <th>1</th>\n",
              "      <td>2</td>\n",
              "      <td>B00813GRG4</td>\n",
              "      <td>A1D87F6ZCVE5NK</td>\n",
              "      <td>dll pa</td>\n",
              "      <td>0</td>\n",
              "      <td>0</td>\n",
              "      <td>1</td>\n",
              "      <td>1346976000</td>\n",
              "      <td>Not as Advertised</td>\n",
              "      <td>Product arrived labeled as Jumbo Salted Peanut...</td>\n",
              "    </tr>\n",
              "    <tr>\n",
              "      <th>2</th>\n",
              "      <td>3</td>\n",
              "      <td>B000LQOCH0</td>\n",
              "      <td>ABXLMWJIXXAIN</td>\n",
              "      <td>Natalia Corres \"Natalia Corres\"</td>\n",
              "      <td>1</td>\n",
              "      <td>1</td>\n",
              "      <td>4</td>\n",
              "      <td>1219017600</td>\n",
              "      <td>\"Delight\" says it all</td>\n",
              "      <td>This is a confection that has been around a fe...</td>\n",
              "    </tr>\n",
              "    <tr>\n",
              "      <th>3</th>\n",
              "      <td>4</td>\n",
              "      <td>B000UA0QIQ</td>\n",
              "      <td>A395BORC6FGVXV</td>\n",
              "      <td>Karl</td>\n",
              "      <td>3</td>\n",
              "      <td>3</td>\n",
              "      <td>2</td>\n",
              "      <td>1307923200</td>\n",
              "      <td>Cough Medicine</td>\n",
              "      <td>If you are looking for the secret ingredient i...</td>\n",
              "    </tr>\n",
              "    <tr>\n",
              "      <th>4</th>\n",
              "      <td>5</td>\n",
              "      <td>B006K2ZZ7K</td>\n",
              "      <td>A1UQRSCLF8GW1T</td>\n",
              "      <td>Michael D. Bigham \"M. Wassir\"</td>\n",
              "      <td>0</td>\n",
              "      <td>0</td>\n",
              "      <td>5</td>\n",
              "      <td>1350777600</td>\n",
              "      <td>Great taffy</td>\n",
              "      <td>Great taffy at a great price.  There was a wid...</td>\n",
              "    </tr>\n",
              "    <tr>\n",
              "      <th>...</th>\n",
              "      <td>...</td>\n",
              "      <td>...</td>\n",
              "      <td>...</td>\n",
              "      <td>...</td>\n",
              "      <td>...</td>\n",
              "      <td>...</td>\n",
              "      <td>...</td>\n",
              "      <td>...</td>\n",
              "      <td>...</td>\n",
              "      <td>...</td>\n",
              "    </tr>\n",
              "    <tr>\n",
              "      <th>568449</th>\n",
              "      <td>568450</td>\n",
              "      <td>B001EO7N10</td>\n",
              "      <td>A28KG5XORO54AY</td>\n",
              "      <td>Lettie D. Carter</td>\n",
              "      <td>0</td>\n",
              "      <td>0</td>\n",
              "      <td>5</td>\n",
              "      <td>1299628800</td>\n",
              "      <td>Will not do without</td>\n",
              "      <td>Great for sesame chicken..this is a good if no...</td>\n",
              "    </tr>\n",
              "    <tr>\n",
              "      <th>568450</th>\n",
              "      <td>568451</td>\n",
              "      <td>B003S1WTCU</td>\n",
              "      <td>A3I8AFVPEE8KI5</td>\n",
              "      <td>R. Sawyer</td>\n",
              "      <td>0</td>\n",
              "      <td>0</td>\n",
              "      <td>2</td>\n",
              "      <td>1331251200</td>\n",
              "      <td>disappointed</td>\n",
              "      <td>I'm disappointed with the flavor. The chocolat...</td>\n",
              "    </tr>\n",
              "    <tr>\n",
              "      <th>568451</th>\n",
              "      <td>568452</td>\n",
              "      <td>B004I613EE</td>\n",
              "      <td>A121AA1GQV751Z</td>\n",
              "      <td>pksd \"pk_007\"</td>\n",
              "      <td>2</td>\n",
              "      <td>2</td>\n",
              "      <td>5</td>\n",
              "      <td>1329782400</td>\n",
              "      <td>Perfect for our maltipoo</td>\n",
              "      <td>These stars are small, so you can give 10-15 o...</td>\n",
              "    </tr>\n",
              "    <tr>\n",
              "      <th>568452</th>\n",
              "      <td>568453</td>\n",
              "      <td>B004I613EE</td>\n",
              "      <td>A3IBEVCTXKNOH</td>\n",
              "      <td>Kathy A. Welch \"katwel\"</td>\n",
              "      <td>1</td>\n",
              "      <td>1</td>\n",
              "      <td>5</td>\n",
              "      <td>1331596800</td>\n",
              "      <td>Favorite Training and reward treat</td>\n",
              "      <td>These are the BEST treats for training and rew...</td>\n",
              "    </tr>\n",
              "    <tr>\n",
              "      <th>568453</th>\n",
              "      <td>568454</td>\n",
              "      <td>B001LR2CU2</td>\n",
              "      <td>A3LGQPJCZVL9UC</td>\n",
              "      <td>srfell17</td>\n",
              "      <td>0</td>\n",
              "      <td>0</td>\n",
              "      <td>5</td>\n",
              "      <td>1338422400</td>\n",
              "      <td>Great Honey</td>\n",
              "      <td>I am very satisfied ,product is as advertised,...</td>\n",
              "    </tr>\n",
              "  </tbody>\n",
              "</table>\n",
              "<p>568454 rows × 10 columns</p>\n",
              "</div>\n",
              "    <div class=\"colab-df-buttons\">\n",
              "\n",
              "  <div class=\"colab-df-container\">\n",
              "    <button class=\"colab-df-convert\" onclick=\"convertToInteractive('df-ef57a836-7f07-4f86-ae23-4f50025f5306')\"\n",
              "            title=\"Convert this dataframe to an interactive table.\"\n",
              "            style=\"display:none;\">\n",
              "\n",
              "  <svg xmlns=\"http://www.w3.org/2000/svg\" height=\"24px\" viewBox=\"0 -960 960 960\">\n",
              "    <path d=\"M120-120v-720h720v720H120Zm60-500h600v-160H180v160Zm220 220h160v-160H400v160Zm0 220h160v-160H400v160ZM180-400h160v-160H180v160Zm440 0h160v-160H620v160ZM180-180h160v-160H180v160Zm440 0h160v-160H620v160Z\"/>\n",
              "  </svg>\n",
              "    </button>\n",
              "\n",
              "  <style>\n",
              "    .colab-df-container {\n",
              "      display:flex;\n",
              "      gap: 12px;\n",
              "    }\n",
              "\n",
              "    .colab-df-convert {\n",
              "      background-color: #E8F0FE;\n",
              "      border: none;\n",
              "      border-radius: 50%;\n",
              "      cursor: pointer;\n",
              "      display: none;\n",
              "      fill: #1967D2;\n",
              "      height: 32px;\n",
              "      padding: 0 0 0 0;\n",
              "      width: 32px;\n",
              "    }\n",
              "\n",
              "    .colab-df-convert:hover {\n",
              "      background-color: #E2EBFA;\n",
              "      box-shadow: 0px 1px 2px rgba(60, 64, 67, 0.3), 0px 1px 3px 1px rgba(60, 64, 67, 0.15);\n",
              "      fill: #174EA6;\n",
              "    }\n",
              "\n",
              "    .colab-df-buttons div {\n",
              "      margin-bottom: 4px;\n",
              "    }\n",
              "\n",
              "    [theme=dark] .colab-df-convert {\n",
              "      background-color: #3B4455;\n",
              "      fill: #D2E3FC;\n",
              "    }\n",
              "\n",
              "    [theme=dark] .colab-df-convert:hover {\n",
              "      background-color: #434B5C;\n",
              "      box-shadow: 0px 1px 3px 1px rgba(0, 0, 0, 0.15);\n",
              "      filter: drop-shadow(0px 1px 2px rgba(0, 0, 0, 0.3));\n",
              "      fill: #FFFFFF;\n",
              "    }\n",
              "  </style>\n",
              "\n",
              "    <script>\n",
              "      const buttonEl =\n",
              "        document.querySelector('#df-ef57a836-7f07-4f86-ae23-4f50025f5306 button.colab-df-convert');\n",
              "      buttonEl.style.display =\n",
              "        google.colab.kernel.accessAllowed ? 'block' : 'none';\n",
              "\n",
              "      async function convertToInteractive(key) {\n",
              "        const element = document.querySelector('#df-ef57a836-7f07-4f86-ae23-4f50025f5306');\n",
              "        const dataTable =\n",
              "          await google.colab.kernel.invokeFunction('convertToInteractive',\n",
              "                                                    [key], {});\n",
              "        if (!dataTable) return;\n",
              "\n",
              "        const docLinkHtml = 'Like what you see? Visit the ' +\n",
              "          '<a target=\"_blank\" href=https://colab.research.google.com/notebooks/data_table.ipynb>data table notebook</a>'\n",
              "          + ' to learn more about interactive tables.';\n",
              "        element.innerHTML = '';\n",
              "        dataTable['output_type'] = 'display_data';\n",
              "        await google.colab.output.renderOutput(dataTable, element);\n",
              "        const docLink = document.createElement('div');\n",
              "        docLink.innerHTML = docLinkHtml;\n",
              "        element.appendChild(docLink);\n",
              "      }\n",
              "    </script>\n",
              "  </div>\n",
              "\n",
              "\n",
              "    <div id=\"df-611eb9ce-d679-41cd-9229-ce904da16307\">\n",
              "      <button class=\"colab-df-quickchart\" onclick=\"quickchart('df-611eb9ce-d679-41cd-9229-ce904da16307')\"\n",
              "                title=\"Suggest charts\"\n",
              "                style=\"display:none;\">\n",
              "\n",
              "<svg xmlns=\"http://www.w3.org/2000/svg\" height=\"24px\"viewBox=\"0 0 24 24\"\n",
              "     width=\"24px\">\n",
              "    <g>\n",
              "        <path d=\"M19 3H5c-1.1 0-2 .9-2 2v14c0 1.1.9 2 2 2h14c1.1 0 2-.9 2-2V5c0-1.1-.9-2-2-2zM9 17H7v-7h2v7zm4 0h-2V7h2v10zm4 0h-2v-4h2v4z\"/>\n",
              "    </g>\n",
              "</svg>\n",
              "      </button>\n",
              "\n",
              "<style>\n",
              "  .colab-df-quickchart {\n",
              "      --bg-color: #E8F0FE;\n",
              "      --fill-color: #1967D2;\n",
              "      --hover-bg-color: #E2EBFA;\n",
              "      --hover-fill-color: #174EA6;\n",
              "      --disabled-fill-color: #AAA;\n",
              "      --disabled-bg-color: #DDD;\n",
              "  }\n",
              "\n",
              "  [theme=dark] .colab-df-quickchart {\n",
              "      --bg-color: #3B4455;\n",
              "      --fill-color: #D2E3FC;\n",
              "      --hover-bg-color: #434B5C;\n",
              "      --hover-fill-color: #FFFFFF;\n",
              "      --disabled-bg-color: #3B4455;\n",
              "      --disabled-fill-color: #666;\n",
              "  }\n",
              "\n",
              "  .colab-df-quickchart {\n",
              "    background-color: var(--bg-color);\n",
              "    border: none;\n",
              "    border-radius: 50%;\n",
              "    cursor: pointer;\n",
              "    display: none;\n",
              "    fill: var(--fill-color);\n",
              "    height: 32px;\n",
              "    padding: 0;\n",
              "    width: 32px;\n",
              "  }\n",
              "\n",
              "  .colab-df-quickchart:hover {\n",
              "    background-color: var(--hover-bg-color);\n",
              "    box-shadow: 0 1px 2px rgba(60, 64, 67, 0.3), 0 1px 3px 1px rgba(60, 64, 67, 0.15);\n",
              "    fill: var(--button-hover-fill-color);\n",
              "  }\n",
              "\n",
              "  .colab-df-quickchart-complete:disabled,\n",
              "  .colab-df-quickchart-complete:disabled:hover {\n",
              "    background-color: var(--disabled-bg-color);\n",
              "    fill: var(--disabled-fill-color);\n",
              "    box-shadow: none;\n",
              "  }\n",
              "\n",
              "  .colab-df-spinner {\n",
              "    border: 2px solid var(--fill-color);\n",
              "    border-color: transparent;\n",
              "    border-bottom-color: var(--fill-color);\n",
              "    animation:\n",
              "      spin 1s steps(1) infinite;\n",
              "  }\n",
              "\n",
              "  @keyframes spin {\n",
              "    0% {\n",
              "      border-color: transparent;\n",
              "      border-bottom-color: var(--fill-color);\n",
              "      border-left-color: var(--fill-color);\n",
              "    }\n",
              "    20% {\n",
              "      border-color: transparent;\n",
              "      border-left-color: var(--fill-color);\n",
              "      border-top-color: var(--fill-color);\n",
              "    }\n",
              "    30% {\n",
              "      border-color: transparent;\n",
              "      border-left-color: var(--fill-color);\n",
              "      border-top-color: var(--fill-color);\n",
              "      border-right-color: var(--fill-color);\n",
              "    }\n",
              "    40% {\n",
              "      border-color: transparent;\n",
              "      border-right-color: var(--fill-color);\n",
              "      border-top-color: var(--fill-color);\n",
              "    }\n",
              "    60% {\n",
              "      border-color: transparent;\n",
              "      border-right-color: var(--fill-color);\n",
              "    }\n",
              "    80% {\n",
              "      border-color: transparent;\n",
              "      border-right-color: var(--fill-color);\n",
              "      border-bottom-color: var(--fill-color);\n",
              "    }\n",
              "    90% {\n",
              "      border-color: transparent;\n",
              "      border-bottom-color: var(--fill-color);\n",
              "    }\n",
              "  }\n",
              "</style>\n",
              "\n",
              "      <script>\n",
              "        async function quickchart(key) {\n",
              "          const quickchartButtonEl =\n",
              "            document.querySelector('#' + key + ' button');\n",
              "          quickchartButtonEl.disabled = true;  // To prevent multiple clicks.\n",
              "          quickchartButtonEl.classList.add('colab-df-spinner');\n",
              "          try {\n",
              "            const charts = await google.colab.kernel.invokeFunction(\n",
              "                'suggestCharts', [key], {});\n",
              "          } catch (error) {\n",
              "            console.error('Error during call to suggestCharts:', error);\n",
              "          }\n",
              "          quickchartButtonEl.classList.remove('colab-df-spinner');\n",
              "          quickchartButtonEl.classList.add('colab-df-quickchart-complete');\n",
              "        }\n",
              "        (() => {\n",
              "          let quickchartButtonEl =\n",
              "            document.querySelector('#df-611eb9ce-d679-41cd-9229-ce904da16307 button');\n",
              "          quickchartButtonEl.style.display =\n",
              "            google.colab.kernel.accessAllowed ? 'block' : 'none';\n",
              "        })();\n",
              "      </script>\n",
              "    </div>\n",
              "\n",
              "  <div id=\"id_bbcdb876-f9c0-495d-a304-d9d37da00616\">\n",
              "    <style>\n",
              "      .colab-df-generate {\n",
              "        background-color: #E8F0FE;\n",
              "        border: none;\n",
              "        border-radius: 50%;\n",
              "        cursor: pointer;\n",
              "        display: none;\n",
              "        fill: #1967D2;\n",
              "        height: 32px;\n",
              "        padding: 0 0 0 0;\n",
              "        width: 32px;\n",
              "      }\n",
              "\n",
              "      .colab-df-generate:hover {\n",
              "        background-color: #E2EBFA;\n",
              "        box-shadow: 0px 1px 2px rgba(60, 64, 67, 0.3), 0px 1px 3px 1px rgba(60, 64, 67, 0.15);\n",
              "        fill: #174EA6;\n",
              "      }\n",
              "\n",
              "      [theme=dark] .colab-df-generate {\n",
              "        background-color: #3B4455;\n",
              "        fill: #D2E3FC;\n",
              "      }\n",
              "\n",
              "      [theme=dark] .colab-df-generate:hover {\n",
              "        background-color: #434B5C;\n",
              "        box-shadow: 0px 1px 3px 1px rgba(0, 0, 0, 0.15);\n",
              "        filter: drop-shadow(0px 1px 2px rgba(0, 0, 0, 0.3));\n",
              "        fill: #FFFFFF;\n",
              "      }\n",
              "    </style>\n",
              "    <button class=\"colab-df-generate\" onclick=\"generateWithVariable('reviews_df')\"\n",
              "            title=\"Generate code using this dataframe.\"\n",
              "            style=\"display:none;\">\n",
              "\n",
              "  <svg xmlns=\"http://www.w3.org/2000/svg\" height=\"24px\"viewBox=\"0 0 24 24\"\n",
              "       width=\"24px\">\n",
              "    <path d=\"M7,19H8.4L18.45,9,17,7.55,7,17.6ZM5,21V16.75L18.45,3.32a2,2,0,0,1,2.83,0l1.4,1.43a1.91,1.91,0,0,1,.58,1.4,1.91,1.91,0,0,1-.58,1.4L9.25,21ZM18.45,9,17,7.55Zm-12,3A5.31,5.31,0,0,0,4.9,8.1,5.31,5.31,0,0,0,1,6.5,5.31,5.31,0,0,0,4.9,4.9,5.31,5.31,0,0,0,6.5,1,5.31,5.31,0,0,0,8.1,4.9,5.31,5.31,0,0,0,12,6.5,5.46,5.46,0,0,0,6.5,12Z\"/>\n",
              "  </svg>\n",
              "    </button>\n",
              "    <script>\n",
              "      (() => {\n",
              "      const buttonEl =\n",
              "        document.querySelector('#id_bbcdb876-f9c0-495d-a304-d9d37da00616 button.colab-df-generate');\n",
              "      buttonEl.style.display =\n",
              "        google.colab.kernel.accessAllowed ? 'block' : 'none';\n",
              "\n",
              "      buttonEl.onclick = () => {\n",
              "        google.colab.notebook.generateWithVariable('reviews_df');\n",
              "      }\n",
              "      })();\n",
              "    </script>\n",
              "  </div>\n",
              "\n",
              "    </div>\n",
              "  </div>\n"
            ],
            "application/vnd.google.colaboratory.intrinsic+json": {
              "type": "dataframe",
              "variable_name": "reviews_df"
            }
          },
          "metadata": {},
          "execution_count": 4
        }
      ],
      "source": [
        "\n",
        "reviews_df = pd.read_csv(\"/content/Reviews.csv\")\n",
        "reviews_df"
      ]
    },
    {
      "cell_type": "code",
      "execution_count": 3,
      "metadata": {
        "colab": {
          "base_uri": "https://localhost:8080/",
          "height": 423
        },
        "id": "xrRIR0scZZHI",
        "outputId": "3cbb980f-22a7-42d9-a3c8-cced0362e173"
      },
      "outputs": [
        {
          "output_type": "execute_result",
          "data": {
            "text/plain": [
              "                                              ProductName     Price Rate  \\\n",
              "0       Candes 12 L Room/Personal Air Cooler?ÿ?ÿ(White...  ??3,999    5   \n",
              "1       Candes 12 L Room/Personal Air Cooler?ÿ?ÿ(White...  ??3,999    5   \n",
              "2       Candes 12 L Room/Personal Air Cooler?ÿ?ÿ(White...  ??3,999    3   \n",
              "3       Candes 12 L Room/Personal Air Cooler?ÿ?ÿ(White...  ??3,999    1   \n",
              "4       Candes 12 L Room/Personal Air Cooler?ÿ?ÿ(White...  ??3,999    3   \n",
              "...                                                   ...       ...  ...   \n",
              "189869  NIVEA Soft Light Moisturizer for Face, Hand & ...    â¹142    5   \n",
              "189870  NIVEA Soft Light Moisturizer for Face, Hand & ...    â¹142    5   \n",
              "189871  NIVEA Soft Light Moisturizer for Face, Hand & ...    â¹142    5   \n",
              "189872  NIVEA Soft Light Moisturizer for Face, Hand & ...    â¹142    4   \n",
              "189873                                                  \u001a       NaN  NaN   \n",
              "\n",
              "                 Review                                            Summary  \n",
              "0                Super!  Great cooler.. excellent air flow and for this...  \n",
              "1               Awesome             Best budget 2 fit cooler. Nice cooling  \n",
              "2                  Fair  The quality is good but the power of air is de...  \n",
              "3       Useless product                 Very bad product it's a only a fan  \n",
              "4                  Fair                                      Ok ok product  \n",
              "...                 ...                                                ...  \n",
              "189869         Terrific                                             Thanks  \n",
              "189870         Terrific                                               Good  \n",
              "189871        Just wow!                                              Super  \n",
              "189872  Worth the money                                               Good  \n",
              "189873              NaN                                                NaN  \n",
              "\n",
              "[189874 rows x 5 columns]"
            ],
            "text/html": [
              "\n",
              "  <div id=\"df-cfbcf954-131d-42a7-bdd0-0cce3fe158bb\" class=\"colab-df-container\">\n",
              "    <div>\n",
              "<style scoped>\n",
              "    .dataframe tbody tr th:only-of-type {\n",
              "        vertical-align: middle;\n",
              "    }\n",
              "\n",
              "    .dataframe tbody tr th {\n",
              "        vertical-align: top;\n",
              "    }\n",
              "\n",
              "    .dataframe thead th {\n",
              "        text-align: right;\n",
              "    }\n",
              "</style>\n",
              "<table border=\"1\" class=\"dataframe\">\n",
              "  <thead>\n",
              "    <tr style=\"text-align: right;\">\n",
              "      <th></th>\n",
              "      <th>ProductName</th>\n",
              "      <th>Price</th>\n",
              "      <th>Rate</th>\n",
              "      <th>Review</th>\n",
              "      <th>Summary</th>\n",
              "    </tr>\n",
              "  </thead>\n",
              "  <tbody>\n",
              "    <tr>\n",
              "      <th>0</th>\n",
              "      <td>Candes 12 L Room/Personal Air Cooler?ÿ?ÿ(White...</td>\n",
              "      <td>??3,999</td>\n",
              "      <td>5</td>\n",
              "      <td>Super!</td>\n",
              "      <td>Great cooler.. excellent air flow and for this...</td>\n",
              "    </tr>\n",
              "    <tr>\n",
              "      <th>1</th>\n",
              "      <td>Candes 12 L Room/Personal Air Cooler?ÿ?ÿ(White...</td>\n",
              "      <td>??3,999</td>\n",
              "      <td>5</td>\n",
              "      <td>Awesome</td>\n",
              "      <td>Best budget 2 fit cooler. Nice cooling</td>\n",
              "    </tr>\n",
              "    <tr>\n",
              "      <th>2</th>\n",
              "      <td>Candes 12 L Room/Personal Air Cooler?ÿ?ÿ(White...</td>\n",
              "      <td>??3,999</td>\n",
              "      <td>3</td>\n",
              "      <td>Fair</td>\n",
              "      <td>The quality is good but the power of air is de...</td>\n",
              "    </tr>\n",
              "    <tr>\n",
              "      <th>3</th>\n",
              "      <td>Candes 12 L Room/Personal Air Cooler?ÿ?ÿ(White...</td>\n",
              "      <td>??3,999</td>\n",
              "      <td>1</td>\n",
              "      <td>Useless product</td>\n",
              "      <td>Very bad product it's a only a fan</td>\n",
              "    </tr>\n",
              "    <tr>\n",
              "      <th>4</th>\n",
              "      <td>Candes 12 L Room/Personal Air Cooler?ÿ?ÿ(White...</td>\n",
              "      <td>??3,999</td>\n",
              "      <td>3</td>\n",
              "      <td>Fair</td>\n",
              "      <td>Ok ok product</td>\n",
              "    </tr>\n",
              "    <tr>\n",
              "      <th>...</th>\n",
              "      <td>...</td>\n",
              "      <td>...</td>\n",
              "      <td>...</td>\n",
              "      <td>...</td>\n",
              "      <td>...</td>\n",
              "    </tr>\n",
              "    <tr>\n",
              "      <th>189869</th>\n",
              "      <td>NIVEA Soft Light Moisturizer for Face, Hand &amp; ...</td>\n",
              "      <td>â¹142</td>\n",
              "      <td>5</td>\n",
              "      <td>Terrific</td>\n",
              "      <td>Thanks</td>\n",
              "    </tr>\n",
              "    <tr>\n",
              "      <th>189870</th>\n",
              "      <td>NIVEA Soft Light Moisturizer for Face, Hand &amp; ...</td>\n",
              "      <td>â¹142</td>\n",
              "      <td>5</td>\n",
              "      <td>Terrific</td>\n",
              "      <td>Good</td>\n",
              "    </tr>\n",
              "    <tr>\n",
              "      <th>189871</th>\n",
              "      <td>NIVEA Soft Light Moisturizer for Face, Hand &amp; ...</td>\n",
              "      <td>â¹142</td>\n",
              "      <td>5</td>\n",
              "      <td>Just wow!</td>\n",
              "      <td>Super</td>\n",
              "    </tr>\n",
              "    <tr>\n",
              "      <th>189872</th>\n",
              "      <td>NIVEA Soft Light Moisturizer for Face, Hand &amp; ...</td>\n",
              "      <td>â¹142</td>\n",
              "      <td>4</td>\n",
              "      <td>Worth the money</td>\n",
              "      <td>Good</td>\n",
              "    </tr>\n",
              "    <tr>\n",
              "      <th>189873</th>\n",
              "      <td>\u001a</td>\n",
              "      <td>NaN</td>\n",
              "      <td>NaN</td>\n",
              "      <td>NaN</td>\n",
              "      <td>NaN</td>\n",
              "    </tr>\n",
              "  </tbody>\n",
              "</table>\n",
              "<p>189874 rows × 5 columns</p>\n",
              "</div>\n",
              "    <div class=\"colab-df-buttons\">\n",
              "\n",
              "  <div class=\"colab-df-container\">\n",
              "    <button class=\"colab-df-convert\" onclick=\"convertToInteractive('df-cfbcf954-131d-42a7-bdd0-0cce3fe158bb')\"\n",
              "            title=\"Convert this dataframe to an interactive table.\"\n",
              "            style=\"display:none;\">\n",
              "\n",
              "  <svg xmlns=\"http://www.w3.org/2000/svg\" height=\"24px\" viewBox=\"0 -960 960 960\">\n",
              "    <path d=\"M120-120v-720h720v720H120Zm60-500h600v-160H180v160Zm220 220h160v-160H400v160Zm0 220h160v-160H400v160ZM180-400h160v-160H180v160Zm440 0h160v-160H620v160ZM180-180h160v-160H180v160Zm440 0h160v-160H620v160Z\"/>\n",
              "  </svg>\n",
              "    </button>\n",
              "\n",
              "  <style>\n",
              "    .colab-df-container {\n",
              "      display:flex;\n",
              "      gap: 12px;\n",
              "    }\n",
              "\n",
              "    .colab-df-convert {\n",
              "      background-color: #E8F0FE;\n",
              "      border: none;\n",
              "      border-radius: 50%;\n",
              "      cursor: pointer;\n",
              "      display: none;\n",
              "      fill: #1967D2;\n",
              "      height: 32px;\n",
              "      padding: 0 0 0 0;\n",
              "      width: 32px;\n",
              "    }\n",
              "\n",
              "    .colab-df-convert:hover {\n",
              "      background-color: #E2EBFA;\n",
              "      box-shadow: 0px 1px 2px rgba(60, 64, 67, 0.3), 0px 1px 3px 1px rgba(60, 64, 67, 0.15);\n",
              "      fill: #174EA6;\n",
              "    }\n",
              "\n",
              "    .colab-df-buttons div {\n",
              "      margin-bottom: 4px;\n",
              "    }\n",
              "\n",
              "    [theme=dark] .colab-df-convert {\n",
              "      background-color: #3B4455;\n",
              "      fill: #D2E3FC;\n",
              "    }\n",
              "\n",
              "    [theme=dark] .colab-df-convert:hover {\n",
              "      background-color: #434B5C;\n",
              "      box-shadow: 0px 1px 3px 1px rgba(0, 0, 0, 0.15);\n",
              "      filter: drop-shadow(0px 1px 2px rgba(0, 0, 0, 0.3));\n",
              "      fill: #FFFFFF;\n",
              "    }\n",
              "  </style>\n",
              "\n",
              "    <script>\n",
              "      const buttonEl =\n",
              "        document.querySelector('#df-cfbcf954-131d-42a7-bdd0-0cce3fe158bb button.colab-df-convert');\n",
              "      buttonEl.style.display =\n",
              "        google.colab.kernel.accessAllowed ? 'block' : 'none';\n",
              "\n",
              "      async function convertToInteractive(key) {\n",
              "        const element = document.querySelector('#df-cfbcf954-131d-42a7-bdd0-0cce3fe158bb');\n",
              "        const dataTable =\n",
              "          await google.colab.kernel.invokeFunction('convertToInteractive',\n",
              "                                                    [key], {});\n",
              "        if (!dataTable) return;\n",
              "\n",
              "        const docLinkHtml = 'Like what you see? Visit the ' +\n",
              "          '<a target=\"_blank\" href=https://colab.research.google.com/notebooks/data_table.ipynb>data table notebook</a>'\n",
              "          + ' to learn more about interactive tables.';\n",
              "        element.innerHTML = '';\n",
              "        dataTable['output_type'] = 'display_data';\n",
              "        await google.colab.output.renderOutput(dataTable, element);\n",
              "        const docLink = document.createElement('div');\n",
              "        docLink.innerHTML = docLinkHtml;\n",
              "        element.appendChild(docLink);\n",
              "      }\n",
              "    </script>\n",
              "  </div>\n",
              "\n",
              "\n",
              "    <div id=\"df-0092386d-8623-4c5d-ae89-8a451c5e1f6f\">\n",
              "      <button class=\"colab-df-quickchart\" onclick=\"quickchart('df-0092386d-8623-4c5d-ae89-8a451c5e1f6f')\"\n",
              "                title=\"Suggest charts\"\n",
              "                style=\"display:none;\">\n",
              "\n",
              "<svg xmlns=\"http://www.w3.org/2000/svg\" height=\"24px\"viewBox=\"0 0 24 24\"\n",
              "     width=\"24px\">\n",
              "    <g>\n",
              "        <path d=\"M19 3H5c-1.1 0-2 .9-2 2v14c0 1.1.9 2 2 2h14c1.1 0 2-.9 2-2V5c0-1.1-.9-2-2-2zM9 17H7v-7h2v7zm4 0h-2V7h2v10zm4 0h-2v-4h2v4z\"/>\n",
              "    </g>\n",
              "</svg>\n",
              "      </button>\n",
              "\n",
              "<style>\n",
              "  .colab-df-quickchart {\n",
              "      --bg-color: #E8F0FE;\n",
              "      --fill-color: #1967D2;\n",
              "      --hover-bg-color: #E2EBFA;\n",
              "      --hover-fill-color: #174EA6;\n",
              "      --disabled-fill-color: #AAA;\n",
              "      --disabled-bg-color: #DDD;\n",
              "  }\n",
              "\n",
              "  [theme=dark] .colab-df-quickchart {\n",
              "      --bg-color: #3B4455;\n",
              "      --fill-color: #D2E3FC;\n",
              "      --hover-bg-color: #434B5C;\n",
              "      --hover-fill-color: #FFFFFF;\n",
              "      --disabled-bg-color: #3B4455;\n",
              "      --disabled-fill-color: #666;\n",
              "  }\n",
              "\n",
              "  .colab-df-quickchart {\n",
              "    background-color: var(--bg-color);\n",
              "    border: none;\n",
              "    border-radius: 50%;\n",
              "    cursor: pointer;\n",
              "    display: none;\n",
              "    fill: var(--fill-color);\n",
              "    height: 32px;\n",
              "    padding: 0;\n",
              "    width: 32px;\n",
              "  }\n",
              "\n",
              "  .colab-df-quickchart:hover {\n",
              "    background-color: var(--hover-bg-color);\n",
              "    box-shadow: 0 1px 2px rgba(60, 64, 67, 0.3), 0 1px 3px 1px rgba(60, 64, 67, 0.15);\n",
              "    fill: var(--button-hover-fill-color);\n",
              "  }\n",
              "\n",
              "  .colab-df-quickchart-complete:disabled,\n",
              "  .colab-df-quickchart-complete:disabled:hover {\n",
              "    background-color: var(--disabled-bg-color);\n",
              "    fill: var(--disabled-fill-color);\n",
              "    box-shadow: none;\n",
              "  }\n",
              "\n",
              "  .colab-df-spinner {\n",
              "    border: 2px solid var(--fill-color);\n",
              "    border-color: transparent;\n",
              "    border-bottom-color: var(--fill-color);\n",
              "    animation:\n",
              "      spin 1s steps(1) infinite;\n",
              "  }\n",
              "\n",
              "  @keyframes spin {\n",
              "    0% {\n",
              "      border-color: transparent;\n",
              "      border-bottom-color: var(--fill-color);\n",
              "      border-left-color: var(--fill-color);\n",
              "    }\n",
              "    20% {\n",
              "      border-color: transparent;\n",
              "      border-left-color: var(--fill-color);\n",
              "      border-top-color: var(--fill-color);\n",
              "    }\n",
              "    30% {\n",
              "      border-color: transparent;\n",
              "      border-left-color: var(--fill-color);\n",
              "      border-top-color: var(--fill-color);\n",
              "      border-right-color: var(--fill-color);\n",
              "    }\n",
              "    40% {\n",
              "      border-color: transparent;\n",
              "      border-right-color: var(--fill-color);\n",
              "      border-top-color: var(--fill-color);\n",
              "    }\n",
              "    60% {\n",
              "      border-color: transparent;\n",
              "      border-right-color: var(--fill-color);\n",
              "    }\n",
              "    80% {\n",
              "      border-color: transparent;\n",
              "      border-right-color: var(--fill-color);\n",
              "      border-bottom-color: var(--fill-color);\n",
              "    }\n",
              "    90% {\n",
              "      border-color: transparent;\n",
              "      border-bottom-color: var(--fill-color);\n",
              "    }\n",
              "  }\n",
              "</style>\n",
              "\n",
              "      <script>\n",
              "        async function quickchart(key) {\n",
              "          const quickchartButtonEl =\n",
              "            document.querySelector('#' + key + ' button');\n",
              "          quickchartButtonEl.disabled = true;  // To prevent multiple clicks.\n",
              "          quickchartButtonEl.classList.add('colab-df-spinner');\n",
              "          try {\n",
              "            const charts = await google.colab.kernel.invokeFunction(\n",
              "                'suggestCharts', [key], {});\n",
              "          } catch (error) {\n",
              "            console.error('Error during call to suggestCharts:', error);\n",
              "          }\n",
              "          quickchartButtonEl.classList.remove('colab-df-spinner');\n",
              "          quickchartButtonEl.classList.add('colab-df-quickchart-complete');\n",
              "        }\n",
              "        (() => {\n",
              "          let quickchartButtonEl =\n",
              "            document.querySelector('#df-0092386d-8623-4c5d-ae89-8a451c5e1f6f button');\n",
              "          quickchartButtonEl.style.display =\n",
              "            google.colab.kernel.accessAllowed ? 'block' : 'none';\n",
              "        })();\n",
              "      </script>\n",
              "    </div>\n",
              "\n",
              "  <div id=\"id_ff68053f-97f3-462a-95b6-158f3e9c16dc\">\n",
              "    <style>\n",
              "      .colab-df-generate {\n",
              "        background-color: #E8F0FE;\n",
              "        border: none;\n",
              "        border-radius: 50%;\n",
              "        cursor: pointer;\n",
              "        display: none;\n",
              "        fill: #1967D2;\n",
              "        height: 32px;\n",
              "        padding: 0 0 0 0;\n",
              "        width: 32px;\n",
              "      }\n",
              "\n",
              "      .colab-df-generate:hover {\n",
              "        background-color: #E2EBFA;\n",
              "        box-shadow: 0px 1px 2px rgba(60, 64, 67, 0.3), 0px 1px 3px 1px rgba(60, 64, 67, 0.15);\n",
              "        fill: #174EA6;\n",
              "      }\n",
              "\n",
              "      [theme=dark] .colab-df-generate {\n",
              "        background-color: #3B4455;\n",
              "        fill: #D2E3FC;\n",
              "      }\n",
              "\n",
              "      [theme=dark] .colab-df-generate:hover {\n",
              "        background-color: #434B5C;\n",
              "        box-shadow: 0px 1px 3px 1px rgba(0, 0, 0, 0.15);\n",
              "        filter: drop-shadow(0px 1px 2px rgba(0, 0, 0, 0.3));\n",
              "        fill: #FFFFFF;\n",
              "      }\n",
              "    </style>\n",
              "    <button class=\"colab-df-generate\" onclick=\"generateWithVariable('flipkart_df')\"\n",
              "            title=\"Generate code using this dataframe.\"\n",
              "            style=\"display:none;\">\n",
              "\n",
              "  <svg xmlns=\"http://www.w3.org/2000/svg\" height=\"24px\"viewBox=\"0 0 24 24\"\n",
              "       width=\"24px\">\n",
              "    <path d=\"M7,19H8.4L18.45,9,17,7.55,7,17.6ZM5,21V16.75L18.45,3.32a2,2,0,0,1,2.83,0l1.4,1.43a1.91,1.91,0,0,1,.58,1.4,1.91,1.91,0,0,1-.58,1.4L9.25,21ZM18.45,9,17,7.55Zm-12,3A5.31,5.31,0,0,0,4.9,8.1,5.31,5.31,0,0,0,1,6.5,5.31,5.31,0,0,0,4.9,4.9,5.31,5.31,0,0,0,6.5,1,5.31,5.31,0,0,0,8.1,4.9,5.31,5.31,0,0,0,12,6.5,5.46,5.46,0,0,0,6.5,12Z\"/>\n",
              "  </svg>\n",
              "    </button>\n",
              "    <script>\n",
              "      (() => {\n",
              "      const buttonEl =\n",
              "        document.querySelector('#id_ff68053f-97f3-462a-95b6-158f3e9c16dc button.colab-df-generate');\n",
              "      buttonEl.style.display =\n",
              "        google.colab.kernel.accessAllowed ? 'block' : 'none';\n",
              "\n",
              "      buttonEl.onclick = () => {\n",
              "        google.colab.notebook.generateWithVariable('flipkart_df');\n",
              "      }\n",
              "      })();\n",
              "    </script>\n",
              "  </div>\n",
              "\n",
              "    </div>\n",
              "  </div>\n"
            ],
            "application/vnd.google.colaboratory.intrinsic+json": {
              "type": "dataframe",
              "variable_name": "flipkart_df"
            }
          },
          "metadata": {},
          "execution_count": 3
        }
      ],
      "source": [
        "flipkart_df = pd.read_csv(\"/content/flipkart_product.csv\", encoding=\"ISO-8859-1\")\n",
        "flipkart_df"
      ]
    },
    {
      "cell_type": "markdown",
      "metadata": {
        "id": "oo0taOpNZ2Mz"
      },
      "source": [
        "**Standardize column names for Flipkart**"
      ]
    },
    {
      "cell_type": "code",
      "execution_count": 5,
      "metadata": {
        "id": "AcEdewZ9ZrQJ"
      },
      "outputs": [],
      "source": [
        "flipkart_df = flipkart_df.rename(columns={\n",
        "    \"Review\": \"Summary\",\n",
        "    \"Summary\": \"Text\",\n",
        "    \"Rate\": \"Score\"\n",
        "})"
      ]
    },
    {
      "cell_type": "code",
      "execution_count": 6,
      "metadata": {
        "id": "EUmVyTbjZ7bN"
      },
      "outputs": [],
      "source": [
        "# Select relevant columns from Amazon reviews\n",
        "amazon_df = reviews_df[[\"Text\", \"Summary\", \"Score\"]]\n",
        "\n",
        "# Select relevant columns from Flipkart\n",
        "flipkart_df = flipkart_df[[\"Text\", \"Summary\", \"Score\"]]"
      ]
    },
    {
      "cell_type": "markdown",
      "metadata": {
        "id": "YawkxxFtZ_1p"
      },
      "source": [
        "### **MERGE THE DATASETS**"
      ]
    },
    {
      "cell_type": "code",
      "execution_count": 7,
      "metadata": {
        "colab": {
          "base_uri": "https://localhost:8080/",
          "height": 423
        },
        "id": "FnaoTkjjZ9PM",
        "outputId": "a8a71795-aa38-4f4b-8e8b-2aa0bfce9a42"
      },
      "outputs": [
        {
          "output_type": "execute_result",
          "data": {
            "text/plain": [
              "                                                     Text  \\\n",
              "0       I have bought several of the Vitality canned d...   \n",
              "1       Product arrived labeled as Jumbo Salted Peanut...   \n",
              "2       This is a confection that has been around a fe...   \n",
              "3       If you are looking for the secret ingredient i...   \n",
              "4       Great taffy at a great price.  There was a wid...   \n",
              "...                                                   ...   \n",
              "758323                                             Thanks   \n",
              "758324                                               Good   \n",
              "758325                                              Super   \n",
              "758326                                               Good   \n",
              "758327                                                NaN   \n",
              "\n",
              "                      Summary Score  \n",
              "0       Good Quality Dog Food     5  \n",
              "1           Not as Advertised     1  \n",
              "2       \"Delight\" says it all     4  \n",
              "3              Cough Medicine     2  \n",
              "4                 Great taffy     5  \n",
              "...                       ...   ...  \n",
              "758323               Terrific     5  \n",
              "758324               Terrific     5  \n",
              "758325              Just wow!     5  \n",
              "758326        Worth the money     4  \n",
              "758327                    NaN   NaN  \n",
              "\n",
              "[758328 rows x 3 columns]"
            ],
            "text/html": [
              "\n",
              "  <div id=\"df-de27cdcf-e2ca-4608-b1b6-41fe94321fb6\" class=\"colab-df-container\">\n",
              "    <div>\n",
              "<style scoped>\n",
              "    .dataframe tbody tr th:only-of-type {\n",
              "        vertical-align: middle;\n",
              "    }\n",
              "\n",
              "    .dataframe tbody tr th {\n",
              "        vertical-align: top;\n",
              "    }\n",
              "\n",
              "    .dataframe thead th {\n",
              "        text-align: right;\n",
              "    }\n",
              "</style>\n",
              "<table border=\"1\" class=\"dataframe\">\n",
              "  <thead>\n",
              "    <tr style=\"text-align: right;\">\n",
              "      <th></th>\n",
              "      <th>Text</th>\n",
              "      <th>Summary</th>\n",
              "      <th>Score</th>\n",
              "    </tr>\n",
              "  </thead>\n",
              "  <tbody>\n",
              "    <tr>\n",
              "      <th>0</th>\n",
              "      <td>I have bought several of the Vitality canned d...</td>\n",
              "      <td>Good Quality Dog Food</td>\n",
              "      <td>5</td>\n",
              "    </tr>\n",
              "    <tr>\n",
              "      <th>1</th>\n",
              "      <td>Product arrived labeled as Jumbo Salted Peanut...</td>\n",
              "      <td>Not as Advertised</td>\n",
              "      <td>1</td>\n",
              "    </tr>\n",
              "    <tr>\n",
              "      <th>2</th>\n",
              "      <td>This is a confection that has been around a fe...</td>\n",
              "      <td>\"Delight\" says it all</td>\n",
              "      <td>4</td>\n",
              "    </tr>\n",
              "    <tr>\n",
              "      <th>3</th>\n",
              "      <td>If you are looking for the secret ingredient i...</td>\n",
              "      <td>Cough Medicine</td>\n",
              "      <td>2</td>\n",
              "    </tr>\n",
              "    <tr>\n",
              "      <th>4</th>\n",
              "      <td>Great taffy at a great price.  There was a wid...</td>\n",
              "      <td>Great taffy</td>\n",
              "      <td>5</td>\n",
              "    </tr>\n",
              "    <tr>\n",
              "      <th>...</th>\n",
              "      <td>...</td>\n",
              "      <td>...</td>\n",
              "      <td>...</td>\n",
              "    </tr>\n",
              "    <tr>\n",
              "      <th>758323</th>\n",
              "      <td>Thanks</td>\n",
              "      <td>Terrific</td>\n",
              "      <td>5</td>\n",
              "    </tr>\n",
              "    <tr>\n",
              "      <th>758324</th>\n",
              "      <td>Good</td>\n",
              "      <td>Terrific</td>\n",
              "      <td>5</td>\n",
              "    </tr>\n",
              "    <tr>\n",
              "      <th>758325</th>\n",
              "      <td>Super</td>\n",
              "      <td>Just wow!</td>\n",
              "      <td>5</td>\n",
              "    </tr>\n",
              "    <tr>\n",
              "      <th>758326</th>\n",
              "      <td>Good</td>\n",
              "      <td>Worth the money</td>\n",
              "      <td>4</td>\n",
              "    </tr>\n",
              "    <tr>\n",
              "      <th>758327</th>\n",
              "      <td>NaN</td>\n",
              "      <td>NaN</td>\n",
              "      <td>NaN</td>\n",
              "    </tr>\n",
              "  </tbody>\n",
              "</table>\n",
              "<p>758328 rows × 3 columns</p>\n",
              "</div>\n",
              "    <div class=\"colab-df-buttons\">\n",
              "\n",
              "  <div class=\"colab-df-container\">\n",
              "    <button class=\"colab-df-convert\" onclick=\"convertToInteractive('df-de27cdcf-e2ca-4608-b1b6-41fe94321fb6')\"\n",
              "            title=\"Convert this dataframe to an interactive table.\"\n",
              "            style=\"display:none;\">\n",
              "\n",
              "  <svg xmlns=\"http://www.w3.org/2000/svg\" height=\"24px\" viewBox=\"0 -960 960 960\">\n",
              "    <path d=\"M120-120v-720h720v720H120Zm60-500h600v-160H180v160Zm220 220h160v-160H400v160Zm0 220h160v-160H400v160ZM180-400h160v-160H180v160Zm440 0h160v-160H620v160ZM180-180h160v-160H180v160Zm440 0h160v-160H620v160Z\"/>\n",
              "  </svg>\n",
              "    </button>\n",
              "\n",
              "  <style>\n",
              "    .colab-df-container {\n",
              "      display:flex;\n",
              "      gap: 12px;\n",
              "    }\n",
              "\n",
              "    .colab-df-convert {\n",
              "      background-color: #E8F0FE;\n",
              "      border: none;\n",
              "      border-radius: 50%;\n",
              "      cursor: pointer;\n",
              "      display: none;\n",
              "      fill: #1967D2;\n",
              "      height: 32px;\n",
              "      padding: 0 0 0 0;\n",
              "      width: 32px;\n",
              "    }\n",
              "\n",
              "    .colab-df-convert:hover {\n",
              "      background-color: #E2EBFA;\n",
              "      box-shadow: 0px 1px 2px rgba(60, 64, 67, 0.3), 0px 1px 3px 1px rgba(60, 64, 67, 0.15);\n",
              "      fill: #174EA6;\n",
              "    }\n",
              "\n",
              "    .colab-df-buttons div {\n",
              "      margin-bottom: 4px;\n",
              "    }\n",
              "\n",
              "    [theme=dark] .colab-df-convert {\n",
              "      background-color: #3B4455;\n",
              "      fill: #D2E3FC;\n",
              "    }\n",
              "\n",
              "    [theme=dark] .colab-df-convert:hover {\n",
              "      background-color: #434B5C;\n",
              "      box-shadow: 0px 1px 3px 1px rgba(0, 0, 0, 0.15);\n",
              "      filter: drop-shadow(0px 1px 2px rgba(0, 0, 0, 0.3));\n",
              "      fill: #FFFFFF;\n",
              "    }\n",
              "  </style>\n",
              "\n",
              "    <script>\n",
              "      const buttonEl =\n",
              "        document.querySelector('#df-de27cdcf-e2ca-4608-b1b6-41fe94321fb6 button.colab-df-convert');\n",
              "      buttonEl.style.display =\n",
              "        google.colab.kernel.accessAllowed ? 'block' : 'none';\n",
              "\n",
              "      async function convertToInteractive(key) {\n",
              "        const element = document.querySelector('#df-de27cdcf-e2ca-4608-b1b6-41fe94321fb6');\n",
              "        const dataTable =\n",
              "          await google.colab.kernel.invokeFunction('convertToInteractive',\n",
              "                                                    [key], {});\n",
              "        if (!dataTable) return;\n",
              "\n",
              "        const docLinkHtml = 'Like what you see? Visit the ' +\n",
              "          '<a target=\"_blank\" href=https://colab.research.google.com/notebooks/data_table.ipynb>data table notebook</a>'\n",
              "          + ' to learn more about interactive tables.';\n",
              "        element.innerHTML = '';\n",
              "        dataTable['output_type'] = 'display_data';\n",
              "        await google.colab.output.renderOutput(dataTable, element);\n",
              "        const docLink = document.createElement('div');\n",
              "        docLink.innerHTML = docLinkHtml;\n",
              "        element.appendChild(docLink);\n",
              "      }\n",
              "    </script>\n",
              "  </div>\n",
              "\n",
              "\n",
              "    <div id=\"df-1a1f3616-1fa1-4b00-9bf0-bc55ec543dc3\">\n",
              "      <button class=\"colab-df-quickchart\" onclick=\"quickchart('df-1a1f3616-1fa1-4b00-9bf0-bc55ec543dc3')\"\n",
              "                title=\"Suggest charts\"\n",
              "                style=\"display:none;\">\n",
              "\n",
              "<svg xmlns=\"http://www.w3.org/2000/svg\" height=\"24px\"viewBox=\"0 0 24 24\"\n",
              "     width=\"24px\">\n",
              "    <g>\n",
              "        <path d=\"M19 3H5c-1.1 0-2 .9-2 2v14c0 1.1.9 2 2 2h14c1.1 0 2-.9 2-2V5c0-1.1-.9-2-2-2zM9 17H7v-7h2v7zm4 0h-2V7h2v10zm4 0h-2v-4h2v4z\"/>\n",
              "    </g>\n",
              "</svg>\n",
              "      </button>\n",
              "\n",
              "<style>\n",
              "  .colab-df-quickchart {\n",
              "      --bg-color: #E8F0FE;\n",
              "      --fill-color: #1967D2;\n",
              "      --hover-bg-color: #E2EBFA;\n",
              "      --hover-fill-color: #174EA6;\n",
              "      --disabled-fill-color: #AAA;\n",
              "      --disabled-bg-color: #DDD;\n",
              "  }\n",
              "\n",
              "  [theme=dark] .colab-df-quickchart {\n",
              "      --bg-color: #3B4455;\n",
              "      --fill-color: #D2E3FC;\n",
              "      --hover-bg-color: #434B5C;\n",
              "      --hover-fill-color: #FFFFFF;\n",
              "      --disabled-bg-color: #3B4455;\n",
              "      --disabled-fill-color: #666;\n",
              "  }\n",
              "\n",
              "  .colab-df-quickchart {\n",
              "    background-color: var(--bg-color);\n",
              "    border: none;\n",
              "    border-radius: 50%;\n",
              "    cursor: pointer;\n",
              "    display: none;\n",
              "    fill: var(--fill-color);\n",
              "    height: 32px;\n",
              "    padding: 0;\n",
              "    width: 32px;\n",
              "  }\n",
              "\n",
              "  .colab-df-quickchart:hover {\n",
              "    background-color: var(--hover-bg-color);\n",
              "    box-shadow: 0 1px 2px rgba(60, 64, 67, 0.3), 0 1px 3px 1px rgba(60, 64, 67, 0.15);\n",
              "    fill: var(--button-hover-fill-color);\n",
              "  }\n",
              "\n",
              "  .colab-df-quickchart-complete:disabled,\n",
              "  .colab-df-quickchart-complete:disabled:hover {\n",
              "    background-color: var(--disabled-bg-color);\n",
              "    fill: var(--disabled-fill-color);\n",
              "    box-shadow: none;\n",
              "  }\n",
              "\n",
              "  .colab-df-spinner {\n",
              "    border: 2px solid var(--fill-color);\n",
              "    border-color: transparent;\n",
              "    border-bottom-color: var(--fill-color);\n",
              "    animation:\n",
              "      spin 1s steps(1) infinite;\n",
              "  }\n",
              "\n",
              "  @keyframes spin {\n",
              "    0% {\n",
              "      border-color: transparent;\n",
              "      border-bottom-color: var(--fill-color);\n",
              "      border-left-color: var(--fill-color);\n",
              "    }\n",
              "    20% {\n",
              "      border-color: transparent;\n",
              "      border-left-color: var(--fill-color);\n",
              "      border-top-color: var(--fill-color);\n",
              "    }\n",
              "    30% {\n",
              "      border-color: transparent;\n",
              "      border-left-color: var(--fill-color);\n",
              "      border-top-color: var(--fill-color);\n",
              "      border-right-color: var(--fill-color);\n",
              "    }\n",
              "    40% {\n",
              "      border-color: transparent;\n",
              "      border-right-color: var(--fill-color);\n",
              "      border-top-color: var(--fill-color);\n",
              "    }\n",
              "    60% {\n",
              "      border-color: transparent;\n",
              "      border-right-color: var(--fill-color);\n",
              "    }\n",
              "    80% {\n",
              "      border-color: transparent;\n",
              "      border-right-color: var(--fill-color);\n",
              "      border-bottom-color: var(--fill-color);\n",
              "    }\n",
              "    90% {\n",
              "      border-color: transparent;\n",
              "      border-bottom-color: var(--fill-color);\n",
              "    }\n",
              "  }\n",
              "</style>\n",
              "\n",
              "      <script>\n",
              "        async function quickchart(key) {\n",
              "          const quickchartButtonEl =\n",
              "            document.querySelector('#' + key + ' button');\n",
              "          quickchartButtonEl.disabled = true;  // To prevent multiple clicks.\n",
              "          quickchartButtonEl.classList.add('colab-df-spinner');\n",
              "          try {\n",
              "            const charts = await google.colab.kernel.invokeFunction(\n",
              "                'suggestCharts', [key], {});\n",
              "          } catch (error) {\n",
              "            console.error('Error during call to suggestCharts:', error);\n",
              "          }\n",
              "          quickchartButtonEl.classList.remove('colab-df-spinner');\n",
              "          quickchartButtonEl.classList.add('colab-df-quickchart-complete');\n",
              "        }\n",
              "        (() => {\n",
              "          let quickchartButtonEl =\n",
              "            document.querySelector('#df-1a1f3616-1fa1-4b00-9bf0-bc55ec543dc3 button');\n",
              "          quickchartButtonEl.style.display =\n",
              "            google.colab.kernel.accessAllowed ? 'block' : 'none';\n",
              "        })();\n",
              "      </script>\n",
              "    </div>\n",
              "\n",
              "  <div id=\"id_1169ad8a-ae90-4fc2-ad90-c16df7692c43\">\n",
              "    <style>\n",
              "      .colab-df-generate {\n",
              "        background-color: #E8F0FE;\n",
              "        border: none;\n",
              "        border-radius: 50%;\n",
              "        cursor: pointer;\n",
              "        display: none;\n",
              "        fill: #1967D2;\n",
              "        height: 32px;\n",
              "        padding: 0 0 0 0;\n",
              "        width: 32px;\n",
              "      }\n",
              "\n",
              "      .colab-df-generate:hover {\n",
              "        background-color: #E2EBFA;\n",
              "        box-shadow: 0px 1px 2px rgba(60, 64, 67, 0.3), 0px 1px 3px 1px rgba(60, 64, 67, 0.15);\n",
              "        fill: #174EA6;\n",
              "      }\n",
              "\n",
              "      [theme=dark] .colab-df-generate {\n",
              "        background-color: #3B4455;\n",
              "        fill: #D2E3FC;\n",
              "      }\n",
              "\n",
              "      [theme=dark] .colab-df-generate:hover {\n",
              "        background-color: #434B5C;\n",
              "        box-shadow: 0px 1px 3px 1px rgba(0, 0, 0, 0.15);\n",
              "        filter: drop-shadow(0px 1px 2px rgba(0, 0, 0, 0.3));\n",
              "        fill: #FFFFFF;\n",
              "      }\n",
              "    </style>\n",
              "    <button class=\"colab-df-generate\" onclick=\"generateWithVariable('merged_df')\"\n",
              "            title=\"Generate code using this dataframe.\"\n",
              "            style=\"display:none;\">\n",
              "\n",
              "  <svg xmlns=\"http://www.w3.org/2000/svg\" height=\"24px\"viewBox=\"0 0 24 24\"\n",
              "       width=\"24px\">\n",
              "    <path d=\"M7,19H8.4L18.45,9,17,7.55,7,17.6ZM5,21V16.75L18.45,3.32a2,2,0,0,1,2.83,0l1.4,1.43a1.91,1.91,0,0,1,.58,1.4,1.91,1.91,0,0,1-.58,1.4L9.25,21ZM18.45,9,17,7.55Zm-12,3A5.31,5.31,0,0,0,4.9,8.1,5.31,5.31,0,0,0,1,6.5,5.31,5.31,0,0,0,4.9,4.9,5.31,5.31,0,0,0,6.5,1,5.31,5.31,0,0,0,8.1,4.9,5.31,5.31,0,0,0,12,6.5,5.46,5.46,0,0,0,6.5,12Z\"/>\n",
              "  </svg>\n",
              "    </button>\n",
              "    <script>\n",
              "      (() => {\n",
              "      const buttonEl =\n",
              "        document.querySelector('#id_1169ad8a-ae90-4fc2-ad90-c16df7692c43 button.colab-df-generate');\n",
              "      buttonEl.style.display =\n",
              "        google.colab.kernel.accessAllowed ? 'block' : 'none';\n",
              "\n",
              "      buttonEl.onclick = () => {\n",
              "        google.colab.notebook.generateWithVariable('merged_df');\n",
              "      }\n",
              "      })();\n",
              "    </script>\n",
              "  </div>\n",
              "\n",
              "    </div>\n",
              "  </div>\n"
            ],
            "application/vnd.google.colaboratory.intrinsic+json": {
              "type": "dataframe",
              "variable_name": "merged_df"
            }
          },
          "metadata": {},
          "execution_count": 7
        }
      ],
      "source": [
        "merged_df = pd.concat([amazon_df, flipkart_df], ignore_index=True)\n",
        "merged_df"
      ]
    },
    {
      "cell_type": "code",
      "execution_count": 8,
      "metadata": {
        "id": "00A1m_4YaE_S"
      },
      "outputs": [],
      "source": [
        "import csv\n",
        "# Save merged dataset\n",
        "merged_df.to_csv(\"/content/merged_reviews.csv\", index=False)\n"
      ]
    },
    {
      "cell_type": "markdown",
      "metadata": {
        "id": "0TBoB4rOfzTI"
      },
      "source": [
        "**Load merged dataset**"
      ]
    },
    {
      "cell_type": "code",
      "execution_count": 9,
      "metadata": {
        "colab": {
          "base_uri": "https://localhost:8080/"
        },
        "id": "WwlBfYmofuBW",
        "outputId": "6285cc8c-fdb4-44ce-e244-2e8815c9cffd"
      },
      "outputs": [
        {
          "output_type": "stream",
          "name": "stderr",
          "text": [
            "/tmp/ipython-input-3979432360.py:1: DtypeWarning: Columns (2) have mixed types. Specify dtype option on import or set low_memory=False.\n",
            "  merged_df = pd.read_csv(\"/content/merged_reviews.csv\")\n"
          ]
        }
      ],
      "source": [
        "merged_df = pd.read_csv(\"/content/merged_reviews.csv\")"
      ]
    },
    {
      "cell_type": "markdown",
      "metadata": {
        "id": "98ma797cjI5W"
      },
      "source": [
        "**Inspect Data**"
      ]
    },
    {
      "cell_type": "code",
      "execution_count": 10,
      "metadata": {
        "colab": {
          "base_uri": "https://localhost:8080/"
        },
        "id": "lH__jdSshJJs",
        "outputId": "0476a12c-d0ce-4ae8-d918-063b049ceb55"
      },
      "outputs": [
        {
          "output_type": "stream",
          "name": "stdout",
          "text": [
            "\n",
            "Dataset Info:\n",
            "<class 'pandas.core.frame.DataFrame'>\n",
            "RangeIndex: 758328 entries, 0 to 758327\n",
            "Data columns (total 3 columns):\n",
            " #   Column   Non-Null Count   Dtype \n",
            "---  ------   --------------   ----- \n",
            " 0   Text     758314 non-null  object\n",
            " 1   Summary  758297 non-null  object\n",
            " 2   Score    758327 non-null  object\n",
            "dtypes: object(3)\n",
            "memory usage: 17.4+ MB\n",
            "None\n",
            "\n",
            "\n",
            "Missing values per column:\n",
            "Text       14\n",
            "Summary    31\n",
            "Score       1\n",
            "dtype: int64\n"
          ]
        }
      ],
      "source": [
        "print(\"\\nDataset Info:\")\n",
        "print(merged_df.info())\n",
        "\n",
        "print(\"\\n\\nMissing values per column:\")\n",
        "print(merged_df.isnull().sum())"
      ]
    },
    {
      "cell_type": "code",
      "execution_count": 11,
      "metadata": {
        "colab": {
          "base_uri": "https://localhost:8080/"
        },
        "id": "Z5u06Sjbh3EN",
        "outputId": "288af142-03b7-402c-a828-9183d33cb749"
      },
      "outputs": [
        {
          "output_type": "stream",
          "name": "stdout",
          "text": [
            "\n",
            "Number of reviews for each score:\n",
            "Score\n",
            "1.0     71875\n",
            "2.0     36003\n",
            "3.0     58321\n",
            "4.0    120308\n",
            "5.0    471816\n",
            "Name: count, dtype: int64\n"
          ]
        }
      ],
      "source": [
        "\n",
        "# Convert 'Score' column to numeric, coercing errors\n",
        "merged_df['Score'] = pd.to_numeric(merged_df['Score'], errors='coerce')\n",
        "\n",
        "# Count the number of reviews for each score\n",
        "score_counts = merged_df['Score'].value_counts().sort_index()\n",
        "print(\"\\nNumber of reviews for each score:\")\n",
        "print(score_counts)"
      ]
    },
    {
      "cell_type": "markdown",
      "metadata": {
        "id": "wc-eXxyxjBQ_"
      },
      "source": [
        "# **BALANCED DATASET**"
      ]
    },
    {
      "cell_type": "code",
      "execution_count": 12,
      "metadata": {
        "colab": {
          "base_uri": "https://localhost:8080/"
        },
        "id": "8Eas1dSqicNv",
        "outputId": "266b5ab2-c6f0-4d51-83ba-787256d601f5"
      },
      "outputs": [
        {
          "output_type": "stream",
          "name": "stdout",
          "text": [
            "\n",
            "Sampling n_per_class = 2000 for balanced dataset.\n",
            "Balanced dataset shape: (10000, 3)\n",
            "Balanced distribution:\n",
            "Score\n",
            "1    2000\n",
            "2    2000\n",
            "3    2000\n",
            "4    2000\n",
            "5    2000\n",
            "Name: count, dtype: int64\n"
          ]
        },
        {
          "output_type": "stream",
          "name": "stderr",
          "text": [
            "/tmp/ipython-input-2953348435.py:15: DeprecationWarning: DataFrameGroupBy.apply operated on the grouping columns. This behavior is deprecated, and in a future version of pandas the grouping columns will be excluded from the operation. Either pass `include_groups=False` to exclude the groupings or explicitly select the grouping columns after groupby to silence this warning.\n",
            "  .apply(lambda g: g.sample(n=n_per_class, random_state=SEED))\n"
          ]
        }
      ],
      "source": [
        "# We will only use rows that have valid scores and non-empty text\n",
        "pool = merged_df.dropna(subset=[\"Score\"]).copy()\n",
        "pool[\"Text\"] = pool[\"Text\"].fillna(\"\").astype(str)\n",
        "\n",
        "# Convert Score to int (safe)\n",
        "pool[\"Score\"] = pool[\"Score\"].astype(int)\n",
        "\n",
        "# Decide number per class (cap at 2000 or min available)\n",
        "min_per_class = pool[\"Score\"].value_counts().min()\n",
        "n_per_class = min(2000, min_per_class)\n",
        "print(f\"\\nSampling n_per_class = {n_per_class} for balanced dataset.\")\n",
        "\n",
        "balanced_df = (\n",
        "    pool.groupby(\"Score\", group_keys=False)\n",
        "        .apply(lambda g: g.sample(n=n_per_class, random_state=SEED))\n",
        "        .reset_index(drop=True)\n",
        ")\n",
        "print(\"Balanced dataset shape:\", balanced_df.shape)\n",
        "print(\"Balanced distribution:\")\n",
        "print(balanced_df[\"Score\"].value_counts().sort_index())"
      ]
    },
    {
      "cell_type": "code",
      "execution_count": 13,
      "metadata": {
        "id": "nhNlFO8Ii912"
      },
      "outputs": [],
      "source": [
        "# Save balanced for convenience\n",
        "balanced_df.to_csv(\"/content/balanced_reviews.csv\", index=False)"
      ]
    },
    {
      "cell_type": "markdown",
      "metadata": {
        "id": "PWsNGA8Vjy02"
      },
      "source": [
        "### **Visualization for Balanced Dataset**"
      ]
    },
    {
      "cell_type": "code",
      "execution_count": 14,
      "metadata": {
        "id": "TbXPN4OUkMHl"
      },
      "outputs": [],
      "source": [
        "#import libraries\n",
        "import matplotlib.pyplot as plt\n",
        "import seaborn as sns\n"
      ]
    },
    {
      "cell_type": "code",
      "execution_count": 15,
      "metadata": {
        "colab": {
          "base_uri": "https://localhost:8080/",
          "height": 559
        },
        "id": "M7_AJdXfjjpp",
        "outputId": "a7b733d2-3553-44a1-d26e-44cfd3831670"
      },
      "outputs": [
        {
          "output_type": "stream",
          "name": "stderr",
          "text": [
            "/tmp/ipython-input-62426690.py:2: FutureWarning: \n",
            "\n",
            "Passing `palette` without assigning `hue` is deprecated and will be removed in v0.14.0. Assign the `x` variable to `hue` and set `legend=False` for the same effect.\n",
            "\n",
            "  sns.countplot(x=\"Score\", data=balanced_df, palette=\"Set2\")\n"
          ]
        },
        {
          "output_type": "display_data",
          "data": {
            "text/plain": [
              "<Figure size 640x480 with 1 Axes>"
            ],
            "image/png": "[encoded data removed]"
          },
          "metadata": {}
        }
      ],
      "source": [
        "plt.figure()\n",
        "sns.countplot(x=\"Score\", data=balanced_df, palette=\"Set2\")\n",
        "plt.title(\"Balanced Dataset - Review Count per Rating\")\n",
        "plt.show()"
      ]
    },
    {
      "cell_type": "code",
      "execution_count": 16,
      "metadata": {
        "colab": {
          "base_uri": "https://localhost:8080/",
          "height": 428
        },
        "id": "SVZW4CxikbHc",
        "outputId": "c0d0ecea-17e0-4481-b67d-1ea39efd42e3"
      },
      "outputs": [
        {
          "output_type": "display_data",
          "data": {
            "text/plain": [
              "<Figure size 640x480 with 1 Axes>"
            ],
            "image/png": "[encoded data removed]"
          },
          "metadata": {}
        }
      ],
      "source": [
        "plt.figure()\n",
        "balanced_df[\"Score\"].value_counts().sort_index().plot.pie(autopct=\"%1.1f%%\", ylabel=\"\", title=\"Balanced Dataset Distribution\")\n",
        "plt.show()"
      ]
    },
    {
      "cell_type": "markdown",
      "metadata": {
        "id": "Tktlnhv0kqe8"
      },
      "source": [
        "# **IMBALANCED DATASET**"
      ]
    },
    {
      "cell_type": "code",
      "execution_count": 17,
      "metadata": {
        "colab": {
          "base_uri": "https://localhost:8080/"
        },
        "id": "Eo60gHylkfbj",
        "outputId": "8a6112cd-06e0-4962-997d-e226d65b8165"
      },
      "outputs": [
        {
          "output_type": "stream",
          "name": "stdout",
          "text": [
            "\n",
            "Remaining pool shape (after removing balanced samples): (748323, 3)\n"
          ]
        }
      ],
      "source": [
        "# Remove the balanced rows from the pool to keep datasets disjoint\n",
        "remaining = pool.drop(balanced_df.index, errors=\"ignore\").reset_index(drop=True)\n",
        "print(\"\\nRemaining pool shape (after removing balanced samples):\", remaining.shape)"
      ]
    },
    {
      "cell_type": "code",
      "execution_count": 18,
      "metadata": {
        "colab": {
          "base_uri": "https://localhost:8080/"
        },
        "id": "9hPf_Rsukvb-",
        "outputId": "86fe7f3d-b4c9-4f94-8fda-0684a37e1c50"
      },
      "outputs": [
        {
          "output_type": "stream",
          "name": "stdout",
          "text": [
            "Score 1: requested 1000, available 70943, sampled 1000\n",
            "Score 2: requested 1500, available 35413, sampled 1500\n",
            "Score 3: requested 2500, available 57459, sampled 2500\n",
            "Score 4: requested 3000, available 118875, sampled 3000\n",
            "Score 5: requested 2000, available 465633, sampled 2000\n",
            "Imbalanced dataset shape: (10000, 3)\n",
            "Imbalanced distribution (counts):\n",
            "Score\n",
            "1    1000\n",
            "2    1500\n",
            "3    2500\n",
            "4    3000\n",
            "5    2000\n",
            "Name: count, dtype: int64\n"
          ]
        }
      ],
      "source": [
        "# desired distribution\n",
        "distribution = {1: 0.10, 2: 0.15, 3: 0.25, 4: 0.30, 5: 0.20}\n",
        "total_size = 10000  # you can change this, but ensure enough data in remaining pool\n",
        "\n",
        "# compute counts and sample\n",
        "imbalanced_parts = []\n",
        "for score, frac in distribution.items():\n",
        "    n = int(total_size * frac)\n",
        "    available = remaining[remaining[\"Score\"] == score]\n",
        "    n_use = min(n, len(available))\n",
        "    sampled = available.sample(n=n_use, random_state=SEED)\n",
        "    imbalanced_parts.append(sampled)\n",
        "    print(f\"Score {score}: requested {n}, available {len(available)}, sampled {n_use}\")\n",
        "\n",
        "imbalanced_df = pd.concat(imbalanced_parts).reset_index(drop=True)\n",
        "print(\"Imbalanced dataset shape:\", imbalanced_df.shape)\n",
        "print(\"Imbalanced distribution (counts):\")\n",
        "print(imbalanced_df[\"Score\"].value_counts().sort_index())"
      ]
    },
    {
      "cell_type": "code",
      "execution_count": 19,
      "metadata": {
        "id": "7MibvlmZk764"
      },
      "outputs": [],
      "source": [
        "imbalanced_df.to_csv(\"/content/imbalanced_reviews.csv\", index=False)\n"
      ]
    },
    {
      "cell_type": "markdown",
      "metadata": {
        "id": "1G8_TFr9lGyE"
      },
      "source": [
        "### **Visualization for Imbalanced Dataset**"
      ]
    },
    {
      "cell_type": "code",
      "execution_count": 20,
      "metadata": {
        "colab": {
          "base_uri": "https://localhost:8080/",
          "height": 559
        },
        "id": "luRi07U0lCDR",
        "outputId": "f73b8b9c-99a0-40d6-d165-0c704297c3c9"
      },
      "outputs": [
        {
          "output_type": "stream",
          "name": "stderr",
          "text": [
            "/tmp/ipython-input-1021379595.py:2: FutureWarning: \n",
            "\n",
            "Passing `palette` without assigning `hue` is deprecated and will be removed in v0.14.0. Assign the `x` variable to `hue` and set `legend=False` for the same effect.\n",
            "\n",
            "  sns.countplot(x=\"Score\", data=imbalanced_df, palette=\"Set1\")\n"
          ]
        },
        {
          "output_type": "display_data",
          "data": {
            "text/plain": [
              "<Figure size 640x480 with 1 Axes>"
            ],
            "image/png": "[encoded data removed]"
          },
          "metadata": {}
        }
      ],
      "source": [
        "plt.figure()\n",
        "sns.countplot(x=\"Score\", data=imbalanced_df, palette=\"Set1\")\n",
        "plt.title(\"Imbalanced Dataset - Review Count per Rating\")\n",
        "plt.show()\n"
      ]
    },
    {
      "cell_type": "code",
      "execution_count": 21,
      "metadata": {
        "colab": {
          "base_uri": "https://localhost:8080/",
          "height": 428
        },
        "id": "yFKlUUq8lPe2",
        "outputId": "ae0565fe-1684-4776-b697-9b1dffe5f07f"
      },
      "outputs": [
        {
          "output_type": "display_data",
          "data": {
            "text/plain": [
              "<Figure size 640x480 with 1 Axes>"
            ],
            "image/png": "[encoded data removed]"
          },
          "metadata": {}
        }
      ],
      "source": [
        "plt.figure()\n",
        "imbalanced_df[\"Score\"].value_counts().sort_index().plot.pie(autopct=\"%1.1f%%\", ylabel=\"\", title=\"Imbalanced Dataset Distribution\")\n",
        "plt.show()"
      ]
    },
    {
      "cell_type": "markdown",
      "metadata": {
        "id": "fw_MkwPinAvS"
      },
      "source": [
        "# **DATA PREPROCESSING**"
      ]
    },
    {
      "cell_type": "markdown",
      "metadata": {
        "id": "vDFllwKsXQsV"
      },
      "source": [
        "**For Balanced Dataset**"
      ]
    },
    {
      "cell_type": "code",
      "execution_count": 22,
      "metadata": {
        "id": "Yyu-cmY2ndKq"
      },
      "outputs": [],
      "source": [
        "df = balanced_df.copy()"
      ]
    },
    {
      "cell_type": "code",
      "execution_count": 23,
      "metadata": {
        "colab": {
          "base_uri": "https://localhost:8080/"
        },
        "id": "t4rhIrBPpJCF",
        "outputId": "8c08c1e4-b99e-48b4-8011-abf17fc3c2e6"
      },
      "outputs": [
        {
          "output_type": "stream",
          "name": "stderr",
          "text": [
            "[nltk_data] Downloading package stopwords to /root/nltk_data...\n",
            "[nltk_data]   Unzipping corpora/stopwords.zip.\n",
            "[nltk_data] Downloading package punkt to /root/nltk_data...\n",
            "[nltk_data]   Unzipping tokenizers/punkt.zip.\n",
            "[nltk_data] Downloading package wordnet to /root/nltk_data...\n",
            "[nltk_data] Downloading package omw-1.4 to /root/nltk_data...\n",
            "[nltk_data] Downloading package punkt_tab to /root/nltk_data...\n",
            "[nltk_data]   Unzipping tokenizers/punkt_tab.zip.\n"
          ]
        },
        {
          "output_type": "execute_result",
          "data": {
            "text/plain": [
              "True"
            ]
          },
          "metadata": {},
          "execution_count": 23
        }
      ],
      "source": [
        "\n",
        "import re\n",
        "import string\n",
        "import nltk\n",
        "from nltk.corpus import stopwords\n",
        "from nltk.stem import WordNetLemmatizer\n",
        "\n",
        "# Download NLTK resources\n",
        "nltk.download(\"stopwords\")\n",
        "nltk.download(\"punkt\")\n",
        "nltk.download(\"wordnet\")\n",
        "nltk.download(\"omw-1.4\")\n",
        "nltk.download('punkt_tab')"
      ]
    },
    {
      "cell_type": "code",
      "execution_count": 24,
      "metadata": {
        "colab": {
          "base_uri": "https://localhost:8080/"
        },
        "id": "M8NKFLEflT3r",
        "outputId": "f1854fa4-bb63-4820-f011-8e1b45124689"
      },
      "outputs": [
        {
          "output_type": "stream",
          "name": "stdout",
          "text": [
            "After duplicates removal: (9457, 3)\n"
          ]
        }
      ],
      "source": [
        "# Remove duplicates\n",
        "df.drop_duplicates(subset=[\"Text\", \"Summary\"], inplace=True)\n",
        "print(\"After duplicates removal:\", df.shape)"
      ]
    },
    {
      "cell_type": "code",
      "execution_count": 25,
      "metadata": {
        "colab": {
          "base_uri": "https://localhost:8080/"
        },
        "id": "Ibcq79PHnj-M",
        "outputId": "601bc7f3-4b48-417c-dfc8-d801e9f2a119"
      },
      "outputs": [
        {
          "output_type": "stream",
          "name": "stdout",
          "text": [
            "Conflicting reviews found: 82\n"
          ]
        }
      ],
      "source": [
        "# Remove conflicting reviews (resolve by majority vote)\n",
        "# Conflicting reviews: same Text with different Scores\n",
        "conflict_counts = df.groupby(\"Text\")[\"Score\"].nunique()\n",
        "conflicting_texts = conflict_counts[conflict_counts > 1].index\n",
        "\n",
        "print(f\"Conflicting reviews found: {len(conflicting_texts)}\")\n",
        "\n",
        "# Resolve by majority vote (if tie, take max Score)\n",
        "def resolve_score(group):\n",
        "    counts = group.value_counts()\n",
        "    max_count = counts.max()\n",
        "    top_scores = counts[counts == max_count].index\n",
        "    return top_scores.max()  # pick max if tie\n",
        "\n",
        "for text in conflicting_texts:\n",
        "    mask = df[\"Text\"] == text\n",
        "    df.loc[mask, \"Score\"] = resolve_score(df.loc[mask, \"Score\"])"
      ]
    },
    {
      "cell_type": "code",
      "execution_count": 26,
      "metadata": {
        "id": "bSsgfkCCoBbW"
      },
      "outputs": [],
      "source": [
        "# Handling missing values\n",
        "# ============================\n",
        "# For Text/Summary, fill missing with empty string\n",
        "df[\"Text\"] = df[\"Text\"].fillna(\"\").astype(str)\n",
        "df[\"Summary\"] = df[\"Summary\"].fillna(\"\").astype(str)\n",
        "\n",
        "# Drop rows with missing Score\n",
        "df.dropna(subset=[\"Score\"], inplace=True)"
      ]
    },
    {
      "cell_type": "code",
      "execution_count": 27,
      "metadata": {
        "id": "b9jpwvPUoiwF"
      },
      "outputs": [],
      "source": [
        "# 4. Dropping unnecessary columns\n",
        "# ============================\n",
        "# Keep only Text and Score for modeling\n",
        "df = df[[\"Text\", \"Score\"]]"
      ]
    },
    {
      "cell_type": "code",
      "execution_count": 28,
      "metadata": {
        "id": "nZ0h47tFoqhE"
      },
      "outputs": [],
      "source": [
        "# 5. Text lowercasing\n",
        "# ============================\n",
        "df[\"Text\"] = df[\"Text\"].str.lower()"
      ]
    },
    {
      "cell_type": "code",
      "execution_count": 29,
      "metadata": {
        "id": "0V9ljjC3op9d"
      },
      "outputs": [],
      "source": [
        "# 6. Removing URLs\n",
        "# ============================\n",
        "df[\"Text\"] = df[\"Text\"].str.replace(r\"http\\S+|www\\S+|https\\S+\", \"\", regex=True)\n"
      ]
    },
    {
      "cell_type": "code",
      "execution_count": 30,
      "metadata": {
        "colab": {
          "base_uri": "https://localhost:8080/"
        },
        "id": "CJ8WYT1Jq4w6",
        "outputId": "2fbf9eb7-3ec9-41fd-8598-86c4162b4692"
      },
      "outputs": [
        {
          "output_type": "stream",
          "name": "stdout",
          "text": [
            "Collecting emoji\n",
            "  Downloading emoji-2.15.0-py3-none-any.whl.metadata (5.7 kB)\n",
            "Downloading emoji-2.15.0-py3-none-any.whl (608 kB)\n",
            "\u001b[?25l   \u001b[90m━━━━━━━━━━━━━━━━━━━━━━━━━━━━━━━━━━━━━━━━\u001b[0m \u001b[32m0.0/608.4 kB\u001b[0m \u001b[31m?\u001b[0m eta \u001b[36m-:--:--\u001b[0m\r\u001b[2K   \u001b[91m━━━━━━━━━━\u001b[0m\u001b[90m╺\u001b[0m\u001b[90m━━━━━━━━━━━━━━━━━━━━━━━━━━━━━\u001b[0m \u001b[32m153.6/608.4 kB\u001b[0m \u001b[31m4.4 MB/s\u001b[0m eta \u001b[36m0:00:01\u001b[0m\r\u001b[2K   \u001b[91m━━━━━━━━━━━━━━━━━━━━━━━━━━━━━━━━━━━━━━━\u001b[0m\u001b[91m╸\u001b[0m \u001b[32m604.2/608.4 kB\u001b[0m \u001b[31m10.2 MB/s\u001b[0m eta \u001b[36m0:00:01\u001b[0m\r\u001b[2K   \u001b[90m━━━━━━━━━━━━━━━━━━━━━━━━━━━━━━━━━━━━━━━━\u001b[0m \u001b[32m608.4/608.4 kB\u001b[0m \u001b[31m8.3 MB/s\u001b[0m eta \u001b[36m0:00:00\u001b[0m\n",
            "\u001b[?25hInstalling collected packages: emoji\n",
            "Successfully installed emoji-2.15.0\n"
          ]
        }
      ],
      "source": [
        "!pip install emoji"
      ]
    },
    {
      "cell_type": "code",
      "execution_count": 31,
      "metadata": {
        "id": "_ZpDcbo0ow9t"
      },
      "outputs": [],
      "source": [
        "#  Removing emojis & special characters\n",
        "# ============================\n",
        "import emoji\n",
        "def remove_emoji(text):\n",
        "    return emoji.replace_emoji(text, replace='')\n",
        "\n",
        "df[\"Text\"] = df[\"Text\"].apply(remove_emoji)\n",
        "\n",
        "# Optional: remove non-ASCII characters\n",
        "df[\"Text\"] = df[\"Text\"].str.encode(\"ascii\", \"ignore\").str.decode(\"ascii\")"
      ]
    },
    {
      "cell_type": "code",
      "execution_count": 32,
      "metadata": {
        "id": "6N_xdhMFozzN"
      },
      "outputs": [],
      "source": [
        "#  Removing punctuations\n",
        "# ============================\n",
        "df[\"Text\"] = df[\"Text\"].str.translate(str.maketrans(\"\", \"\", string.punctuation))\n"
      ]
    },
    {
      "cell_type": "code",
      "execution_count": 33,
      "metadata": {
        "id": "2SReNQqGo3Ux"
      },
      "outputs": [],
      "source": [
        "#  Stopword removal\n",
        "# ============================\n",
        "stop_words = set(stopwords.words(\"english\"))\n",
        "df[\"Text\"] = df[\"Text\"].apply(lambda x: \" \".join([w for w in x.split() if w not in stop_words]))\n"
      ]
    },
    {
      "cell_type": "code",
      "execution_count": 34,
      "metadata": {
        "colab": {
          "base_uri": "https://localhost:8080/"
        },
        "id": "EKYbT7BjxUl7",
        "outputId": "ebce9c08-11fc-4718-d047-b49ad143a6c4"
      },
      "outputs": [
        {
          "output_type": "stream",
          "name": "stdout",
          "text": [
            "Number of stopwords: 198\n",
            "\n",
            "Stopwords: {'ain', 'same', 'after', 'she', 'was', 't', 'from', \"we'd\", 'most', 'because', 'other', 'now', 'we', \"it'd\", 'am', 'both', 'been', 'out', 'being', 'some', 'up', 'them', 'your', 'then', 'yours', 'below', 'here', 'with', 'itself', 'will', \"that'll\", \"wouldn't\", 'but', 'should', 'each', 'did', 'mightn', \"i'm\", 'are', \"you'll\", 'his', 're', 'again', 'own', \"she'll\", \"she'd\", 'i', 'didn', 'ours', 'all', \"i'll\", 'mustn', \"she's\", 'which', 'by', 'theirs', \"shan't\", 'the', \"mightn't\", 'their', 'a', \"hasn't\", 'has', \"you've\", \"he'll\", \"you're\", \"he's\", \"should've\", 'too', 'do', 'more', \"mustn't\", 'there', 'don', \"haven't\", 'shan', 'nor', 'as', 'above', \"aren't\", \"you'd\", \"hadn't\", \"isn't\", 'they', \"didn't\", 'it', 'about', 'having', 'just', 'any', 'at', 'ourselves', 'how', 'm', 'over', \"it's\", 'into', \"they've\", 'those', 'you', 'o', \"we'll\", 'herself', 'himself', 'her', 'until', 'very', 'if', 'before', \"i've\", 'between', 'only', \"wasn't\", \"needn't\", 'him', 'does', 'further', 'so', \"won't\", 've', 'were', 'where', 'myself', 'wasn', 'll', 'aren', 'under', 'down', 'in', 'won', 'this', 'who', \"we've\", 'have', \"i'd\", 'shouldn', \"they'd\", 'hasn', 'once', 'he', 'me', 'why', \"don't\", 'needn', 'while', 'such', 'few', 'y', 'doing', 'during', 'for', \"they're\", 'had', 'haven', 'hers', 'isn', 'doesn', \"it'll\", 'its', \"couldn't\", 's', \"weren't\", 'whom', 'not', 'of', 'what', 'ma', 'd', 'wouldn', 'when', 'my', \"we're\", 'yourself', 'these', 'against', 'an', 'themselves', 'weren', 'hadn', 'through', \"shouldn't\", 'or', 'our', 'to', 'yourselves', \"doesn't\", 'and', 'can', 'on', 'couldn', 'off', 'than', 'is', 'that', \"they'll\", \"he'd\", 'be', 'no'}\n"
          ]
        }
      ],
      "source": [
        "# Print the number of stopwords and the stopwords themselves\n",
        "print(\"Number of stopwords:\", len(stop_words))\n",
        "print(\"\\nStopwords:\", stop_words)"
      ]
    },
    {
      "cell_type": "code",
      "execution_count": 35,
      "metadata": {
        "id": "t7aqYdLJrHHR"
      },
      "outputs": [],
      "source": [
        "# Lemmatization\n",
        "# ============================\n",
        "lemmatizer = WordNetLemmatizer()\n",
        "df[\"Text\"] = df[\"Text\"].apply(lambda x: \" \".join([lemmatizer.lemmatize(w) for w in x.split()]))\n"
      ]
    },
    {
      "cell_type": "code",
      "execution_count": 36,
      "metadata": {
        "colab": {
          "base_uri": "https://localhost:8080/"
        },
        "id": "wq4kl9K3vfFM",
        "outputId": "63a2e7dc-4a9c-4202-9b4a-7ebb2bee3eab"
      },
      "outputs": [
        {
          "output_type": "stream",
          "name": "stdout",
          "text": [
            "After filtering by word count: (7850, 3)\n"
          ]
        }
      ],
      "source": [
        "\n",
        "#  Filtering by word counts\n",
        "# Calculate word counts\n",
        "df[\"word_count\"] = df[\"Text\"].str.split().apply(len)\n",
        "\n",
        "# Filter reviews by word count\n",
        "df = df[(df[\"word_count\"] >= 3) & (df[\"word_count\"] <= 100)].copy()\n",
        "\n",
        "print(\"After filtering by word count:\", df.shape)"
      ]
    },
    {
      "cell_type": "markdown",
      "metadata": {
        "id": "d5lftkUgrpOE"
      },
      "source": [
        "# **DATA VISUALIZATION**"
      ]
    },
    {
      "cell_type": "code",
      "execution_count": 37,
      "metadata": {
        "colab": {
          "base_uri": "https://localhost:8080/"
        },
        "id": "0TYpJlebri3x",
        "outputId": "7f1ddf26-b7ee-465b-9da8-4edc44782fd9"
      },
      "outputs": [
        {
          "output_type": "stream",
          "name": "stdout",
          "text": [
            "count    7850.000000\n",
            "mean       31.195669\n",
            "std        22.526013\n",
            "min         3.000000\n",
            "25%        14.000000\n",
            "50%        25.000000\n",
            "75%        44.000000\n",
            "max       100.000000\n",
            "Name: word_count, dtype: float64\n"
          ]
        }
      ],
      "source": [
        "# Compute word counts\n",
        "df[\"word_count\"] = df[\"Text\"].apply(lambda x: len(x.split()))\n",
        "print(df[\"word_count\"].describe())"
      ]
    },
    {
      "cell_type": "code",
      "execution_count": 38,
      "metadata": {
        "colab": {
          "base_uri": "https://localhost:8080/",
          "height": 651
        },
        "id": "RK5wHmjrsxFk",
        "outputId": "2eced951-c5ff-4212-a1dd-46c04073c405"
      },
      "outputs": [
        {
          "output_type": "stream",
          "name": "stderr",
          "text": [
            "/tmp/ipython-input-4173881552.py:3: FutureWarning: \n",
            "\n",
            "Passing `palette` without assigning `hue` is deprecated and will be removed in v0.14.0. Assign the `x` variable to `hue` and set `legend=False` for the same effect.\n",
            "\n",
            "  sns.boxplot(x=\"Score\", y=\"word_count\", data=df, palette=\"Set3\")\n"
          ]
        },
        {
          "output_type": "display_data",
          "data": {
            "text/plain": [
              "<Figure size 1000x600 with 1 Axes>"
            ],
            "image/png": "[encoded data removed]"
          },
          "metadata": {}
        }
      ],
      "source": [
        "#  Boxplot\n",
        "plt.figure(figsize=(10, 6))\n",
        "sns.boxplot(x=\"Score\", y=\"word_count\", data=df, palette=\"Set3\")\n",
        "plt.title(\"Boxplot of Word Count Distribution by Rating\")\n",
        "plt.xlabel(\"Rating (Score)\")\n",
        "plt.ylabel(\"Word Count\")\n",
        "plt.show()"
      ]
    },
    {
      "cell_type": "code",
      "execution_count": 39,
      "metadata": {
        "colab": {
          "base_uri": "https://localhost:8080/",
          "height": 564
        },
        "id": "VCwk6Ct4t71l",
        "outputId": "051e0898-5aac-49c4-b73a-be12386d5b21"
      },
      "outputs": [
        {
          "output_type": "display_data",
          "data": {
            "text/plain": [
              "<Figure size 1200x600 with 1 Axes>"
            ],
            "image/png": "[encoded data removed]"
          },
          "metadata": {}
        }
      ],
      "source": [
        "#  Histogram\n",
        "plt.figure(figsize=(12, 6))\n",
        "for score in sorted(df[\"Score\"].unique()):\n",
        "    subset = df[df[\"Score\"] == score]\n",
        "    sns.histplot(subset[\"word_count\"], bins=30, label=f\"Score {score}\", kde=True, alpha=0.6)\n",
        "plt.title(\"Histogram of Word Count Distribution by Rating\")\n",
        "plt.xlabel(\"Word Count\")\n",
        "plt.ylabel(\"Frequency\")\n",
        "plt.legend()\n",
        "plt.show()\n"
      ]
    },
    {
      "cell_type": "code",
      "execution_count": 40,
      "metadata": {
        "colab": {
          "base_uri": "https://localhost:8080/",
          "height": 574
        },
        "id": "rMstQ4k3-AyS",
        "outputId": "1dff0981-5a50-4555-cbb0-f1695dfec328"
      },
      "outputs": [
        {
          "output_type": "stream",
          "name": "stderr",
          "text": [
            "/tmp/ipython-input-535437343.py:6: FutureWarning: \n",
            "\n",
            "Passing `palette` without assigning `hue` is deprecated and will be removed in v0.14.0. Assign the `x` variable to `hue` and set `legend=False` for the same effect.\n",
            "\n",
            "  sns.barplot(x=\"Score\", y=\"word_count\", data=total_word_count, palette=\"Set2\")\n"
          ]
        },
        {
          "output_type": "display_data",
          "data": {
            "text/plain": [
              "<Figure size 800x500 with 1 Axes>"
            ],
            "image/png": "[encoded data removed]"
          },
          "metadata": {}
        }
      ],
      "source": [
        "# Bar chart\n",
        "# Calculate total word count per rating\n",
        "total_word_count = df.groupby(\"Score\")[\"word_count\"].sum().reset_index()\n",
        "\n",
        "plt.figure(figsize=(8, 5))\n",
        "sns.barplot(x=\"Score\", y=\"word_count\", data=total_word_count, palette=\"Set2\")\n",
        "plt.title(\"Total Word Count per Rating\")\n",
        "plt.xlabel(\"Rating (Score)\")\n",
        "plt.ylabel(\"Total Word Count\")\n",
        "plt.show()"
      ]
    },
    {
      "cell_type": "markdown",
      "metadata": {
        "id": "H3p-It9jvvqj"
      },
      "source": [
        "## **Sample Reviews**"
      ]
    },
    {
      "cell_type": "code",
      "execution_count": 41,
      "metadata": {
        "colab": {
          "base_uri": "https://localhost:8080/"
        },
        "id": "733JPAbhuJhN",
        "outputId": "c227fbf8-d5e2-4c44-e560-881663a500a4"
      },
      "outputs": [
        {
          "output_type": "stream",
          "name": "stdout",
          "text": [
            "\n",
            "========== Rating: 1 ==========\n",
            "\n",
            "1. ive never allergic reaction food anything else life within 20 second starting chew piece gum throat began burn airway became constricted thats strange ive chewing spearmint peppermint ice cube reaction tasted another piece another pack get stuff free dining facility iraq throat started burning history food allergy might want try flavor\n",
            "\n",
            "2. product 6 size oversized worst experience\n",
            "\n",
            "3. pack 8 campell soup listed 5100 regular lolwhat grocery store sell price must kidding right sale buy store little 100 sale even less bogus pricesbogusprices grocery site\n",
            "\n",
            "4. pure bred rottweiler love eat seen amazon although review price right figured would try never dog wouldnt even swallow kibble mouth spit left food bowl day watching see food possibly heat eating food replaced another kind like quickly ate would recommend food even non picky dog\n",
            "\n",
            "5. although zico may claim natural disagree since made concentrate prefer drink vita coco much flavorful brand coconut water actually 100 natural\n",
            "\n",
            "\n",
            "========== Rating: 2 ==========\n",
            "\n",
            "1. wanted like item seen generally favorable review loaded liver treat opened front door offer dog grabbed rope released itand fell two foot onto step cracked pretty surprised took little break crack screwin bottom spread basically bottom broke uselessback amazon sorry maybe rubber guard bottom would make better product\n",
            "\n",
            "2. product seems thought would come brown bottle came plastic clear container would purchasedit product ok\n",
            "\n",
            "3. bought reading great review bit better folgers taste something bitter flavor kind disappointed really\n",
            "\n",
            "4. missing ingredient list allergy warning u knowbr br ingredientsbr sugar reconstituted egg white wheat flour vegetable oil soya flour glucosefructose syrup apricot glucose syrup humectant vegetable glycerine hydrogenated vegetable oil milk protein ground almond dextrose rice flour sucrose syrup whey powder raising agent sodium aluminium phosphate sodium bicarbonate emulsifier mono diglycerides fatty acid sodium stearate salt colour annatto cochineal gelling agent carrageenan pectin citric acid tartaric acid acidity regulator sodium citrate acetic acid preservative potassium sorbate flavouringbr br allergy informationbr contains gluten wheat wheat flour egg milk milk protein whey powder nut almond soya soya flour\n",
            "\n",
            "5. bought bread mix due high rated review mix made beautiful loaf flavor wasnt greatest way able eat pile peanut butter jelly stated one review also contains milk im lactose intolerant give pamelas try\n",
            "\n",
            "\n",
            "========== Rating: 3 ==========\n",
            "\n",
            "1. device catch voice properly\n",
            "\n",
            "2. got looking great coffee make work without coffee machine spending 2 cup unfortunately keep searchingbr br smell really nice weak coffee\n",
            "\n",
            "3. clearly see less tuna size can something trend day buying brand tuna box store amazon container used transfer tuna would never fit 4 cansnow 3 can dont fill container need use 4 can pretty bad company offer less product size price tuna still fine though\n",
            "\n",
            "4. really wanted like chili mix im ohio previously unfamiliar cincinnatistyle chili problem chili includebr much cinnamon flavorbr soupy recipe call 6 cup waterbr heatbr br wasnt bad im unsure particular brand following five packet im need use heavily doctor recipe next timebr br 25 star\n",
            "\n",
            "5. good strong stand still load\n",
            "\n",
            "\n",
            "========== Rating: 4 ==========\n",
            "\n",
            "1. okay eat potato chip anyonebr spicy would find hard eatbr many make indulgence thatbr rescue people overindulgence\n",
            "\n",
            "2. ive trying different jerky dukan diet allows way much sugar content thanks jack link right 3 gram sugar compared 7 brand peppered flavor spicy enough let know ate something sweet come across like candy buy pound bag divide five baggies id eat whole bag meat pretty clean compared jerky ive every mouthful unfit chewing best price ive found ebay buying quantity dividing bag last crumbly handful left bottom one pound bag real eyeopener seems pepper seed congregate good time p lost 40 pound dukan diet three month content food get eat jerky one\n",
            "\n",
            "3. bought product friend loved couldnt wait make sushi holiday great product\n",
            "\n",
            "4. sure really give energy taste good better hot dog 10th\n",
            "\n",
            "5. salsa really good dissapointed get ordered hot flavor amazon sent three medium version instead hot well still enjoys salsa add extra chili powder make spicy hope pacakging people could carefully next time\n",
            "\n",
            "\n",
            "========== Rating: 5 ==========\n",
            "\n",
            "1. latest beverage obsession love soft drink im pregnant im trying cut amount sugar consume overall ive trying limit coke addiction izze juice tried blackberry fizzy like pop sweet although overly sweet satisfies craving bonus got real fruit juice convince health drink br br 90 calorie diet pop less regular one\n",
            "\n",
            "2. excellent hot chocolate love love hot chocolate go love would purchase\n",
            "\n",
            "3. put everything well meat grillsmoke anyway first ran product living austin tx 10 year ago using since whatever reason decided check amazon usually order directly bolners site know amazon prime eligible product well anyone may read review buy smaller container stuff give try 100 sure bet next order buy big container\n",
            "\n",
            "4. love dressingits portability biggest selling point wish dressing available single serve pack taste wonderful totally fat free dressing there nothing else market compare eat travel good bit fit right lifestyle\n",
            "\n",
            "5. got first shipment cooky saturday weve already eaten two package wonderfully textured soft bit dry raspberry fig flavor nicely balanced filling generousbr cant think way improve\n",
            "\n"
          ]
        }
      ],
      "source": [
        "num_samples = 5  # number of reviews per rating\n",
        "\n",
        "for score in sorted(df[\"Score\"].unique()):\n",
        "    print(f\"\\n{'='*10} Rating: {score} {'='*10}\\n\")\n",
        "    sample_reviews = df[df[\"Score\"] == score][\"Text\"].sample(n=min(num_samples, len(df[df[\"Score\"] == score])), random_state=SEED)\n",
        "    for i, review in enumerate(sample_reviews, 1):\n",
        "        print(f\"{i}. {review}\\n\")"
      ]
    },
    {
      "cell_type": "markdown",
      "metadata": {
        "id": "8yJ_E7xmwYST"
      },
      "source": [
        "# **TRAIN-TEST SPLIT**"
      ]
    },
    {
      "cell_type": "markdown",
      "metadata": {
        "id": "ZdWZD1Inwe3I"
      },
      "source": [
        "**For Balanced Dataset**"
      ]
    },
    {
      "cell_type": "code",
      "execution_count": 42,
      "metadata": {
        "id": "sBhqh07kwmAr"
      },
      "outputs": [],
      "source": [
        "from sklearn.model_selection import train_test_split\n"
      ]
    },
    {
      "cell_type": "code",
      "execution_count": 43,
      "metadata": {
        "colab": {
          "base_uri": "https://localhost:8080/"
        },
        "id": "DqB4Vk9Pvr1H",
        "outputId": "6ff8477a-6ebb-4e05-eb45-a4d61aeba712"
      },
      "outputs": [
        {
          "output_type": "stream",
          "name": "stdout",
          "text": [
            "Training set: (6280,) (6280,)\n",
            "Test set: (1570,) (1570,)\n"
          ]
        }
      ],
      "source": [
        "\n",
        "# Features and target\n",
        "X = df[\"Text\"]  # input text\n",
        "y = df[\"Score\"]  # target rating\n",
        "\n",
        "# Perform split\n",
        "X_train, X_test, y_train, y_test = train_test_split(\n",
        "    X, y, test_size=0.2, random_state=SEED, stratify=y\n",
        ")\n",
        "\n",
        "# Print shapes\n",
        "print(\"Training set:\", X_train.shape, y_train.shape)\n",
        "print(\"Test set:\", X_test.shape, y_test.shape)"
      ]
    },
    {
      "cell_type": "markdown",
      "metadata": {
        "id": "_5z_nCtJxC4U"
      },
      "source": [
        "# **VECTORIZATION**"
      ]
    },
    {
      "cell_type": "code",
      "execution_count": 44,
      "metadata": {
        "id": "8HMw0G7dwswm"
      },
      "outputs": [],
      "source": [
        "from sklearn.feature_extraction.text import TfidfVectorizer\n"
      ]
    },
    {
      "cell_type": "code",
      "execution_count": 45,
      "metadata": {
        "colab": {
          "base_uri": "https://localhost:8080/"
        },
        "id": "5g3vI-YqxGR2",
        "outputId": "b1b70182-1151-4d9e-ff4e-869c61fe92fb"
      },
      "outputs": [
        {
          "output_type": "stream",
          "name": "stdout",
          "text": [
            "TF-IDF Shapes:\n",
            "X_train: (6280, 5000)\n",
            "X_test: (1570, 5000)\n"
          ]
        }
      ],
      "source": [
        "# Initialize TF-IDF vectorizer\n",
        "tfidf = TfidfVectorizer(\n",
        "    max_features=5000,       # limit vocabulary size\n",
        "    ngram_range=(1, 2),      # unigrams + bigrams\n",
        "    stop_words=\"english\"     # remove stopwords\n",
        ")\n",
        "\n",
        "# Fit on training data and transform both train and test\n",
        "X_train_tfidf = tfidf.fit_transform(X_train)\n",
        "X_test_tfidf = tfidf.transform(X_test)\n",
        "\n",
        "# Print shapes\n",
        "print(\"TF-IDF Shapes:\")\n",
        "print(\"X_train:\", X_train_tfidf.shape)\n",
        "print(\"X_test:\", X_test_tfidf.shape)"
      ]
    },
    {
      "cell_type": "markdown",
      "metadata": {
        "id": "Ai5v9ViXXYgs"
      },
      "source": [
        "# **DATA PREPROCESSING**"
      ]
    },
    {
      "cell_type": "markdown",
      "metadata": {
        "id": "vmxRpzlCJsre"
      },
      "source": [
        "### **For Imbalanced Dataset**"
      ]
    },
    {
      "cell_type": "code",
      "execution_count": 46,
      "metadata": {
        "colab": {
          "base_uri": "https://localhost:8080/"
        },
        "id": "6iosnu2AxJ5b",
        "outputId": "cf5a5f63-85c1-4918-8096-b23bd91db811"
      },
      "outputs": [
        {
          "output_type": "stream",
          "name": "stdout",
          "text": [
            "Initial shape: (10000, 3)\n"
          ]
        }
      ],
      "source": [
        "dfi = imbalanced_df.copy()\n",
        "print(\"Initial shape:\", dfi.shape)"
      ]
    },
    {
      "cell_type": "code",
      "execution_count": 47,
      "metadata": {
        "id": "SzQxn6LOTjp1"
      },
      "outputs": [],
      "source": [
        "import emoji\n",
        "from nltk.corpus import stopwords\n",
        "from nltk.stem import WordNetLemmatizer"
      ]
    },
    {
      "cell_type": "code",
      "execution_count": 48,
      "metadata": {
        "id": "4LAQCTRrTvnz"
      },
      "outputs": [],
      "source": [
        "# 1. Remove duplicates\n",
        "dfi.drop_duplicates(subset=[\"Text\", \"Summary\"], inplace=True)"
      ]
    },
    {
      "cell_type": "code",
      "execution_count": 49,
      "metadata": {
        "colab": {
          "base_uri": "https://localhost:8080/"
        },
        "id": "P-EA2bNMgIq3",
        "outputId": "8e844ae2-d6ea-4c15-b909-bbb478915005"
      },
      "outputs": [
        {
          "output_type": "stream",
          "name": "stdout",
          "text": [
            "Conflicting reviews found in imbalanced dataset: 77\n"
          ]
        }
      ],
      "source": [
        "# Remove conflicting reviews (resolve by majority vote)\n",
        "# Conflicting reviews: same Text with different Scores\n",
        "conflict_counts_i = dfi.groupby(\"Text\")[\"Score\"].nunique()\n",
        "conflicting_texts_i = conflict_counts_i[conflict_counts_i > 1].index\n",
        "\n",
        "print(f\"Conflicting reviews found in imbalanced dataset: {len(conflicting_texts_i)}\")\n",
        "\n",
        "# Resolve by majority vote (if tie, take max Score)\n",
        "def resolve_score_i(group):\n",
        "    counts = group.value_counts()\n",
        "    max_count = counts.max()\n",
        "    top_scores = counts[counts == max_count].index\n",
        "    return top_scores.max()  # pick max if tie\n",
        "\n",
        "for text in conflicting_texts_i:\n",
        "    mask_i = dfi[\"Text\"] == text\n",
        "    dfi.loc[mask_i, \"Score\"] = resolve_score_i(dfi.loc[mask_i, \"Score\"])"
      ]
    },
    {
      "cell_type": "code",
      "execution_count": 50,
      "metadata": {
        "id": "Z4sm2KscTzpJ"
      },
      "outputs": [],
      "source": [
        "# 2. Handle missing values\n",
        "dfi[\"Text\"] = dfi[\"Text\"].fillna(\"\").astype(str)\n",
        "dfi[\"Summary\"] = dfi[\"Summary\"].fillna(\"\").astype(str)\n",
        "dfi.dropna(subset=[\"Score\"], inplace=True)"
      ]
    },
    {
      "cell_type": "code",
      "execution_count": 51,
      "metadata": {
        "id": "JRwHUWAiT1vH"
      },
      "outputs": [],
      "source": [
        "# 3. Drop unnecessary columns\n",
        "dfi = dfi[[\"Text\", \"Score\"]]"
      ]
    },
    {
      "cell_type": "code",
      "execution_count": 52,
      "metadata": {
        "id": "2XeVPK73T3mK"
      },
      "outputs": [],
      "source": [
        "# 4. Lowercase\n",
        "dfi[\"Text\"] = dfi[\"Text\"].str.lower()"
      ]
    },
    {
      "cell_type": "code",
      "execution_count": 53,
      "metadata": {
        "id": "dYfxZTEhT5rx"
      },
      "outputs": [],
      "source": [
        "# 5. Remove URLs\n",
        "dfi[\"Text\"] = dfi[\"Text\"].str.replace(r\"http\\S+|www\\S+|https\\S+\", \"\", regex=True)\n"
      ]
    },
    {
      "cell_type": "code",
      "execution_count": 54,
      "metadata": {
        "id": "yWAU6DJBUFzF"
      },
      "outputs": [],
      "source": [
        "# 6. Remove emojis & special characters\n",
        "def remove_emoji(text):\n",
        "    return emoji.replace_emoji(text, replace='')\n",
        "dfi[\"Text\"] = dfi[\"Text\"].apply(remove_emoji)\n",
        "dfi[\"Text\"] = dfi[\"Text\"].str.encode(\"ascii\", \"ignore\").str.decode(\"ascii\")\n"
      ]
    },
    {
      "cell_type": "code",
      "execution_count": 55,
      "metadata": {
        "id": "s7EEUO9tUJZA"
      },
      "outputs": [],
      "source": [
        "# 7. Remove punctuation\n",
        "import string\n",
        "dfi[\"Text\"] = dfi[\"Text\"].str.translate(str.maketrans(\"\", \"\", string.punctuation))\n"
      ]
    },
    {
      "cell_type": "code",
      "execution_count": 56,
      "metadata": {
        "id": "VGz16kSCUMwl"
      },
      "outputs": [],
      "source": [
        "# 8. Stopword removal\n",
        "stop_words = set(stopwords.words(\"english\"))\n",
        "dfi[\"Text\"] = dfi[\"Text\"].apply(lambda x: \" \".join([w for w in x.split() if w not in stop_words]))\n"
      ]
    },
    {
      "cell_type": "code",
      "execution_count": 57,
      "metadata": {
        "colab": {
          "base_uri": "https://localhost:8080/"
        },
        "id": "-0wUt6QQUQmc",
        "outputId": "597b701e-c666-43be-87d7-0b40d29ae69e"
      },
      "outputs": [
        {
          "output_type": "stream",
          "name": "stdout",
          "text": [
            "Number of stopwords: 198\n",
            "\n",
            "Stopwords: {'ain', 'same', 'after', 'she', 'was', 't', 'from', \"we'd\", 'most', 'because', 'other', 'now', 'we', \"it'd\", 'am', 'both', 'been', 'out', 'being', 'some', 'up', 'them', 'your', 'then', 'yours', 'below', 'here', 'with', 'itself', 'will', \"that'll\", \"wouldn't\", 'but', 'should', 'each', 'did', 'mightn', \"i'm\", 'are', \"you'll\", 'his', 're', 'again', 'own', \"she'll\", \"she'd\", 'i', 'didn', 'ours', 'all', \"i'll\", 'mustn', \"she's\", 'which', 'by', 'theirs', \"shan't\", 'the', \"mightn't\", 'their', 'a', \"hasn't\", 'has', \"you've\", \"he'll\", \"you're\", \"he's\", \"should've\", 'too', 'do', 'more', \"mustn't\", 'there', 'don', \"haven't\", 'shan', 'nor', 'as', 'above', \"aren't\", \"you'd\", \"hadn't\", \"isn't\", 'they', \"didn't\", 'it', 'about', 'having', 'just', 'any', 'at', 'ourselves', 'how', 'm', 'over', \"it's\", 'into', \"they've\", 'those', 'you', 'o', \"we'll\", 'herself', 'himself', 'her', 'until', 'very', 'if', 'before', \"i've\", 'between', 'only', \"wasn't\", \"needn't\", 'him', 'does', 'further', 'so', \"won't\", 've', 'were', 'where', 'myself', 'wasn', 'll', 'aren', 'under', 'down', 'in', 'won', 'this', 'who', \"we've\", 'have', \"i'd\", 'shouldn', \"they'd\", 'hasn', 'once', 'he', 'me', 'why', \"don't\", 'needn', 'while', 'such', 'few', 'y', 'doing', 'during', 'for', \"they're\", 'had', 'haven', 'hers', 'isn', 'doesn', \"it'll\", 'its', \"couldn't\", 's', \"weren't\", 'whom', 'not', 'of', 'what', 'ma', 'd', 'wouldn', 'when', 'my', \"we're\", 'yourself', 'these', 'against', 'an', 'themselves', 'weren', 'hadn', 'through', \"shouldn't\", 'or', 'our', 'to', 'yourselves', \"doesn't\", 'and', 'can', 'on', 'couldn', 'off', 'than', 'is', 'that', \"they'll\", \"he'd\", 'be', 'no'}\n"
          ]
        }
      ],
      "source": [
        "# Print the number of stopwords and the stopwords themselves\n",
        "print(\"Number of stopwords:\", len(stop_words))\n",
        "print(\"\\nStopwords:\", stop_words)"
      ]
    },
    {
      "cell_type": "code",
      "execution_count": 58,
      "metadata": {
        "id": "_nmOI0cbUcX7"
      },
      "outputs": [],
      "source": [
        "# 9. Lemmatization\n",
        "lemmatizer = WordNetLemmatizer()\n",
        "dfi[\"Text\"] = dfi[\"Text\"].apply(lambda x: \" \".join([lemmatizer.lemmatize(w) for w in x.split()]))\n"
      ]
    },
    {
      "cell_type": "code",
      "execution_count": 59,
      "metadata": {
        "colab": {
          "base_uri": "https://localhost:8080/"
        },
        "id": "PPNOt5ZSVuIa",
        "outputId": "8256ca6a-a0d0-42e8-f543-516f3ad20530"
      },
      "outputs": [
        {
          "output_type": "stream",
          "name": "stdout",
          "text": [
            "After filtering by word count: (7676, 3)\n"
          ]
        }
      ],
      "source": [
        "# 10. Filtering by word counts\n",
        "# Calculate word counts\n",
        "dfi[\"word_count\"] = dfi[\"Text\"].str.split().apply(len)\n",
        "\n",
        "# Filter reviews by word count\n",
        "dfi = dfi[(dfi[\"word_count\"] >= 3) & (dfi[\"word_count\"] <= 100)].copy()\n",
        "\n",
        "print(\"After filtering by word count:\", dfi.shape)"
      ]
    },
    {
      "cell_type": "markdown",
      "metadata": {
        "id": "0lWodUxhZgVI"
      },
      "source": [
        "# **DATA VISUALIZATION**"
      ]
    },
    {
      "cell_type": "code",
      "execution_count": 60,
      "metadata": {
        "id": "qBDmxIW6Zfyf"
      },
      "outputs": [],
      "source": [
        "import matplotlib.pyplot as plt\n",
        "import seaborn as sns"
      ]
    },
    {
      "cell_type": "code",
      "execution_count": 61,
      "metadata": {
        "id": "ip2Q4mSYaazZ"
      },
      "outputs": [],
      "source": [
        "# Ensure word counts are available\n",
        "if \"word_count\" not in dfi.columns:\n",
        "    dfi[\"word_count\"] = dfi[\"Text\"].str.split().apply(len)\n"
      ]
    },
    {
      "cell_type": "code",
      "execution_count": 62,
      "metadata": {
        "colab": {
          "base_uri": "https://localhost:8080/",
          "height": 564
        },
        "id": "w6dbC3IpbmwM",
        "outputId": "2d4a4be4-3565-4669-9c76-1763f5c4b412"
      },
      "outputs": [
        {
          "output_type": "display_data",
          "data": {
            "text/plain": [
              "<Figure size 1200x600 with 1 Axes>"
            ],
            "image/png": "[encoded data removed]"
          },
          "metadata": {}
        }
      ],
      "source": [
        "plt.figure(figsize=(12, 6))\n",
        "for score in sorted(dfi[\"Score\"].unique()):\n",
        "    subset = dfi[dfi[\"Score\"] == score]\n",
        "    sns.histplot(subset[\"word_count\"], bins=30, label=f\"Score {score}\", kde=True, alpha=0.6)\n",
        "plt.title(\"Histogram of Word Count Distribution by Rating (Imbalanced Dataset)\")\n",
        "plt.xlabel(\"Word Count\")\n",
        "plt.ylabel(\"Frequency\")\n",
        "plt.legend()\n",
        "plt.show()"
      ]
    },
    {
      "cell_type": "code",
      "execution_count": 63,
      "metadata": {
        "colab": {
          "base_uri": "https://localhost:8080/",
          "height": 651
        },
        "id": "2ScsXLNvalgd",
        "outputId": "9545f72a-1747-43e7-daac-9b9346c967eb"
      },
      "outputs": [
        {
          "output_type": "stream",
          "name": "stderr",
          "text": [
            "/tmp/ipython-input-3744782776.py:2: FutureWarning: \n",
            "\n",
            "Passing `palette` without assigning `hue` is deprecated and will be removed in v0.14.0. Assign the `x` variable to `hue` and set `legend=False` for the same effect.\n",
            "\n",
            "  sns.boxplot(x=\"Score\", y=\"word_count\", data=dfi, palette=\"Set3\")\n"
          ]
        },
        {
          "output_type": "display_data",
          "data": {
            "text/plain": [
              "<Figure size 1000x600 with 1 Axes>"
            ],
            "image/png": "[encoded data removed]"
          },
          "metadata": {}
        }
      ],
      "source": [
        "plt.figure(figsize=(10, 6))\n",
        "sns.boxplot(x=\"Score\", y=\"word_count\", data=dfi, palette=\"Set3\")\n",
        "plt.title(\"Boxplot of Word Count Distribution by Rating (Imbalanced Dataset)\")\n",
        "plt.xlabel(\"Rating (Score)\")\n",
        "plt.ylabel(\"Word Count\")\n",
        "plt.show()"
      ]
    },
    {
      "cell_type": "code",
      "execution_count": 64,
      "metadata": {
        "colab": {
          "base_uri": "https://localhost:8080/",
          "height": 574
        },
        "id": "eWdNlzbsalRV",
        "outputId": "96a194d9-7159-470c-bf26-a1f485c0a3c1"
      },
      "outputs": [
        {
          "output_type": "stream",
          "name": "stderr",
          "text": [
            "/tmp/ipython-input-2376561531.py:5: FutureWarning: \n",
            "\n",
            "Passing `palette` without assigning `hue` is deprecated and will be removed in v0.14.0. Assign the `x` variable to `hue` and set `legend=False` for the same effect.\n",
            "\n",
            "  sns.barplot(x=\"Score\", y=\"word_count\", data=total_word_count_i, palette=\"Set2\")\n"
          ]
        },
        {
          "output_type": "display_data",
          "data": {
            "text/plain": [
              "<Figure size 800x500 with 1 Axes>"
            ],
            "image/png": "[encoded data removed]"
          },
          "metadata": {}
        }
      ],
      "source": [
        "# Calculate total word count per rating for imbalanced dataset\n",
        "total_word_count_i = dfi.groupby(\"Score\")[\"word_count\"].sum().reset_index()\n",
        "\n",
        "plt.figure(figsize=(8, 5))\n",
        "sns.barplot(x=\"Score\", y=\"word_count\", data=total_word_count_i, palette=\"Set2\")\n",
        "plt.title(\"Total Word Count per Rating (Imbalanced Dataset)\")\n",
        "plt.xlabel(\"Rating (Score)\")\n",
        "plt.ylabel(\"Total Word Count\")\n",
        "plt.show()"
      ]
    },
    {
      "cell_type": "code",
      "execution_count": 65,
      "metadata": {
        "colab": {
          "base_uri": "https://localhost:8080/"
        },
        "id": "WrqLa2c3W0ES",
        "outputId": "7b75f039-f673-4a50-9709-c986d26ddd34"
      },
      "outputs": [
        {
          "output_type": "stream",
          "name": "stdout",
          "text": [
            "\n",
            "========== Rating: 1 ==========\n",
            "\n",
            "1. bad product sad buy product product quality\n",
            "\n",
            "2. worst garbage ive ever boughten horrible hamburger helper imitation almost double price stick hamburger helper youll happier\n",
            "\n",
            "3. damage 2 daysnot running goodbut looking good\n",
            "\n",
            "4. product working turn indicator light need keep rotating container look like issue product also doesnt look like brand\n",
            "\n",
            "5. pls dont buy good hard tennis ball handle craked\n",
            "\n",
            "\n",
            "========== Rating: 2 ==========\n",
            "\n",
            "1. received wrong product instead vanilla flavored got original im canceling subscription fine service\n",
            "\n",
            "2. grow tired product claim healthy whenever bar exception put ingredient like oatmeal walnut raisin food certainly give illusion youre consuming something healthy right look ingredient list nutritional info oat raisin walnut spice bar reality hit square eyeballsthis good although one tiny bar contains 100 calorie mostly carbohydrate spike blood sugar insulin level thats good body youre attempting eat healthy suppose product better carbage sold store day favor consuming mean lose weight improve health course dont care either one thing eat want shed pound ward chronic disease run away run far away product\n",
            "\n",
            "3. got maine coon breeder told feeding snapped wordsbr br feed greenies contain bisulfite complex synthetic vit k carcinogen cause kidney liver problem upper end product us anymore fda banned human product feed anything menadione sodium bisulfite often call mendadione mendadione sodium bisulfite complex various combination word used cheap source vit k br br trust say shes business almost long ive alive cat include several champion\n",
            "\n",
            "4. mean coffee snob usually handle coffee lower quality brewed cup hazelnut community coffee lot trouble drinking aroma almost predominantly hazelnut smell coffee distant second visually ground extremely uneven random chunk taste soon first mouthful first thought mind vegetable strong green vegetable flavor find extremely unpleasant friend mine found mixing coffee another company dark roast coffee brewing helped alleviate problem purchasing company especially many great coffee choice\n",
            "\n",
            "5. wanted warn potential buyer received open package buying amazon llc think thats pretty disgusting since product thats intended consumption pet also portion red meat looked like chewed white bone portion stained red basically looked dog chewed little repackaged sold amazon buyer beware\n",
            "\n",
            "\n",
            "========== Rating: 3 ==========\n",
            "\n",
            "1. taste little fishy sea gift cost per ounce much mild also smaller size make ideal pack lunchbox\n",
            "\n",
            "2. far accomplishing mission keeping blood sugar steady bar seem fine job chocolate flavor taste mediocre best eaten numerous protein bar health food bar compare one would put somewhere middle flavorbr br start okay halfway didnt want finish bar would willing try another flavor though believe company could better another flavor\n",
            "\n",
            "3. like good coffee ok expensive would use boondocks time better solution available good coffee\n",
            "\n",
            "4. okbut good november december type wintermore average winter good alllight winter okay\n",
            "\n",
            "5. impulse buy purchased food item decided try getting amazon later found product much cheaper local big box membership warehouse store jerky freshness find local store hoping fresher ie softer jerky\n",
            "\n",
            "\n",
            "========== Rating: 4 ==========\n",
            "\n",
            "1. sound good bass okay\n",
            "\n",
            "2. dog love bone kind rawhide normally hidden around house decides dig chew absolutely loved bone although didnt take long chew definitely long rawhide cant say much digestive affect didnt notice much difference didnt seem pain diarrhea owner said outside routine didnt seem changed need immediately get outside bone definitely treat dog one would consider buying future\n",
            "\n",
            "3. ingredient list earth best trump conventional formula slightly son pleased product\n",
            "\n",
            "4. recently bought roland rice come 20 pound bag live cant get rice quantity found good requires bit washing little drier tasting nothing really bad though let cook little longer great defiantly buying\n",
            "\n",
            "5. really wanted try world famous chili ordered good meaty chili reminded chili used old restaurant chain called doggie diner tasty way fattening chili around wasnt special would go buy take calorie consequence im feeling nostalgic skinny might go ahead order another\n",
            "\n",
            "\n",
            "========== Rating: 5 ==========\n",
            "\n",
            "1. dog love greenies give one evening hoping clean teeth\n",
            "\n",
            "2. lovely dinner set perfect 4 member\n",
            "\n",
            "3. cool product great concept dog love material outside well made perfect chewing fetching tennis ball dog excited try get hidden another ball got dirty real quick easy wash\n",
            "\n",
            "4. absolutely amazing adding simple dab sugar make cupcake pop thing product vibrance quite frankly make grocery store brand seem dull infused granule much red5 could pack mind sugar artificial coloring arent best thing make fun time food would recommend buy sure would lose bottle cheaper store brand amazon prime there trip made store\n",
            "\n",
            "5. wife love strong coffee jet fuel favorite like strong coffee give trybr update show much like placed 3rd order many month\n",
            "\n"
          ]
        }
      ],
      "source": [
        "num_samples = 5  # number of reviews per rating\n",
        "\n",
        "for score in sorted(dfi[\"Score\"].unique()):\n",
        "    print(f\"\\n{'='*10} Rating: {score} {'='*10}\\n\")\n",
        "    sample_reviews = dfi[dfi[\"Score\"] == score][\"Text\"].sample(n=min(num_samples, len(dfi[dfi[\"Score\"] == score])), random_state=SEED)\n",
        "    for i, review in enumerate(sample_reviews, 1):\n",
        "        print(f\"{i}. {review}\\n\")"
      ]
    },
    {
      "cell_type": "markdown",
      "metadata": {
        "id": "dZiB3aJwXA1t"
      },
      "source": [
        "# **TRAIN-TEST SPLIT**"
      ]
    },
    {
      "cell_type": "markdown",
      "metadata": {
        "id": "gJnby3LnXntd"
      },
      "source": [
        "**For Imbalanced Dataset**"
      ]
    },
    {
      "cell_type": "code",
      "execution_count": 66,
      "metadata": {
        "colab": {
          "base_uri": "https://localhost:8080/"
        },
        "id": "34Pj54kUWKS5",
        "outputId": "f9248f8c-c1f0-434c-d368-82dce5a81859"
      },
      "outputs": [
        {
          "output_type": "stream",
          "name": "stdout",
          "text": [
            "Training set: (6140,) (6140,)\n",
            "Test set: (1536,) (1536,)\n"
          ]
        }
      ],
      "source": [
        "from sklearn.model_selection import train_test_split\n",
        "\n",
        "X_i = dfi[\"Text\"]\n",
        "y_i = dfi[\"Score\"]\n",
        "\n",
        "X_train_i, X_test_i, y_train_i, y_test_i = train_test_split(\n",
        "    X_i, y_i, test_size=0.2, random_state=SEED, stratify=y_i\n",
        ")\n",
        "\n",
        "print(\"Training set:\", X_train_i.shape, y_train_i.shape)\n",
        "print(\"Test set:\", X_test_i.shape, y_test_i.shape)"
      ]
    },
    {
      "cell_type": "markdown",
      "metadata": {
        "id": "UwlA9Hl3XsuR"
      },
      "source": [
        "# **VECTORIZATION**"
      ]
    },
    {
      "cell_type": "code",
      "execution_count": 67,
      "metadata": {
        "colab": {
          "base_uri": "https://localhost:8080/"
        },
        "id": "OPRwsT18Wd5A",
        "outputId": "33c723ce-cd20-4e11-cb07-093de0cdd721"
      },
      "outputs": [
        {
          "output_type": "stream",
          "name": "stdout",
          "text": [
            "TF-IDF Shapes:\n",
            "X_train_i: (6140, 5000)\n",
            "X_test_i: (1536, 5000)\n"
          ]
        }
      ],
      "source": [
        "from sklearn.feature_extraction.text import TfidfVectorizer\n",
        "\n",
        "tfidf_i = TfidfVectorizer(\n",
        "    max_features=5000,\n",
        "    ngram_range=(1, 2),\n",
        "    stop_words=\"english\"\n",
        ")\n",
        "\n",
        "X_train_i_tfidf = tfidf_i.fit_transform(X_train_i)\n",
        "X_test_i_tfidf = tfidf_i.transform(X_test_i)\n",
        "\n",
        "print(\"TF-IDF Shapes:\")\n",
        "print(\"X_train_i:\", X_train_i_tfidf.shape)\n",
        "print(\"X_test_i:\", X_test_i_tfidf.shape)"
      ]
    },
    {
      "cell_type": "markdown",
      "metadata": {
        "id": "GgIzGzpCb3WQ"
      },
      "source": [
        "# **MODEL TRAINING & EVALUATION**"
      ]
    },
    {
      "cell_type": "markdown",
      "metadata": {
        "id": "U03VDHbDb_X6"
      },
      "source": [
        "**For Balanced Dataset**"
      ]
    },
    {
      "cell_type": "code",
      "execution_count": 68,
      "metadata": {
        "id": "PwOIdSaKW4z3"
      },
      "outputs": [],
      "source": [
        "# Import libraries\n",
        "from sklearn.linear_model import LogisticRegression\n",
        "from sklearn.ensemble import RandomForestClassifier\n",
        "from sklearn.svm import SVC\n",
        "from sklearn.naive_bayes import MultinomialNB\n",
        "from sklearn.metrics import accuracy_score, classification_report, confusion_matrix\n",
        "import matplotlib.pyplot as plt\n",
        "import seaborn as sns"
      ]
    },
    {
      "cell_type": "code",
      "execution_count": 69,
      "metadata": {
        "id": "rs_TJPOlcSvi"
      },
      "outputs": [],
      "source": [
        "# common function for visualization\n",
        "def plot_confusion_matrix(y_true, y_pred, title):\n",
        "    cm = confusion_matrix(y_true, y_pred)\n",
        "    plt.figure(figsize=(5, 4))\n",
        "    sns.heatmap(cm, annot=True, fmt='d', cmap='Blues', cbar=False)\n",
        "    plt.title(f\"Confusion Matrix - {title}\")\n",
        "    plt.xlabel(\"Predicted\")\n",
        "    plt.ylabel(\"Actual\")\n",
        "    plt.show()\n"
      ]
    },
    {
      "cell_type": "markdown",
      "metadata": {
        "id": "9DXpb_Cme53M"
      },
      "source": [
        "### **LOGISTIC REGRESSION**"
      ]
    },
    {
      "cell_type": "code",
      "execution_count": 70,
      "metadata": {
        "colab": {
          "base_uri": "https://localhost:8080/"
        },
        "id": "qunAkbv_extn",
        "outputId": "76d17532-5991-49de-eb36-625bb23c6423"
      },
      "outputs": [
        {
          "output_type": "stream",
          "name": "stdout",
          "text": [
            "\n",
            "📊 Logistic Regression Results:\n",
            "Accuracy: 0.43312101910828027\n",
            "Classification Report:\n",
            "               precision    recall  f1-score   support\n",
            "\n",
            "           1       0.53      0.64      0.57       329\n",
            "           2       0.35      0.36      0.36       329\n",
            "           3       0.36      0.27      0.31       302\n",
            "           4       0.36      0.32      0.34       288\n",
            "           5       0.51      0.56      0.53       322\n",
            "\n",
            "    accuracy                           0.43      1570\n",
            "   macro avg       0.42      0.43      0.42      1570\n",
            "weighted avg       0.42      0.43      0.43      1570\n",
            "\n"
          ]
        }
      ],
      "source": [
        "lr = LogisticRegression(max_iter=1000, random_state=SEED)\n",
        "\n",
        "# Ensure the target variable is numeric\n",
        "y_train = y_train.astype(int)\n",
        "y_test = y_test.astype(int)\n",
        "\n",
        "lr.fit(X_train_tfidf, y_train) # Fit on TF-IDF transformed data\n",
        "\n",
        "y_pred_lr = lr.predict(X_test_tfidf) # Predict on TF-IDF transformed data\n",
        "\n",
        "print(\"\\n📊 Logistic Regression Results:\")\n",
        "print(\"Accuracy:\", accuracy_score(y_test, y_pred_lr))\n",
        "print(\"Classification Report:\\n\", classification_report(y_test, y_pred_lr))"
      ]
    },
    {
      "cell_type": "code",
      "execution_count": 71,
      "metadata": {
        "colab": {
          "base_uri": "https://localhost:8080/",
          "height": 410
        },
        "id": "fqlFmiJ3e-IM",
        "outputId": "a1297e56-df72-4d56-ef30-238a74a3d3bf"
      },
      "outputs": [
        {
          "output_type": "display_data",
          "data": {
            "text/plain": [
              "<Figure size 500x400 with 1 Axes>"
            ],
            "image/png": "[encoded data removed]"
          },
          "metadata": {}
        }
      ],
      "source": [
        "# Confusion Matrix\n",
        "plot_confusion_matrix(y_test, y_pred_lr, \"Logistic Regression\")"
      ]
    },
    {
      "cell_type": "markdown",
      "source": [
        "**Observations**:\n",
        "\n",
        "*  Class 0: Predicted quite accurately; strong diagonal counts.\n",
        "\n",
        "*  Classes 1 & 2: Noticeable confusion with adjacent classes (1↔0/2, 2↔1/3).\n",
        "\n",
        "\n",
        "*   Class 3: Often pushed to class 4.\n",
        "\n",
        "*   Class 4: Good correctness; most errors go to class 3.\n",
        "\n",
        "\n",
        "\n",
        "**Inference**:\n",
        "\n",
        "Strong on extremes (0 and 4), struggles with mid classes due to overlapping language cues. The linear boundary likely underfits subtle sentiment gradations."
      ],
      "metadata": {
        "id": "g1j1WLyg6VdC"
      }
    },
    {
      "cell_type": "markdown",
      "metadata": {
        "id": "LJ3lgPodgeem"
      },
      "source": [
        "### **RANDOM FOREST**"
      ]
    },
    {
      "cell_type": "code",
      "execution_count": 72,
      "metadata": {
        "colab": {
          "base_uri": "https://localhost:8080/"
        },
        "id": "ByWj9OZEgLOJ",
        "outputId": "3b613f5e-51cd-4021-8182-c6828465278e"
      },
      "outputs": [
        {
          "output_type": "stream",
          "name": "stdout",
          "text": [
            "\n",
            "📊 Random Forest Results:\n",
            "Accuracy: 0.4210191082802548\n",
            "Classification Report:\n",
            "               precision    recall  f1-score   support\n",
            "\n",
            "           1       0.49      0.60      0.54       329\n",
            "           2       0.32      0.33      0.32       329\n",
            "           3       0.39      0.23      0.29       302\n",
            "           4       0.41      0.25      0.31       288\n",
            "           5       0.46      0.66      0.54       322\n",
            "\n",
            "    accuracy                           0.42      1570\n",
            "   macro avg       0.41      0.41      0.40      1570\n",
            "weighted avg       0.41      0.42      0.40      1570\n",
            "\n"
          ]
        }
      ],
      "source": [
        "rf = RandomForestClassifier(n_estimators=200, random_state=SEED)\n",
        "rf.fit(X_train_tfidf, y_train) # Fit on TF-IDF transformed data\n",
        "\n",
        "y_pred_rf = rf.predict(X_test_tfidf) # Predict on TF-IDF transformed data\n",
        "\n",
        "print(\"\\n📊 Random Forest Results:\")\n",
        "print(\"Accuracy:\", accuracy_score(y_test, y_pred_rf))\n",
        "print(\"Classification Report:\\n\", classification_report(y_test, y_pred_rf))"
      ]
    },
    {
      "cell_type": "code",
      "execution_count": 73,
      "metadata": {
        "colab": {
          "base_uri": "https://localhost:8080/",
          "height": 410
        },
        "id": "MNBw7pN2glNU",
        "outputId": "cc048ab0-4367-4684-b5e1-9dde93644c6e"
      },
      "outputs": [
        {
          "output_type": "display_data",
          "data": {
            "text/plain": [
              "<Figure size 500x400 with 1 Axes>"
            ],
            "image/png": "[encoded data removed]"
          },
          "metadata": {}
        }
      ],
      "source": [
        "# Confusion Matrix\n",
        "plot_confusion_matrix(y_test, y_pred_rf, \"Random Forest\")"
      ]
    },
    {
      "cell_type": "markdown",
      "source": [
        "**Observations**:\n",
        "\n",
        "\n",
        "*   Class 0 and 4: Better-than-average correctness; distinct diagonal cells.\n",
        "\n",
        "*   Class 1: Leaks into 0 and 2; some overprediction of 0.\n",
        "\n",
        "*   Class 2: Broad confusion with 1 and 3; few confident 2s.\n",
        "\n",
        "*   Class 3: Frequently elevated to 4.\n",
        "\n",
        "**Inference**:\n",
        "\n",
        "Nonlinear splits help extremes but don’t resolve mid-class ambiguity. Trees may overfit token-level quirks, yielding adjacent mislabels instead of crisp class 2/3 separations."
      ],
      "metadata": {
        "id": "pg-LXVnv7mtM"
      }
    },
    {
      "cell_type": "markdown",
      "metadata": {
        "id": "JKGzgKy6g5T3"
      },
      "source": [
        "**SUPPORT VECTOR MACHINE (SVM)**"
      ]
    },
    {
      "cell_type": "code",
      "execution_count": 74,
      "metadata": {
        "colab": {
          "base_uri": "https://localhost:8080/"
        },
        "id": "0E669FFOg1Og",
        "outputId": "00bb21f6-c9f9-4cfa-d0e9-fb918664d01e"
      },
      "outputs": [
        {
          "output_type": "stream",
          "name": "stdout",
          "text": [
            "\n",
            "📊 SVM Results:\n",
            "Accuracy: 0.4299363057324841\n",
            "Classification Report:\n",
            "               precision    recall  f1-score   support\n",
            "\n",
            "           1       0.54      0.62      0.58       329\n",
            "           2       0.36      0.36      0.36       329\n",
            "           3       0.34      0.30      0.32       302\n",
            "           4       0.38      0.36      0.37       288\n",
            "           5       0.50      0.49      0.49       322\n",
            "\n",
            "    accuracy                           0.43      1570\n",
            "   macro avg       0.42      0.43      0.42      1570\n",
            "weighted avg       0.42      0.43      0.43      1570\n",
            "\n"
          ]
        }
      ],
      "source": [
        "svm = SVC(kernel='linear', probability=True, random_state=SEED)\n",
        "svm.fit(X_train_tfidf, y_train)\n",
        "\n",
        "y_pred_svm = svm.predict(X_test_tfidf)\n",
        "\n",
        "print(\"\\n📊 SVM Results:\")\n",
        "print(\"Accuracy:\", accuracy_score(y_test, y_pred_svm))\n",
        "print(\"Classification Report:\\n\", classification_report(y_test, y_pred_svm))"
      ]
    },
    {
      "cell_type": "code",
      "execution_count": 75,
      "metadata": {
        "colab": {
          "base_uri": "https://localhost:8080/",
          "height": 410
        },
        "id": "ckC_rwZXhDUk",
        "outputId": "b6e547f0-dae8-431a-fbaa-be42aae10fa7"
      },
      "outputs": [
        {
          "output_type": "display_data",
          "data": {
            "text/plain": [
              "<Figure size 500x400 with 1 Axes>"
            ],
            "image/png": "[encoded data removed]"
          },
          "metadata": {}
        }
      ],
      "source": [
        "# Confusion Matrix\n",
        "plot_confusion_matrix(y_test, y_pred_svm, \"SVM\")"
      ]
    },
    {
      "cell_type": "markdown",
      "source": [
        "**Observations**:\n",
        "\n",
        "*   Class 0 and 4: Clear diagonal dominance; many correct predictions.\n",
        "\n",
        "*   Class 1: Split across 0 and 2; fewer clean hits.\n",
        "\n",
        "\n",
        "*   Class 2: Spread across 1, 2, and 3 (highest confusion among classes).\n",
        "\n",
        "*   Class 3: Noticeable drift toward 4.\n",
        "\n",
        "\n",
        "**Inference**:\n",
        "\n",
        "Captures extremes well; middle classes remain entangled. Even with margins, feature overlap in TF–IDF space leads to adjacent-class swaps rather than random errors."
      ],
      "metadata": {
        "id": "s4mTSbl88bVH"
      }
    },
    {
      "cell_type": "markdown",
      "metadata": {
        "id": "AXuK00YxtkiJ"
      },
      "source": [
        "### **NAIVE BAYES**"
      ]
    },
    {
      "cell_type": "code",
      "execution_count": 76,
      "metadata": {
        "colab": {
          "base_uri": "https://localhost:8080/"
        },
        "id": "-43mgX2TtkBB",
        "outputId": "92420386-fb70-4235-e192-eadf3f19427c"
      },
      "outputs": [
        {
          "output_type": "stream",
          "name": "stdout",
          "text": [
            "\n",
            "📊 Multinomial Naive Bayes Results:\n",
            "Accuracy: 0.44203821656050957\n",
            "Classification Report:\n",
            "               precision    recall  f1-score   support\n",
            "\n",
            "           1       0.55      0.63      0.59       329\n",
            "           2       0.38      0.47      0.42       329\n",
            "           3       0.33      0.21      0.26       302\n",
            "           4       0.38      0.25      0.31       288\n",
            "           5       0.49      0.61      0.54       322\n",
            "\n",
            "    accuracy                           0.44      1570\n",
            "   macro avg       0.43      0.43      0.42      1570\n",
            "weighted avg       0.43      0.44      0.43      1570\n",
            "\n"
          ]
        }
      ],
      "source": [
        "# Initialize and train the model\n",
        "nb = MultinomialNB()\n",
        "nb.fit(X_train_tfidf, y_train)\n",
        "\n",
        "# Predictions\n",
        "y_pred_nb = nb.predict(X_test_tfidf)\n",
        "\n",
        "# Evaluation\n",
        "print(\"\\n📊 Multinomial Naive Bayes Results:\")\n",
        "print(\"Accuracy:\", accuracy_score(y_test, y_pred_nb))\n",
        "print(\"Classification Report:\\n\", classification_report(y_test, y_pred_nb))"
      ]
    },
    {
      "cell_type": "code",
      "execution_count": 77,
      "metadata": {
        "colab": {
          "base_uri": "https://localhost:8080/",
          "height": 410
        },
        "id": "8LHcw64Nvljg",
        "outputId": "afec8109-6e60-41d1-a6b1-0c6af64bc9ab"
      },
      "outputs": [
        {
          "output_type": "display_data",
          "data": {
            "text/plain": [
              "<Figure size 500x400 with 1 Axes>"
            ],
            "image/png": "[encoded data removed]"
          },
          "metadata": {}
        }
      ],
      "source": [
        "# Confusion Matrix Visualization\n",
        "plot_confusion_matrix(y_test, y_pred_nb, \"Naïve Bayes\")"
      ]
    },
    {
      "cell_type": "markdown",
      "source": [
        "**Observations**:\n",
        "\n",
        "\n",
        "*   Class 1: Slightly stronger correctness vs. other models (more diagonal mass).\n",
        "\n",
        "*  Class 0 and 4: Good diagonal counts; similar to others.\n",
        "\n",
        "*   Class 2 and 3: Continued confusion, especially 3→4 and 2↔1/3.\n",
        "\n",
        "**Inference**:\n",
        "\n",
        "Probabilistic treatment of word counts gives a solid baseline, especially for clearly negative/positive language. Independence assumptions limit its ability to tease apart nuanced mid-scale sentiment."
      ],
      "metadata": {
        "id": "zEgRsSHIBWsW"
      }
    },
    {
      "cell_type": "markdown",
      "metadata": {
        "id": "ZP0jqmw3hYGl"
      },
      "source": [
        "**Comparison Summary**"
      ]
    },
    {
      "cell_type": "code",
      "execution_count": 78,
      "metadata": {
        "id": "6pdLyna1hrXs"
      },
      "outputs": [],
      "source": [
        "results = {\n",
        "    \"Model\": [\"Logistic Regression\", \"Random Forest\", \"SVM\", \"Naïve Bayes\"],\n",
        "    \"Accuracy\": [\n",
        "        accuracy_score(y_test, y_pred_lr),\n",
        "        accuracy_score(y_test, y_pred_rf),\n",
        "        accuracy_score(y_test, y_pred_svm),\n",
        "        accuracy_score(y_test, y_pred_nb)\n",
        "    ]\n",
        "}\n"
      ]
    },
    {
      "cell_type": "code",
      "execution_count": 79,
      "metadata": {
        "colab": {
          "base_uri": "https://localhost:8080/"
        },
        "id": "lkzTa1mejAzm",
        "outputId": "4b6b2613-c2bf-411e-98de-284103edc678"
      },
      "outputs": [
        {
          "output_type": "stream",
          "name": "stdout",
          "text": [
            "\n",
            "📈 Model Comparison Summary:\n",
            "                  Model  Accuracy\n",
            "0  Logistic Regression  0.433121\n",
            "1        Random Forest  0.421019\n",
            "2                  SVM  0.429936\n",
            "3          Naïve Bayes  0.442038\n"
          ]
        }
      ],
      "source": [
        "results_df = pd.DataFrame(results)\n",
        "print(\"\\n📈 Model Comparison Summary:\\n\", results_df)"
      ]
    },
    {
      "cell_type": "markdown",
      "source": [
        "# **FINE**-**TUNING**"
      ],
      "metadata": {
        "id": "idsdoa6XQ65a"
      }
    },
    {
      "cell_type": "code",
      "source": [
        "from sklearn.pipeline import Pipeline\n",
        "#from sklearn.model_selection import GridSearchCV, StratifiedKFold\n",
        "from sklearn.model_selection import RandomizedSearchCV\n",
        "from sklearn.metrics import classification_report, accuracy_score, f1_score\n",
        "from sklearn.feature_extraction.text import TfidfVectorizer\n",
        "\n",
        "from sklearn.linear_model import LogisticRegression\n",
        "from sklearn.svm import LinearSVC\n",
        "from sklearn.svm import SVC\n",
        "from sklearn.ensemble import RandomForestClassifier\n",
        "from sklearn.naive_bayes import MultinomialNB\n"
      ],
      "metadata": {
        "id": "Jlky4FslHmXU"
      },
      "execution_count": 80,
      "outputs": []
    },
    {
      "cell_type": "markdown",
      "source": [
        "**Logistic Regression**"
      ],
      "metadata": {
        "id": "WX2fY64vRY5r"
      }
    },
    {
      "cell_type": "code",
      "source": [
        "param_dist_lr = {\n",
        "    'C': [0.01, 0.1, 1, 10],\n",
        "    'solver': ['lbfgs', 'liblinear'],\n",
        "    'max_iter': [200, 500, 1000]\n",
        "}\n",
        "\n",
        "rand_lr = RandomizedSearchCV(\n",
        "    LogisticRegression(random_state=SEED),\n",
        "    param_distributions=param_dist_lr,\n",
        "    n_iter=5, cv=3, scoring='accuracy', n_jobs=-1, random_state=SEED\n",
        ")\n",
        "rand_lr.fit(X_train_tfidf, y_train)\n",
        "\n",
        "best_lr = rand_lr.best_estimator_\n",
        "y_pred_lr = best_lr.predict(X_test_tfidf)\n",
        "\n",
        "print(\"Best Params (LR):\", rand_lr.best_params_)\n",
        "print(\"Test Accuracy:\", best_lr.score(X_test_tfidf, y_test))\n",
        "print(\"\\n\", classification_report(y_test, y_pred_lr))"
      ],
      "metadata": {
        "colab": {
          "base_uri": "https://localhost:8080/"
        },
        "id": "1EcritsRxWtl",
        "outputId": "39646188-ed10-46f1-ded2-2d8552a5017f"
      },
      "execution_count": 81,
      "outputs": [
        {
          "output_type": "stream",
          "name": "stdout",
          "text": [
            "Best Params (LR): {'solver': 'lbfgs', 'max_iter': 1000, 'C': 1}\n",
            "Test Accuracy: 0.43312101910828027\n",
            "\n",
            "               precision    recall  f1-score   support\n",
            "\n",
            "           1       0.53      0.64      0.57       329\n",
            "           2       0.35      0.36      0.36       329\n",
            "           3       0.36      0.27      0.31       302\n",
            "           4       0.36      0.32      0.34       288\n",
            "           5       0.51      0.56      0.53       322\n",
            "\n",
            "    accuracy                           0.43      1570\n",
            "   macro avg       0.42      0.43      0.42      1570\n",
            "weighted avg       0.42      0.43      0.43      1570\n",
            "\n"
          ]
        }
      ]
    },
    {
      "cell_type": "markdown",
      "source": [
        "**SVM**"
      ],
      "metadata": {
        "id": "whlu5oqGRsbb"
      }
    },
    {
      "cell_type": "code",
      "source": [
        "param_dist_svm = {\n",
        "    'C': [0.1, 1, 10],\n",
        "    'kernel': ['linear', 'rbf'],\n",
        "    'gamma': ['scale', 'auto']\n",
        "}\n",
        "\n",
        "rand_svm = RandomizedSearchCV(\n",
        "    SVC(random_state=SEED),\n",
        "    param_distributions=param_dist_svm,\n",
        "    n_iter=4, cv=3, scoring='accuracy', n_jobs=-1, random_state=SEED\n",
        ")\n",
        "rand_svm.fit(X_train_tfidf, y_train)\n",
        "\n",
        "best_svm = rand_svm.best_estimator_\n",
        "y_pred_svm = best_svm.predict(X_test_tfidf)\n",
        "\n",
        "print(\"Best Params (SVM):\", rand_svm.best_params_)\n",
        "print(\"Test Accuracy:\", best_svm.score(X_test_tfidf, y_test))\n",
        "print(\"\\n\", classification_report(y_test, y_pred_svm))"
      ],
      "metadata": {
        "colab": {
          "base_uri": "https://localhost:8080/"
        },
        "id": "0aSnnex_RkTb",
        "outputId": "3e41297b-14e3-4e0a-a4dc-3ef30d8f32f4"
      },
      "execution_count": 82,
      "outputs": [
        {
          "output_type": "stream",
          "name": "stdout",
          "text": [
            "Best Params (SVM): {'kernel': 'rbf', 'gamma': 'scale', 'C': 10}\n",
            "Test Accuracy: 0.4229299363057325\n",
            "\n",
            "               precision    recall  f1-score   support\n",
            "\n",
            "           1       0.53      0.60      0.56       329\n",
            "           2       0.35      0.37      0.36       329\n",
            "           3       0.32      0.27      0.29       302\n",
            "           4       0.36      0.34      0.35       288\n",
            "           5       0.51      0.52      0.51       322\n",
            "\n",
            "    accuracy                           0.42      1570\n",
            "   macro avg       0.41      0.42      0.42      1570\n",
            "weighted avg       0.42      0.42      0.42      1570\n",
            "\n"
          ]
        }
      ]
    },
    {
      "cell_type": "markdown",
      "source": [
        "**Random Forest**"
      ],
      "metadata": {
        "id": "ODtmz-qXR3jh"
      }
    },
    {
      "cell_type": "code",
      "source": [
        "param_dist_rf = {\n",
        "    'n_estimators': [100, 200],\n",
        "    'max_depth': [10, 20, None],\n",
        "    'min_samples_split': [2, 5],\n",
        "    'min_samples_leaf': [1, 2]\n",
        "}\n",
        "\n",
        "rand_rf = RandomizedSearchCV(\n",
        "    RandomForestClassifier(random_state=SEED),\n",
        "    param_distributions=param_dist_rf,\n",
        "    n_iter=5, cv=3, scoring='accuracy', n_jobs=-1, random_state=SEED\n",
        ")\n",
        "rand_rf.fit(X_train_tfidf, y_train)\n",
        "\n",
        "best_rf = rand_rf.best_estimator_\n",
        "y_pred_rf = best_rf.predict(X_test_tfidf)\n",
        "\n",
        "print(\"Best Params (RF):\", rand_rf.best_params_)\n",
        "print(\"Test Accuracy:\", best_rf.score(X_test_tfidf, y_test))\n",
        "print(\"\\n\", classification_report(y_test, y_pred_rf))"
      ],
      "metadata": {
        "colab": {
          "base_uri": "https://localhost:8080/"
        },
        "id": "7H0csHnxRw48",
        "outputId": "3b6b3edb-07da-4e69-9d52-f286b0cdc502"
      },
      "execution_count": 85,
      "outputs": [
        {
          "output_type": "stream",
          "name": "stdout",
          "text": [
            "Best Params (RF): {'n_estimators': 200, 'min_samples_split': 5, 'min_samples_leaf': 1, 'max_depth': 20}\n",
            "Test Accuracy: 0.4171974522292994\n",
            "\n",
            "               precision    recall  f1-score   support\n",
            "\n",
            "           1       0.47      0.67      0.55       329\n",
            "           2       0.31      0.38      0.34       329\n",
            "           3       0.35      0.12      0.17       302\n",
            "           4       0.42      0.22      0.28       288\n",
            "           5       0.48      0.66      0.56       322\n",
            "\n",
            "    accuracy                           0.42      1570\n",
            "   macro avg       0.40      0.41      0.38      1570\n",
            "weighted avg       0.40      0.42      0.39      1570\n",
            "\n"
          ]
        }
      ]
    },
    {
      "cell_type": "markdown",
      "source": [
        "**Naive Bayes**"
      ],
      "metadata": {
        "id": "TQWCpXsUSDWS"
      }
    },
    {
      "cell_type": "code",
      "source": [
        "param_dist_nb = {'alpha': [0.01, 0.1, 0.5, 1.0, 2.0]}\n",
        "\n",
        "rand_nb = RandomizedSearchCV(\n",
        "    MultinomialNB(),\n",
        "    param_distributions=param_dist_nb,\n",
        "    n_iter=5, cv=3, scoring='accuracy', n_jobs=-1, random_state=SEED\n",
        ")\n",
        "rand_nb.fit(X_train_tfidf, y_train)\n",
        "\n",
        "best_nb = rand_nb.best_estimator_\n",
        "y_pred_nb = best_nb.predict(X_test_tfidf)\n",
        "\n",
        "print(\"Best Params (NB):\", rand_nb.best_params_)\n",
        "print(\"Test Accuracy:\", best_nb.score(X_test_tfidf, y_test))\n",
        "print(\"\\n\", classification_report(y_test, y_pred_nb))"
      ],
      "metadata": {
        "colab": {
          "base_uri": "https://localhost:8080/"
        },
        "id": "r2O6Y3XTR-jn",
        "outputId": "b315f3c6-7d23-4e8c-d71e-c66f15809f43"
      },
      "execution_count": 83,
      "outputs": [
        {
          "output_type": "stream",
          "name": "stdout",
          "text": [
            "Best Params (NB): {'alpha': 2.0}\n",
            "Test Accuracy: 0.4356687898089172\n",
            "\n",
            "               precision    recall  f1-score   support\n",
            "\n",
            "           1       0.55      0.61      0.58       329\n",
            "           2       0.37      0.52      0.43       329\n",
            "           3       0.36      0.18      0.24       302\n",
            "           4       0.36      0.19      0.25       288\n",
            "           5       0.48      0.63      0.54       322\n",
            "\n",
            "    accuracy                           0.44      1570\n",
            "   macro avg       0.42      0.43      0.41      1570\n",
            "weighted avg       0.42      0.44      0.41      1570\n",
            "\n"
          ]
        }
      ]
    },
    {
      "cell_type": "code",
      "source": [
        "results = {\n",
        "    \"Model\": [\n",
        "        \"Logistic Regression\",\n",
        "        \"Random Forest\",\n",
        "        \"Support Vector Machine\",\n",
        "        \"Naive Bayes\"\n",
        "    ],\n",
        "    \"Best Parameters\": [\n",
        "        rand_lr.best_params_,\n",
        "        rand_rf.best_params_,\n",
        "        rand_svm.best_params_,\n",
        "        rand_nb.best_params_\n",
        "    ],\n",
        "    \"Test Accuracy\": [\n",
        "        best_lr.score(X_test_tfidf, y_test),\n",
        "        best_rf.score(X_test_tfidf, y_test),\n",
        "        best_svm.score(X_test_tfidf, y_test),\n",
        "        best_nb.score(X_test_tfidf, y_test)\n",
        "    ]\n",
        "}"
      ],
      "metadata": {
        "id": "dMgv4zMCSHxv"
      },
      "execution_count": 86,
      "outputs": []
    },
    {
      "cell_type": "code",
      "source": [
        "# Create a dataframe for visualization\n",
        "results_df = pd.DataFrame(results)\n",
        "results_df = results_df.sort_values(by=\"Test Accuracy\", ascending=False).reset_index(drop=True)\n",
        "print(\"\\n🔍 Model Performance Summary:\\n\")\n",
        "display(results_df)"
      ],
      "metadata": {
        "colab": {
          "base_uri": "https://localhost:8080/",
          "height": 227
        },
        "id": "WSBvcAkqcmjt",
        "outputId": "02ef0d6c-11cc-4ff8-a144-a0c1937e9e71"
      },
      "execution_count": 87,
      "outputs": [
        {
          "output_type": "stream",
          "name": "stdout",
          "text": [
            "\n",
            "🔍 Model Performance Summary:\n",
            "\n"
          ]
        },
        {
          "output_type": "display_data",
          "data": {
            "text/plain": [
              "                    Model                                    Best Parameters  \\\n",
              "0             Naive Bayes                                     {'alpha': 2.0}   \n",
              "1     Logistic Regression      {'solver': 'lbfgs', 'max_iter': 1000, 'C': 1}   \n",
              "2  Support Vector Machine       {'kernel': 'rbf', 'gamma': 'scale', 'C': 10}   \n",
              "3           Random Forest  {'n_estimators': 200, 'min_samples_split': 5, ...   \n",
              "\n",
              "   Test Accuracy  \n",
              "0       0.435669  \n",
              "1       0.433121  \n",
              "2       0.422930  \n",
              "3       0.417197  "
            ],
            "text/html": [
              "\n",
              "  <div id=\"df-02c89d5b-cdfc-4d09-9f75-a2ad0d72e566\" class=\"colab-df-container\">\n",
              "    <div>\n",
              "<style scoped>\n",
              "    .dataframe tbody tr th:only-of-type {\n",
              "        vertical-align: middle;\n",
              "    }\n",
              "\n",
              "    .dataframe tbody tr th {\n",
              "        vertical-align: top;\n",
              "    }\n",
              "\n",
              "    .dataframe thead th {\n",
              "        text-align: right;\n",
              "    }\n",
              "</style>\n",
              "<table border=\"1\" class=\"dataframe\">\n",
              "  <thead>\n",
              "    <tr style=\"text-align: right;\">\n",
              "      <th></th>\n",
              "      <th>Model</th>\n",
              "      <th>Best Parameters</th>\n",
              "      <th>Test Accuracy</th>\n",
              "    </tr>\n",
              "  </thead>\n",
              "  <tbody>\n",
              "    <tr>\n",
              "      <th>0</th>\n",
              "      <td>Naive Bayes</td>\n",
              "      <td>{'alpha': 2.0}</td>\n",
              "      <td>0.435669</td>\n",
              "    </tr>\n",
              "    <tr>\n",
              "      <th>1</th>\n",
              "      <td>Logistic Regression</td>\n",
              "      <td>{'solver': 'lbfgs', 'max_iter': 1000, 'C': 1}</td>\n",
              "      <td>0.433121</td>\n",
              "    </tr>\n",
              "    <tr>\n",
              "      <th>2</th>\n",
              "      <td>Support Vector Machine</td>\n",
              "      <td>{'kernel': 'rbf', 'gamma': 'scale', 'C': 10}</td>\n",
              "      <td>0.422930</td>\n",
              "    </tr>\n",
              "    <tr>\n",
              "      <th>3</th>\n",
              "      <td>Random Forest</td>\n",
              "      <td>{'n_estimators': 200, 'min_samples_split': 5, ...</td>\n",
              "      <td>0.417197</td>\n",
              "    </tr>\n",
              "  </tbody>\n",
              "</table>\n",
              "</div>\n",
              "    <div class=\"colab-df-buttons\">\n",
              "\n",
              "  <div class=\"colab-df-container\">\n",
              "    <button class=\"colab-df-convert\" onclick=\"convertToInteractive('df-02c89d5b-cdfc-4d09-9f75-a2ad0d72e566')\"\n",
              "            title=\"Convert this dataframe to an interactive table.\"\n",
              "            style=\"display:none;\">\n",
              "\n",
              "  <svg xmlns=\"http://www.w3.org/2000/svg\" height=\"24px\" viewBox=\"0 -960 960 960\">\n",
              "    <path d=\"M120-120v-720h720v720H120Zm60-500h600v-160H180v160Zm220 220h160v-160H400v160Zm0 220h160v-160H400v160ZM180-400h160v-160H180v160Zm440 0h160v-160H620v160ZM180-180h160v-160H180v160Zm440 0h160v-160H620v160Z\"/>\n",
              "  </svg>\n",
              "    </button>\n",
              "\n",
              "  <style>\n",
              "    .colab-df-container {\n",
              "      display:flex;\n",
              "      gap: 12px;\n",
              "    }\n",
              "\n",
              "    .colab-df-convert {\n",
              "      background-color: #E8F0FE;\n",
              "      border: none;\n",
              "      border-radius: 50%;\n",
              "      cursor: pointer;\n",
              "      display: none;\n",
              "      fill: #1967D2;\n",
              "      height: 32px;\n",
              "      padding: 0 0 0 0;\n",
              "      width: 32px;\n",
              "    }\n",
              "\n",
              "    .colab-df-convert:hover {\n",
              "      background-color: #E2EBFA;\n",
              "      box-shadow: 0px 1px 2px rgba(60, 64, 67, 0.3), 0px 1px 3px 1px rgba(60, 64, 67, 0.15);\n",
              "      fill: #174EA6;\n",
              "    }\n",
              "\n",
              "    .colab-df-buttons div {\n",
              "      margin-bottom: 4px;\n",
              "    }\n",
              "\n",
              "    [theme=dark] .colab-df-convert {\n",
              "      background-color: #3B4455;\n",
              "      fill: #D2E3FC;\n",
              "    }\n",
              "\n",
              "    [theme=dark] .colab-df-convert:hover {\n",
              "      background-color: #434B5C;\n",
              "      box-shadow: 0px 1px 3px 1px rgba(0, 0, 0, 0.15);\n",
              "      filter: drop-shadow(0px 1px 2px rgba(0, 0, 0, 0.3));\n",
              "      fill: #FFFFFF;\n",
              "    }\n",
              "  </style>\n",
              "\n",
              "    <script>\n",
              "      const buttonEl =\n",
              "        document.querySelector('#df-02c89d5b-cdfc-4d09-9f75-a2ad0d72e566 button.colab-df-convert');\n",
              "      buttonEl.style.display =\n",
              "        google.colab.kernel.accessAllowed ? 'block' : 'none';\n",
              "\n",
              "      async function convertToInteractive(key) {\n",
              "        const element = document.querySelector('#df-02c89d5b-cdfc-4d09-9f75-a2ad0d72e566');\n",
              "        const dataTable =\n",
              "          await google.colab.kernel.invokeFunction('convertToInteractive',\n",
              "                                                    [key], {});\n",
              "        if (!dataTable) return;\n",
              "\n",
              "        const docLinkHtml = 'Like what you see? Visit the ' +\n",
              "          '<a target=\"_blank\" href=https://colab.research.google.com/notebooks/data_table.ipynb>data table notebook</a>'\n",
              "          + ' to learn more about interactive tables.';\n",
              "        element.innerHTML = '';\n",
              "        dataTable['output_type'] = 'display_data';\n",
              "        await google.colab.output.renderOutput(dataTable, element);\n",
              "        const docLink = document.createElement('div');\n",
              "        docLink.innerHTML = docLinkHtml;\n",
              "        element.appendChild(docLink);\n",
              "      }\n",
              "    </script>\n",
              "  </div>\n",
              "\n",
              "\n",
              "    <div id=\"df-7310b6c0-e741-4930-bda9-c692c5faa21a\">\n",
              "      <button class=\"colab-df-quickchart\" onclick=\"quickchart('df-7310b6c0-e741-4930-bda9-c692c5faa21a')\"\n",
              "                title=\"Suggest charts\"\n",
              "                style=\"display:none;\">\n",
              "\n",
              "<svg xmlns=\"http://www.w3.org/2000/svg\" height=\"24px\"viewBox=\"0 0 24 24\"\n",
              "     width=\"24px\">\n",
              "    <g>\n",
              "        <path d=\"M19 3H5c-1.1 0-2 .9-2 2v14c0 1.1.9 2 2 2h14c1.1 0 2-.9 2-2V5c0-1.1-.9-2-2-2zM9 17H7v-7h2v7zm4 0h-2V7h2v10zm4 0h-2v-4h2v4z\"/>\n",
              "    </g>\n",
              "</svg>\n",
              "      </button>\n",
              "\n",
              "<style>\n",
              "  .colab-df-quickchart {\n",
              "      --bg-color: #E8F0FE;\n",
              "      --fill-color: #1967D2;\n",
              "      --hover-bg-color: #E2EBFA;\n",
              "      --hover-fill-color: #174EA6;\n",
              "      --disabled-fill-color: #AAA;\n",
              "      --disabled-bg-color: #DDD;\n",
              "  }\n",
              "\n",
              "  [theme=dark] .colab-df-quickchart {\n",
              "      --bg-color: #3B4455;\n",
              "      --fill-color: #D2E3FC;\n",
              "      --hover-bg-color: #434B5C;\n",
              "      --hover-fill-color: #FFFFFF;\n",
              "      --disabled-bg-color: #3B4455;\n",
              "      --disabled-fill-color: #666;\n",
              "  }\n",
              "\n",
              "  .colab-df-quickchart {\n",
              "    background-color: var(--bg-color);\n",
              "    border: none;\n",
              "    border-radius: 50%;\n",
              "    cursor: pointer;\n",
              "    display: none;\n",
              "    fill: var(--fill-color);\n",
              "    height: 32px;\n",
              "    padding: 0;\n",
              "    width: 32px;\n",
              "  }\n",
              "\n",
              "  .colab-df-quickchart:hover {\n",
              "    background-color: var(--hover-bg-color);\n",
              "    box-shadow: 0 1px 2px rgba(60, 64, 67, 0.3), 0 1px 3px 1px rgba(60, 64, 67, 0.15);\n",
              "    fill: var(--button-hover-fill-color);\n",
              "  }\n",
              "\n",
              "  .colab-df-quickchart-complete:disabled,\n",
              "  .colab-df-quickchart-complete:disabled:hover {\n",
              "    background-color: var(--disabled-bg-color);\n",
              "    fill: var(--disabled-fill-color);\n",
              "    box-shadow: none;\n",
              "  }\n",
              "\n",
              "  .colab-df-spinner {\n",
              "    border: 2px solid var(--fill-color);\n",
              "    border-color: transparent;\n",
              "    border-bottom-color: var(--fill-color);\n",
              "    animation:\n",
              "      spin 1s steps(1) infinite;\n",
              "  }\n",
              "\n",
              "  @keyframes spin {\n",
              "    0% {\n",
              "      border-color: transparent;\n",
              "      border-bottom-color: var(--fill-color);\n",
              "      border-left-color: var(--fill-color);\n",
              "    }\n",
              "    20% {\n",
              "      border-color: transparent;\n",
              "      border-left-color: var(--fill-color);\n",
              "      border-top-color: var(--fill-color);\n",
              "    }\n",
              "    30% {\n",
              "      border-color: transparent;\n",
              "      border-left-color: var(--fill-color);\n",
              "      border-top-color: var(--fill-color);\n",
              "      border-right-color: var(--fill-color);\n",
              "    }\n",
              "    40% {\n",
              "      border-color: transparent;\n",
              "      border-right-color: var(--fill-color);\n",
              "      border-top-color: var(--fill-color);\n",
              "    }\n",
              "    60% {\n",
              "      border-color: transparent;\n",
              "      border-right-color: var(--fill-color);\n",
              "    }\n",
              "    80% {\n",
              "      border-color: transparent;\n",
              "      border-right-color: var(--fill-color);\n",
              "      border-bottom-color: var(--fill-color);\n",
              "    }\n",
              "    90% {\n",
              "      border-color: transparent;\n",
              "      border-bottom-color: var(--fill-color);\n",
              "    }\n",
              "  }\n",
              "</style>\n",
              "\n",
              "      <script>\n",
              "        async function quickchart(key) {\n",
              "          const quickchartButtonEl =\n",
              "            document.querySelector('#' + key + ' button');\n",
              "          quickchartButtonEl.disabled = true;  // To prevent multiple clicks.\n",
              "          quickchartButtonEl.classList.add('colab-df-spinner');\n",
              "          try {\n",
              "            const charts = await google.colab.kernel.invokeFunction(\n",
              "                'suggestCharts', [key], {});\n",
              "          } catch (error) {\n",
              "            console.error('Error during call to suggestCharts:', error);\n",
              "          }\n",
              "          quickchartButtonEl.classList.remove('colab-df-spinner');\n",
              "          quickchartButtonEl.classList.add('colab-df-quickchart-complete');\n",
              "        }\n",
              "        (() => {\n",
              "          let quickchartButtonEl =\n",
              "            document.querySelector('#df-7310b6c0-e741-4930-bda9-c692c5faa21a button');\n",
              "          quickchartButtonEl.style.display =\n",
              "            google.colab.kernel.accessAllowed ? 'block' : 'none';\n",
              "        })();\n",
              "      </script>\n",
              "    </div>\n",
              "\n",
              "  <div id=\"id_90fbe6a0-9871-4e8e-b368-c8adf1f8ca2d\">\n",
              "    <style>\n",
              "      .colab-df-generate {\n",
              "        background-color: #E8F0FE;\n",
              "        border: none;\n",
              "        border-radius: 50%;\n",
              "        cursor: pointer;\n",
              "        display: none;\n",
              "        fill: #1967D2;\n",
              "        height: 32px;\n",
              "        padding: 0 0 0 0;\n",
              "        width: 32px;\n",
              "      }\n",
              "\n",
              "      .colab-df-generate:hover {\n",
              "        background-color: #E2EBFA;\n",
              "        box-shadow: 0px 1px 2px rgba(60, 64, 67, 0.3), 0px 1px 3px 1px rgba(60, 64, 67, 0.15);\n",
              "        fill: #174EA6;\n",
              "      }\n",
              "\n",
              "      [theme=dark] .colab-df-generate {\n",
              "        background-color: #3B4455;\n",
              "        fill: #D2E3FC;\n",
              "      }\n",
              "\n",
              "      [theme=dark] .colab-df-generate:hover {\n",
              "        background-color: #434B5C;\n",
              "        box-shadow: 0px 1px 3px 1px rgba(0, 0, 0, 0.15);\n",
              "        filter: drop-shadow(0px 1px 2px rgba(0, 0, 0, 0.3));\n",
              "        fill: #FFFFFF;\n",
              "      }\n",
              "    </style>\n",
              "    <button class=\"colab-df-generate\" onclick=\"generateWithVariable('results_df')\"\n",
              "            title=\"Generate code using this dataframe.\"\n",
              "            style=\"display:none;\">\n",
              "\n",
              "  <svg xmlns=\"http://www.w3.org/2000/svg\" height=\"24px\"viewBox=\"0 0 24 24\"\n",
              "       width=\"24px\">\n",
              "    <path d=\"M7,19H8.4L18.45,9,17,7.55,7,17.6ZM5,21V16.75L18.45,3.32a2,2,0,0,1,2.83,0l1.4,1.43a1.91,1.91,0,0,1,.58,1.4,1.91,1.91,0,0,1-.58,1.4L9.25,21ZM18.45,9,17,7.55Zm-12,3A5.31,5.31,0,0,0,4.9,8.1,5.31,5.31,0,0,0,1,6.5,5.31,5.31,0,0,0,4.9,4.9,5.31,5.31,0,0,0,6.5,1,5.31,5.31,0,0,0,8.1,4.9,5.31,5.31,0,0,0,12,6.5,5.46,5.46,0,0,0,6.5,12Z\"/>\n",
              "  </svg>\n",
              "    </button>\n",
              "    <script>\n",
              "      (() => {\n",
              "      const buttonEl =\n",
              "        document.querySelector('#id_90fbe6a0-9871-4e8e-b368-c8adf1f8ca2d button.colab-df-generate');\n",
              "      buttonEl.style.display =\n",
              "        google.colab.kernel.accessAllowed ? 'block' : 'none';\n",
              "\n",
              "      buttonEl.onclick = () => {\n",
              "        google.colab.notebook.generateWithVariable('results_df');\n",
              "      }\n",
              "      })();\n",
              "    </script>\n",
              "  </div>\n",
              "\n",
              "    </div>\n",
              "  </div>\n"
            ],
            "application/vnd.google.colaboratory.intrinsic+json": {
              "type": "dataframe",
              "variable_name": "results_df",
              "summary": "{\n  \"name\": \"results_df\",\n  \"rows\": 4,\n  \"fields\": [\n    {\n      \"column\": \"Model\",\n      \"properties\": {\n        \"dtype\": \"string\",\n        \"num_unique_values\": 4,\n        \"samples\": [\n          \"Logistic Regression\",\n          \"Random Forest\",\n          \"Naive Bayes\"\n        ],\n        \"semantic_type\": \"\",\n        \"description\": \"\"\n      }\n    },\n    {\n      \"column\": \"Best Parameters\",\n      \"properties\": {\n        \"dtype\": \"object\",\n        \"semantic_type\": \"\",\n        \"description\": \"\"\n      }\n    },\n    {\n      \"column\": \"Test Accuracy\",\n      \"properties\": {\n        \"dtype\": \"number\",\n        \"std\": 0.008661405585619213,\n        \"min\": 0.4171974522292994,\n        \"max\": 0.4356687898089172,\n        \"num_unique_values\": 4,\n        \"samples\": [\n          0.43312101910828027,\n          0.4171974522292994,\n          0.4356687898089172\n        ],\n        \"semantic_type\": \"\",\n        \"description\": \"\"\n      }\n    }\n  ]\n}"
            }
          },
          "metadata": {}
        }
      ]
    },
    {
      "cell_type": "code",
      "source": [],
      "metadata": {
        "id": "E1yvjfaI6f3n"
      },
      "execution_count": null,
      "outputs": []
    },
    {
      "cell_type": "markdown",
      "source": [
        "# **MODEL TRAINING & EVALUATION**"
      ],
      "metadata": {
        "id": "HTdmId4Bljm2"
      }
    },
    {
      "cell_type": "markdown",
      "source": [
        "**For Imbalanced Dataset**"
      ],
      "metadata": {
        "id": "_bWcGb2slqe-"
      }
    },
    {
      "cell_type": "code",
      "source": [
        "from sklearn.linear_model import LogisticRegression\n",
        "from sklearn.ensemble import RandomForestClassifier\n",
        "from sklearn.svm import SVC\n",
        "from sklearn.naive_bayes import MultinomialNB\n",
        "from sklearn.metrics import accuracy_score, classification_report, confusion_matrix\n",
        "import matplotlib.pyplot as plt\n",
        "import seaborn as sns"
      ],
      "metadata": {
        "id": "0dvfTJuplvfE"
      },
      "execution_count": 88,
      "outputs": []
    },
    {
      "cell_type": "code",
      "source": [
        "# Helper function for confusion matrix visualization\n",
        "def plot_conf_matrix(y_true, y_pred, model_name):\n",
        "    cm = confusion_matrix(y_true, y_pred)\n",
        "    plt.figure(figsize=(6,5))\n",
        "    sns.heatmap(cm, annot=True, fmt='d', cmap='Blues')\n",
        "    plt.title(f'Confusion Matrix - {model_name}')\n",
        "    plt.xlabel('Predicted')\n",
        "    plt.ylabel('Actual')\n",
        "    plt.show()\n"
      ],
      "metadata": {
        "id": "4FMsbmCYl247"
      },
      "execution_count": 89,
      "outputs": []
    },
    {
      "cell_type": "markdown",
      "source": [
        "**Logistic Regression**"
      ],
      "metadata": {
        "id": "F_QvS_mxrEHc"
      }
    },
    {
      "cell_type": "code",
      "source": [
        "lr_model = LogisticRegression(random_state=SEED, max_iter=1000)\n",
        "lr_model.fit(X_train_i_tfidf, y_train_i)\n",
        "lr_preds = lr_model.predict(X_test_i_tfidf)\n",
        "\n",
        "print(\"📊 Logistic Regression Results:\")\n",
        "print(\"Accuracy:\", accuracy_score(y_test_i, lr_preds))\n",
        "print(\"Classification Report:\\n\", classification_report(y_test_i, lr_preds))"
      ],
      "metadata": {
        "colab": {
          "base_uri": "https://localhost:8080/"
        },
        "id": "BFGodik_l6ly",
        "outputId": "ed7b566a-a559-4f13-e782-05efaeda2175"
      },
      "execution_count": 92,
      "outputs": [
        {
          "output_type": "stream",
          "name": "stdout",
          "text": [
            "📊 Logistic Regression Results:\n",
            "Accuracy: 0.4212239583333333\n",
            "Classification Report:\n",
            "               precision    recall  f1-score   support\n",
            "\n",
            "           1       0.59      0.28      0.38       165\n",
            "           2       0.38      0.21      0.27       246\n",
            "           3       0.36      0.41      0.38       367\n",
            "           4       0.40      0.54      0.46       428\n",
            "           5       0.52      0.51      0.51       330\n",
            "\n",
            "    accuracy                           0.42      1536\n",
            "   macro avg       0.45      0.39      0.40      1536\n",
            "weighted avg       0.43      0.42      0.41      1536\n",
            "\n"
          ]
        }
      ]
    },
    {
      "cell_type": "code",
      "source": [
        "plot_conf_matrix(y_test_i, lr_preds, \"Logistic Regression\")\n"
      ],
      "metadata": {
        "colab": {
          "base_uri": "https://localhost:8080/",
          "height": 487
        },
        "id": "voOMkNDwo_pJ",
        "outputId": "41b1c1f2-815c-47b5-d808-4602d1008238"
      },
      "execution_count": 94,
      "outputs": [
        {
          "output_type": "display_data",
          "data": {
            "text/plain": [
              "<Figure size 600x500 with 2 Axes>"
            ],
            "image/png": "[encoded data removed]"
          },
          "metadata": {}
        }
      ]
    },
    {
      "cell_type": "markdown",
      "source": [
        "**Observations**:\n",
        "\n",
        "*   The model shows a moderate concentration of correct predictions along the diagonal (especially for classes 3, 4, and 5).\n",
        "\n",
        "*   However, there is noticeable class overlap — for instance, reviews of class 2 and 3 are often confused with each other.\n",
        "\n",
        "\n",
        "*   Class 1 (low ratings) has a slightly better recall compared to mid-level ratings (2–3), indicating better discrimination of negative reviews.\n",
        "\n",
        "\n",
        "**Inferences**:\n",
        "\n",
        "\n",
        "*   Logistic Regression tends to perform reasonably when there’s linear separability between features, but struggles with non-linear review patterns.\n",
        "\n",
        "*   The model can identify strong positive and negative sentiments but mixes up neutral or mid-range reviews, possibly because their textual tone overlaps.\n"
      ],
      "metadata": {
        "id": "tF4EUYyw7hIh"
      }
    },
    {
      "cell_type": "code",
      "source": [
        "rf_model = RandomForestClassifier(random_state=SEED)\n",
        "rf_model.fit(X_train_i_tfidf, y_train_i)\n",
        "rf_preds = rf_model.predict(X_test_i_tfidf)\n",
        "\n",
        "print(\"\\n📊 Random Forest Results:\")\n",
        "print(\"Accuracy:\", accuracy_score(y_test_i, rf_preds))\n",
        "print(\"Classification Report:\\n\", classification_report(y_test_i, rf_preds))\n",
        "plot_conf_matrix(y_test_i, rf_preds, \"Random Forest\")"
      ],
      "metadata": {
        "colab": {
          "base_uri": "https://localhost:8080/",
          "height": 765
        },
        "id": "sAaUfZBRoyOS",
        "outputId": "a0a1632d-2e40-4685-c620-2f6c1233f965"
      },
      "execution_count": 95,
      "outputs": [
        {
          "output_type": "stream",
          "name": "stdout",
          "text": [
            "\n",
            "📊 Random Forest Results:\n",
            "Accuracy: 0.4153645833333333\n",
            "Classification Report:\n",
            "               precision    recall  f1-score   support\n",
            "\n",
            "           1       0.61      0.27      0.38       165\n",
            "           2       0.38      0.15      0.21       246\n",
            "           3       0.36      0.40      0.38       367\n",
            "           4       0.38      0.56      0.45       428\n",
            "           5       0.51      0.52      0.52       330\n",
            "\n",
            "    accuracy                           0.42      1536\n",
            "   macro avg       0.45      0.38      0.39      1536\n",
            "weighted avg       0.43      0.42      0.40      1536\n",
            "\n"
          ]
        },
        {
          "output_type": "display_data",
          "data": {
            "text/plain": [
              "<Figure size 600x500 with 2 Axes>"
            ],
            "image/png": "[encoded data removed]"
          },
          "metadata": {}
        }
      ]
    },
    {
      "cell_type": "markdown",
      "source": [
        "**Observations**:\n",
        "\n",
        "\n",
        "\n",
        "*   Predictions are slightly more spread out across multiple classes compared to Logistic Regression.\n",
        "\n",
        "*   The higher rating classes (3, 4, 5) dominate the correct classifications, showing that the model is more sensitive to frequent or majority classes.\n",
        "\n",
        "\n",
        "*   Misclassifications between adjacent classes (e.g., 3↔4) are common, which suggests the boundaries between review sentiment intensities are not well separated.\n",
        "\n",
        "\n",
        "**Inferences**:\n",
        "\n",
        "\n",
        "*   Random Forest performs well in capturing non-linear relationships but might be biased toward more frequent classes in an imbalanced dataset.\n",
        "\n",
        "*   It provides good robustness but lacks fine-grained discrimination across all review levels without balancing or tuning for class weights.\n",
        "\n"
      ],
      "metadata": {
        "id": "hzB8TuoT9E0t"
      }
    },
    {
      "cell_type": "code",
      "source": [
        "svm_model = SVC(random_state=SEED)\n",
        "svm_model.fit(X_train_i_tfidf, y_train_i)\n",
        "svm_preds = svm_model.predict(X_test_i_tfidf)\n",
        "\n",
        "print(\"\\n📊 SVM Results:\")\n",
        "print(\"Accuracy:\", accuracy_score(y_test_i, svm_preds))\n",
        "print(\"Classification Report:\\n\", classification_report(y_test_i, svm_preds))\n"
      ],
      "metadata": {
        "colab": {
          "base_uri": "https://localhost:8080/"
        },
        "id": "CEk0aDPIo2e1",
        "outputId": "5fdb94a2-7a30-44a5-b245-a81a77482275"
      },
      "execution_count": 96,
      "outputs": [
        {
          "output_type": "stream",
          "name": "stdout",
          "text": [
            "\n",
            "📊 SVM Results:\n",
            "Accuracy: 0.4212239583333333\n",
            "Classification Report:\n",
            "               precision    recall  f1-score   support\n",
            "\n",
            "           1       0.76      0.19      0.30       165\n",
            "           2       0.38      0.13      0.19       246\n",
            "           3       0.34      0.44      0.38       367\n",
            "           4       0.40      0.62      0.49       428\n",
            "           5       0.58      0.48      0.52       330\n",
            "\n",
            "    accuracy                           0.42      1536\n",
            "   macro avg       0.49      0.37      0.38      1536\n",
            "weighted avg       0.46      0.42      0.40      1536\n",
            "\n"
          ]
        }
      ]
    },
    {
      "cell_type": "code",
      "source": [
        "plot_conf_matrix(y_test_i, svm_preds, \"Support Vector Machine\")"
      ],
      "metadata": {
        "colab": {
          "base_uri": "https://localhost:8080/",
          "height": 487
        },
        "id": "Ch8pjjUDpEAN",
        "outputId": "903bce02-83a6-4d28-eb31-b118ab963fd3"
      },
      "execution_count": 97,
      "outputs": [
        {
          "output_type": "display_data",
          "data": {
            "text/plain": [
              "<Figure size 600x500 with 2 Axes>"
            ],
            "image/png": "[encoded data removed]"
          },
          "metadata": {}
        }
      ]
    },
    {
      "cell_type": "markdown",
      "source": [
        "**Observations**:\n",
        "\n",
        "\n",
        "*   The SVM confusion matrix shows a clear diagonal trend, particularly strong for classes 3 and 4, indicating good precision for medium-to-high reviews.\n",
        "\n",
        "*   Lower rating classes (1 and 2) are frequently misclassified as 3 — indicating that the decision boundary is too tight or overlaps in those regions.\n",
        "\n",
        "*   Overall, SVM exhibits fewer scattered misclassifications than Random Forest.\n",
        "\n",
        "\n",
        "**Inferences**:\n",
        "\n",
        "*   SVM handles the non-linear separation in textual data better than Logistic Regression, especially with RBF kernel.\n",
        "\n",
        "*   However, due to class imbalance, it leans toward majority sentiment classes (neutral-to-positive).\n",
        "\n"
      ],
      "metadata": {
        "id": "B8YdeIxJ-NuG"
      }
    },
    {
      "cell_type": "code",
      "source": [
        "nb_model = MultinomialNB()\n",
        "nb_model.fit(X_train_i_tfidf, y_train_i)\n",
        "nb_preds = nb_model.predict(X_test_i_tfidf)\n",
        "\n",
        "print(\"\\n📊 Naive Bayes Results:\")\n",
        "print(\"Accuracy:\", accuracy_score(y_test_i, nb_preds))\n",
        "print(\"Classification Report:\\n\", classification_report(y_test_i, nb_preds))\n"
      ],
      "metadata": {
        "colab": {
          "base_uri": "https://localhost:8080/"
        },
        "id": "_raZ0Ga0o5eJ",
        "outputId": "a8ecef08-3910-4ce6-f121-039f1ef4c169"
      },
      "execution_count": 98,
      "outputs": [
        {
          "output_type": "stream",
          "name": "stdout",
          "text": [
            "\n",
            "📊 Naive Bayes Results:\n",
            "Accuracy: 0.3841145833333333\n",
            "Classification Report:\n",
            "               precision    recall  f1-score   support\n",
            "\n",
            "           1       0.81      0.08      0.14       165\n",
            "           2       0.39      0.06      0.10       246\n",
            "           3       0.34      0.40      0.37       367\n",
            "           4       0.36      0.71      0.48       428\n",
            "           5       0.53      0.34      0.42       330\n",
            "\n",
            "    accuracy                           0.38      1536\n",
            "   macro avg       0.49      0.32      0.30      1536\n",
            "weighted avg       0.44      0.38      0.34      1536\n",
            "\n"
          ]
        }
      ]
    },
    {
      "cell_type": "code",
      "source": [
        "plot_conf_matrix(y_test_i, nb_preds, \"Multinomial Naive Bayes\")"
      ],
      "metadata": {
        "colab": {
          "base_uri": "https://localhost:8080/",
          "height": 487
        },
        "id": "uz7gx6SQpFhI",
        "outputId": "9918e94f-2f60-4fb4-8cdc-67c6161022a9"
      },
      "execution_count": 99,
      "outputs": [
        {
          "output_type": "display_data",
          "data": {
            "text/plain": [
              "<Figure size 600x500 with 2 Axes>"
            ],
            "image/png": "[encoded data removed]"
          },
          "metadata": {}
        }
      ]
    },
    {
      "cell_type": "markdown",
      "source": [
        "**Observations**:\n",
        "\n",
        "\n",
        "*   The largest diagonal is class 3, with substantial mass also on class 2 and class 4; classes 0 and 1 are rarely captured correctly.\n",
        "\n",
        "*   Pronounced upward flow from 0–1 into 2–3; class 3 absorbs many borderline cases across classes.\n",
        "\n",
        "*   Compared to others, the matrix is even more concentrated around class 3, amplifying majority influence.\n",
        "\n",
        "**Inferences**:\n",
        "\n",
        "Likelihoods favor frequent token patterns, reinforcing head classes; rare-class language is underweighted by default smoothing."
      ],
      "metadata": {
        "id": "KquM-2Xx_Wme"
      }
    },
    {
      "cell_type": "code",
      "source": [
        "results_i = {\n",
        "    \"Model\": [\"Logistic Regression\", \"Random Forest\", \"SVM\", \"Naive Bayes\"],\n",
        "    \"Test Accuracy\": [\n",
        "        accuracy_score(y_test_i, lr_preds),\n",
        "        accuracy_score(y_test_i, rf_preds),\n",
        "        accuracy_score(y_test_i, svm_preds),\n",
        "        accuracy_score(y_test_i, nb_preds)\n",
        "    ]\n",
        "}\n",
        "\n",
        "df_results_i = pd.DataFrame(results_i)\n",
        "print(\"\\n🔍 Model Performance Summary (Imbalanced Dataset):\")\n",
        "print(df_results_i)"
      ],
      "metadata": {
        "colab": {
          "base_uri": "https://localhost:8080/"
        },
        "id": "XkyRhE9uoK4F",
        "outputId": "04f41538-317e-4466-e548-4adc1ac10e8c"
      },
      "execution_count": 100,
      "outputs": [
        {
          "output_type": "stream",
          "name": "stdout",
          "text": [
            "\n",
            "🔍 Model Performance Summary (Imbalanced Dataset):\n",
            "                 Model  Test Accuracy\n",
            "0  Logistic Regression       0.421224\n",
            "1        Random Forest       0.415365\n",
            "2                  SVM       0.421224\n",
            "3          Naive Bayes       0.384115\n"
          ]
        }
      ]
    },
    {
      "cell_type": "markdown",
      "source": [
        "# **FINE-TUNING**"
      ],
      "metadata": {
        "id": "_gZ6oEk102DG"
      }
    },
    {
      "cell_type": "markdown",
      "source": [
        "**For Imbalanced Dataset**"
      ],
      "metadata": {
        "id": "DNl-_ybH0-A0"
      }
    },
    {
      "cell_type": "code",
      "source": [
        "from sklearn.model_selection import RandomizedSearchCV\n",
        "from sklearn.metrics import accuracy_score, classification_report, confusion_matrix\n",
        "import pandas as pd\n",
        "import seaborn as sns\n",
        "import matplotlib.pyplot as plt"
      ],
      "metadata": {
        "id": "4J8E7h6RtJQ5"
      },
      "execution_count": 101,
      "outputs": []
    },
    {
      "cell_type": "code",
      "source": [
        "# helper function for evaluation\n",
        "\n",
        "def evaluate_model(model, X_test, y_test, model_name):\n",
        "    preds = model.predict(X_test)\n",
        "    acc = accuracy_score(y_test, preds)\n",
        "    print(f\"\\n📊 {model_name} Results:\")\n",
        "    print(\"Accuracy:\", acc)\n",
        "    print(\"Classification Report:\\n\", classification_report(y_test, preds))\n",
        "\n",
        "    return acc"
      ],
      "metadata": {
        "id": "wAw5Cb4B00yM"
      },
      "execution_count": 105,
      "outputs": []
    },
    {
      "cell_type": "code",
      "source": [
        "lr = LogisticRegression(random_state=SEED, max_iter=1000)\n",
        "param_lr = {\n",
        "    'C': [0.01, 0.1, 1, 10],\n",
        "    'solver': ['lbfgs', 'liblinear', 'saga']\n",
        "}\n",
        "\n",
        "lr_search = RandomizedSearchCV(\n",
        "    lr, param_distributions=param_lr, n_iter=5, cv=3,\n",
        "    scoring='accuracy', random_state=SEED, n_jobs=-1\n",
        ")\n",
        "lr_search.fit(X_train_i_tfidf, y_train_i)\n",
        "\n",
        "best_lr = lr_search.best_estimator_\n",
        "acc_lr = evaluate_model(best_lr, X_test_i_tfidf, y_test_i, \"Logistic Regression\")\n",
        "print(\"Best Parameters:\", lr_search.best_params_)"
      ],
      "metadata": {
        "colab": {
          "base_uri": "https://localhost:8080/"
        },
        "id": "SL2p3Etx2UDe",
        "outputId": "805ae5c7-6010-47fa-ddfa-8bd003402d90"
      },
      "execution_count": 106,
      "outputs": [
        {
          "output_type": "stream",
          "name": "stdout",
          "text": [
            "\n",
            "📊 Logistic Regression Results:\n",
            "Accuracy: 0.4244791666666667\n",
            "Classification Report:\n",
            "               precision    recall  f1-score   support\n",
            "\n",
            "           1       0.59      0.29      0.39       165\n",
            "           2       0.39      0.21      0.27       246\n",
            "           3       0.36      0.42      0.39       367\n",
            "           4       0.40      0.54      0.46       428\n",
            "           5       0.52      0.51      0.51       330\n",
            "\n",
            "    accuracy                           0.42      1536\n",
            "   macro avg       0.45      0.39      0.41      1536\n",
            "weighted avg       0.44      0.42      0.42      1536\n",
            "\n",
            "Best Parameters: {'solver': 'saga', 'C': 1}\n"
          ]
        }
      ]
    },
    {
      "cell_type": "code",
      "source": [
        "rf = RandomForestClassifier(random_state=SEED)\n",
        "param_rf = {\n",
        "    'n_estimators': [100, 200, 300],\n",
        "    'max_depth': [None, 10, 20, 30],\n",
        "    'min_samples_split': [2, 5, 10],\n",
        "    'min_samples_leaf': [1, 2, 4],\n",
        "    'max_features': ['sqrt', 'log2']\n",
        "}\n",
        "\n",
        "rf_search = RandomizedSearchCV(\n",
        "    rf, param_distributions=param_rf, n_iter=10, cv=3,\n",
        "    scoring='accuracy', random_state=SEED, n_jobs=-1\n",
        ")\n",
        "rf_search.fit(X_train_i_tfidf, y_train_i)\n",
        "\n",
        "best_rf = rf_search.best_estimator_\n",
        "acc_rf = evaluate_model(best_rf, X_test_i_tfidf, y_test_i, \"Random Forest\")\n",
        "print(\"Best Parameters:\", rf_search.best_params_)"
      ],
      "metadata": {
        "colab": {
          "base_uri": "https://localhost:8080/"
        },
        "id": "_5UU0BvI2i36",
        "outputId": "2460973d-1c61-49a5-e2ac-e58a18ade8a8"
      },
      "execution_count": 107,
      "outputs": [
        {
          "output_type": "stream",
          "name": "stdout",
          "text": [
            "\n",
            "📊 Random Forest Results:\n",
            "Accuracy: 0.4153645833333333\n",
            "Classification Report:\n",
            "               precision    recall  f1-score   support\n",
            "\n",
            "           1       0.64      0.25      0.36       165\n",
            "           2       0.45      0.15      0.22       246\n",
            "           3       0.35      0.40      0.37       367\n",
            "           4       0.38      0.58      0.46       428\n",
            "           5       0.52      0.49      0.50       330\n",
            "\n",
            "    accuracy                           0.42      1536\n",
            "   macro avg       0.47      0.38      0.39      1536\n",
            "weighted avg       0.44      0.42      0.40      1536\n",
            "\n",
            "Best Parameters: {'n_estimators': 100, 'min_samples_split': 10, 'min_samples_leaf': 2, 'max_features': 'sqrt', 'max_depth': None}\n"
          ]
        }
      ]
    },
    {
      "cell_type": "code",
      "source": [
        "svm = SVC(random_state=SEED)\n",
        "param_svm = {\n",
        "    'C': [0.1, 1, 10],\n",
        "    'kernel': ['linear', 'rbf', 'poly'],\n",
        "    'gamma': ['scale', 'auto']\n",
        "}\n",
        "\n",
        "svm_search = RandomizedSearchCV(\n",
        "    svm, param_distributions=param_svm, n_iter=6, cv=3,\n",
        "    scoring='accuracy', random_state=SEED, n_jobs=-1\n",
        ")\n",
        "svm_search.fit(X_train_i_tfidf, y_train_i)\n",
        "\n",
        "best_svm = svm_search.best_estimator_\n",
        "acc_svm = evaluate_model(best_svm, X_test_i_tfidf, y_test_i, \"Support Vector Machine\")\n",
        "print(\"Best Parameters:\", svm_search.best_params_)"
      ],
      "metadata": {
        "colab": {
          "base_uri": "https://localhost:8080/"
        },
        "id": "OmePtCld3PQp",
        "outputId": "e2cf19b4-1988-4228-d255-b42d0102b104"
      },
      "execution_count": 108,
      "outputs": [
        {
          "output_type": "stream",
          "name": "stdout",
          "text": [
            "\n",
            "📊 Support Vector Machine Results:\n",
            "Accuracy: 0.412109375\n",
            "Classification Report:\n",
            "               precision    recall  f1-score   support\n",
            "\n",
            "           1       0.56      0.29      0.38       165\n",
            "           2       0.37      0.29      0.32       246\n",
            "           3       0.35      0.40      0.37       367\n",
            "           4       0.39      0.49      0.43       428\n",
            "           5       0.51      0.48      0.50       330\n",
            "\n",
            "    accuracy                           0.41      1536\n",
            "   macro avg       0.44      0.39      0.40      1536\n",
            "weighted avg       0.42      0.41      0.41      1536\n",
            "\n",
            "Best Parameters: {'kernel': 'rbf', 'gamma': 'scale', 'C': 10}\n"
          ]
        }
      ]
    },
    {
      "cell_type": "code",
      "source": [
        "nb = MultinomialNB()\n",
        "param_nb = {\n",
        "    'alpha': [0.1, 0.5, 1.0, 2.0, 5.0]\n",
        "}\n",
        "\n",
        "nb_search = RandomizedSearchCV(\n",
        "    nb, param_distributions=param_nb, n_iter=5, cv=3,\n",
        "    scoring='accuracy', random_state=SEED, n_jobs=-1\n",
        ")\n",
        "nb_search.fit(X_train_i_tfidf, y_train_i)\n",
        "\n",
        "best_nb = nb_search.best_estimator_\n",
        "acc_nb = evaluate_model(best_nb, X_test_i_tfidf, y_test_i, \"Naive Bayes\")\n",
        "print(\"Best Parameters:\", nb_search.best_params_)"
      ],
      "metadata": {
        "colab": {
          "base_uri": "https://localhost:8080/"
        },
        "id": "OnuqjC4C3g8_",
        "outputId": "6f13148a-705e-46de-99df-e6cd44d73e7e"
      },
      "execution_count": 109,
      "outputs": [
        {
          "output_type": "stream",
          "name": "stdout",
          "text": [
            "\n",
            "📊 Naive Bayes Results:\n",
            "Accuracy: 0.4075520833333333\n",
            "Classification Report:\n",
            "               precision    recall  f1-score   support\n",
            "\n",
            "           1       0.56      0.28      0.37       165\n",
            "           2       0.33      0.19      0.24       246\n",
            "           3       0.36      0.41      0.39       367\n",
            "           4       0.39      0.54      0.45       428\n",
            "           5       0.50      0.45      0.48       330\n",
            "\n",
            "    accuracy                           0.41      1536\n",
            "   macro avg       0.43      0.38      0.39      1536\n",
            "weighted avg       0.42      0.41      0.40      1536\n",
            "\n",
            "Best Parameters: {'alpha': 0.1}\n"
          ]
        }
      ]
    },
    {
      "cell_type": "code",
      "source": [
        "results_i_tuned = pd.DataFrame({\n",
        "    \"Model\": [\"Naive Bayes\", \"Logistic Regression\", \"Support Vector Machine\", \"Random Forest\"],\n",
        "    \"Best Parameters\": [\n",
        "        nb_search.best_params_,\n",
        "        lr_search.best_params_,\n",
        "        svm_search.best_params_,\n",
        "        rf_search.best_params_\n",
        "    ],\n",
        "    \"Test Accuracy\": [acc_nb, acc_lr, acc_svm, acc_rf]\n",
        "})\n",
        "\n",
        "print(\"\\n🔍 Fine-Tuned Model Performance Summary (Imbalanced Dataset):\")\n",
        "print(results_i_tuned)"
      ],
      "metadata": {
        "colab": {
          "base_uri": "https://localhost:8080/"
        },
        "id": "MkN14Q4o3-ek",
        "outputId": "51bba72e-d9b0-43e3-8c34-ecf8907e88ae"
      },
      "execution_count": 110,
      "outputs": [
        {
          "output_type": "stream",
          "name": "stdout",
          "text": [
            "\n",
            "🔍 Fine-Tuned Model Performance Summary (Imbalanced Dataset):\n",
            "                    Model                                    Best Parameters  \\\n",
            "0             Naive Bayes                                     {'alpha': 0.1}   \n",
            "1     Logistic Regression                         {'solver': 'saga', 'C': 1}   \n",
            "2  Support Vector Machine       {'kernel': 'rbf', 'gamma': 'scale', 'C': 10}   \n",
            "3           Random Forest  {'n_estimators': 100, 'min_samples_split': 10,...   \n",
            "\n",
            "   Test Accuracy  \n",
            "0       0.407552  \n",
            "1       0.424479  \n",
            "2       0.412109  \n",
            "3       0.415365  \n"
          ]
        }
      ]
    },
    {
      "cell_type": "code",
      "source": [],
      "metadata": {
        "id": "ea4LYDQB4V1o"
      },
      "execution_count": null,
      "outputs": []
    }
  ],
  "metadata": {
    "colab": {
      "provenance": [],
      "authorship_tag": "ABX9TyOxtTil38lnGxLP09SKnbcm",
      "include_colab_link": true
    },
    "kernelspec": {
      "display_name": "Python 3",
      "name": "python3"
    },
    "language_info": {
      "name": "python"
    }
  },
  "nbformat": 4,
  "nbformat_minor": 0
}